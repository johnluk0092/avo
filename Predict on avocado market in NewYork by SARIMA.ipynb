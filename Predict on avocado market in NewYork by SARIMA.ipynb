{
 "cells": [
  {
   "cell_type": "code",
   "execution_count": 1,
   "metadata": {
    "colab": {
     "base_uri": "https://localhost:8080/"
    },
    "executionInfo": {
     "elapsed": 12398,
     "status": "ok",
     "timestamp": 1652590598772,
     "user": {
      "displayName": "Son Luc Cam",
      "userId": "01778600856537737107"
     },
     "user_tz": -420
    },
    "id": "l71FiXQeXRLd",
    "outputId": "2d6d6c55-27e2-40be-8b3a-c76e8edc8ef6"
   },
   "outputs": [
    {
     "name": "stdout",
     "output_type": "stream",
     "text": [
      "Collecting pmdarima\n",
      "  Downloading pmdarima-1.8.5-cp38-cp38-win_amd64.whl (602 kB)\n",
      "     -------------------------------------- 602.3/602.3 KB 2.4 MB/s eta 0:00:00\n",
      "Requirement already satisfied: pandas>=0.19 in c:\\programdata\\anaconda3\\envs\\venai_1\\lib\\site-packages (from pmdarima) (1.4.1)\n",
      "Collecting Cython!=0.29.18,>=0.29\n",
      "  Downloading Cython-0.29.28-py2.py3-none-any.whl (983 kB)\n",
      "     -------------------------------------- 983.8/983.8 KB 4.4 MB/s eta 0:00:00\n",
      "Requirement already satisfied: numpy>=1.19.3 in c:\\programdata\\anaconda3\\envs\\venai_1\\lib\\site-packages (from pmdarima) (1.22.2)\n",
      "Requirement already satisfied: urllib3 in c:\\programdata\\anaconda3\\envs\\venai_1\\lib\\site-packages (from pmdarima) (1.26.8)\n",
      "Requirement already satisfied: setuptools!=50.0.0,>=38.6.0 in c:\\programdata\\anaconda3\\envs\\venai_1\\lib\\site-packages (from pmdarima) (62.0.0)\n",
      "Requirement already satisfied: joblib>=0.11 in c:\\programdata\\anaconda3\\envs\\venai_1\\lib\\site-packages (from pmdarima) (1.1.0)\n",
      "Collecting statsmodels!=0.12.0,>=0.11\n",
      "  Downloading statsmodels-0.13.2-cp38-cp38-win_amd64.whl (9.1 MB)\n",
      "     ---------------------------------------- 9.1/9.1 MB 4.6 MB/s eta 0:00:00\n",
      "Requirement already satisfied: scipy>=1.3.2 in c:\\programdata\\anaconda3\\envs\\venai_1\\lib\\site-packages (from pmdarima) (1.8.0)\n",
      "Requirement already satisfied: scikit-learn>=0.22 in c:\\programdata\\anaconda3\\envs\\venai_1\\lib\\site-packages (from pmdarima) (1.0.2)\n",
      "Requirement already satisfied: python-dateutil>=2.8.1 in c:\\programdata\\anaconda3\\envs\\venai_1\\lib\\site-packages (from pandas>=0.19->pmdarima) (2.8.2)\n",
      "Requirement already satisfied: pytz>=2020.1 in c:\\programdata\\anaconda3\\envs\\venai_1\\lib\\site-packages (from pandas>=0.19->pmdarima) (2021.3)\n",
      "Requirement already satisfied: threadpoolctl>=2.0.0 in c:\\programdata\\anaconda3\\envs\\venai_1\\lib\\site-packages (from scikit-learn>=0.22->pmdarima) (3.1.0)\n",
      "Collecting patsy>=0.5.2\n",
      "  Downloading patsy-0.5.2-py2.py3-none-any.whl (233 kB)\n",
      "     -------------------------------------- 233.7/233.7 KB 2.0 MB/s eta 0:00:00\n",
      "Requirement already satisfied: packaging>=21.3 in c:\\programdata\\anaconda3\\envs\\venai_1\\lib\\site-packages (from statsmodels!=0.12.0,>=0.11->pmdarima) (21.3)\n",
      "Requirement already satisfied: pyparsing!=3.0.5,>=2.0.2 in c:\\programdata\\anaconda3\\envs\\venai_1\\lib\\site-packages (from packaging>=21.3->statsmodels!=0.12.0,>=0.11->pmdarima) (3.0.4)\n",
      "Requirement already satisfied: six in c:\\programdata\\anaconda3\\envs\\venai_1\\lib\\site-packages (from patsy>=0.5.2->statsmodels!=0.12.0,>=0.11->pmdarima) (1.16.0)\n",
      "Installing collected packages: patsy, Cython, statsmodels, pmdarima\n",
      "Successfully installed Cython-0.29.28 patsy-0.5.2 pmdarima-1.8.5 statsmodels-0.13.2\n"
     ]
    },
    {
     "name": "stderr",
     "output_type": "stream",
     "text": [
      "WARNING: You are using pip version 22.0.4; however, version 22.1 is available.\n",
      "You should consider upgrading via the 'C:\\ProgramData\\Anaconda3\\envs\\venai_1\\python.exe -m pip install --upgrade pip' command.\n"
     ]
    }
   ],
   "source": [
    "!pip install pmdarima"
   ]
  },
  {
   "cell_type": "code",
   "execution_count": 2,
   "metadata": {
    "colab": {
     "base_uri": "https://localhost:8080/"
    },
    "executionInfo": {
     "elapsed": 3332,
     "status": "ok",
     "timestamp": 1652590602097,
     "user": {
      "displayName": "Son Luc Cam",
      "userId": "01778600856537737107"
     },
     "user_tz": -420
    },
    "id": "0dnF18T2-ylA",
    "outputId": "79c1f35a-e0ab-4ead-8273-db5fb0d0a68e"
   },
   "outputs": [
    {
     "name": "stdout",
     "output_type": "stream",
     "text": [
      "Collecting stldecompose\n",
      "  Downloading stldecompose-0.0.5-py2.py3-none-any.whl (6.9 kB)\n",
      "Requirement already satisfied: matplotlib in c:\\programdata\\anaconda3\\envs\\venai_1\\lib\\site-packages (from stldecompose) (3.5.1)\n",
      "Requirement already satisfied: pandas in c:\\programdata\\anaconda3\\envs\\venai_1\\lib\\site-packages (from stldecompose) (1.4.1)\n",
      "Requirement already satisfied: statsmodels in c:\\programdata\\anaconda3\\envs\\venai_1\\lib\\site-packages (from stldecompose) (0.13.2)\n",
      "Requirement already satisfied: numpy in c:\\programdata\\anaconda3\\envs\\venai_1\\lib\\site-packages (from stldecompose) (1.22.2)\n",
      "Requirement already satisfied: scipy in c:\\programdata\\anaconda3\\envs\\venai_1\\lib\\site-packages (from stldecompose) (1.8.0)\n",
      "Requirement already satisfied: pyparsing>=2.2.1 in c:\\programdata\\anaconda3\\envs\\venai_1\\lib\\site-packages (from matplotlib->stldecompose) (3.0.4)\n",
      "Requirement already satisfied: cycler>=0.10 in c:\\programdata\\anaconda3\\envs\\venai_1\\lib\\site-packages (from matplotlib->stldecompose) (0.11.0)\n",
      "Requirement already satisfied: packaging>=20.0 in c:\\programdata\\anaconda3\\envs\\venai_1\\lib\\site-packages (from matplotlib->stldecompose) (21.3)\n",
      "Requirement already satisfied: kiwisolver>=1.0.1 in c:\\programdata\\anaconda3\\envs\\venai_1\\lib\\site-packages (from matplotlib->stldecompose) (1.3.2)\n",
      "Requirement already satisfied: fonttools>=4.22.0 in c:\\programdata\\anaconda3\\envs\\venai_1\\lib\\site-packages (from matplotlib->stldecompose) (4.29.1)\n",
      "Requirement already satisfied: python-dateutil>=2.7 in c:\\programdata\\anaconda3\\envs\\venai_1\\lib\\site-packages (from matplotlib->stldecompose) (2.8.2)\n"
     ]
    },
    {
     "name": "stderr",
     "output_type": "stream",
     "text": [
      "WARNING: You are using pip version 22.0.4; however, version 22.1 is available.\n",
      "You should consider upgrading via the 'C:\\ProgramData\\Anaconda3\\envs\\venai_1\\python.exe -m pip install --upgrade pip' command.\n"
     ]
    },
    {
     "name": "stdout",
     "output_type": "stream",
     "text": [
      "Requirement already satisfied: pillow>=6.2.0 in c:\\programdata\\anaconda3\\envs\\venai_1\\lib\\site-packages (from matplotlib->stldecompose) (9.0.1)\n",
      "Requirement already satisfied: pytz>=2020.1 in c:\\programdata\\anaconda3\\envs\\venai_1\\lib\\site-packages (from pandas->stldecompose) (2021.3)\n",
      "Requirement already satisfied: patsy>=0.5.2 in c:\\programdata\\anaconda3\\envs\\venai_1\\lib\\site-packages (from statsmodels->stldecompose) (0.5.2)\n",
      "Requirement already satisfied: six in c:\\programdata\\anaconda3\\envs\\venai_1\\lib\\site-packages (from patsy>=0.5.2->statsmodels->stldecompose) (1.16.0)\n",
      "Installing collected packages: stldecompose\n",
      "Successfully installed stldecompose-0.0.5\n"
     ]
    }
   ],
   "source": [
    "!pip install stldecompose"
   ]
  },
  {
   "cell_type": "code",
   "execution_count": 3,
   "metadata": {
    "colab": {
     "base_uri": "https://localhost:8080/"
    },
    "executionInfo": {
     "elapsed": 4837,
     "status": "ok",
     "timestamp": 1652590615190,
     "user": {
      "displayName": "Son Luc Cam",
      "userId": "01778600856537737107"
     },
     "user_tz": -420
    },
    "id": "2Cl5fe6pOdA3",
    "outputId": "d495414a-e337-46d3-c8a6-ffcc148b24fb"
   },
   "outputs": [
    {
     "name": "stdout",
     "output_type": "stream",
     "text": [
      "Requirement already satisfied: statsmodels in c:\\programdata\\anaconda3\\envs\\venai_1\\lib\\site-packages (0.13.2)\n",
      "Requirement already satisfied: packaging>=21.3 in c:\\programdata\\anaconda3\\envs\\venai_1\\lib\\site-packages (from statsmodels) (21.3)\n",
      "Requirement already satisfied: scipy>=1.3 in c:\\programdata\\anaconda3\\envs\\venai_1\\lib\\site-packages (from statsmodels) (1.8.0)\n",
      "Requirement already satisfied: numpy>=1.17 in c:\\programdata\\anaconda3\\envs\\venai_1\\lib\\site-packages (from statsmodels) (1.22.2)\n",
      "Requirement already satisfied: pandas>=0.25 in c:\\programdata\\anaconda3\\envs\\venai_1\\lib\\site-packages (from statsmodels) (1.4.1)\n",
      "Requirement already satisfied: patsy>=0.5.2 in c:\\programdata\\anaconda3\\envs\\venai_1\\lib\\site-packages (from statsmodels) (0.5.2)\n",
      "Requirement already satisfied: pyparsing!=3.0.5,>=2.0.2 in c:\\programdata\\anaconda3\\envs\\venai_1\\lib\\site-packages (from packaging>=21.3->statsmodels) (3.0.4)\n",
      "Requirement already satisfied: pytz>=2020.1 in c:\\programdata\\anaconda3\\envs\\venai_1\\lib\\site-packages (from pandas>=0.25->statsmodels) (2021.3)\n",
      "Requirement already satisfied: python-dateutil>=2.8.1 in c:\\programdata\\anaconda3\\envs\\venai_1\\lib\\site-packages (from pandas>=0.25->statsmodels) (2.8.2)\n",
      "Requirement already satisfied: six in c:\\programdata\\anaconda3\\envs\\venai_1\\lib\\site-packages (from patsy>=0.5.2->statsmodels) (1.16.0)\n"
     ]
    },
    {
     "name": "stderr",
     "output_type": "stream",
     "text": [
      "WARNING: You are using pip version 22.0.4; however, version 22.1 is available.\n",
      "You should consider upgrading via the 'C:\\ProgramData\\Anaconda3\\envs\\venai_1\\python.exe -m pip install --upgrade pip' command.\n"
     ]
    }
   ],
   "source": [
    "!pip install statsmodels"
   ]
  },
  {
   "cell_type": "markdown",
   "metadata": {
    "id": "k7lQvWhMgqrd"
   },
   "source": [
    "# Part I) Import Library"
   ]
  },
  {
   "cell_type": "code",
   "execution_count": 4,
   "metadata": {
    "executionInfo": {
     "elapsed": 874,
     "status": "ok",
     "timestamp": 1652590809144,
     "user": {
      "displayName": "Son Luc Cam",
      "userId": "01778600856537737107"
     },
     "user_tz": -420
    },
    "id": "YR_6dYrPX9Hq"
   },
   "outputs": [],
   "source": [
    "import pandas as pd\n",
    "import numpy as np\n",
    "import matplotlib.pyplot as plt\n",
    "import seaborn as sns\n",
    "from statsmodels.tsa.statespace.sarimax import SARIMAX \n",
    "from statsmodels.tsa.seasonal import seasonal_decompose"
   ]
  },
  {
   "cell_type": "code",
   "execution_count": 5,
   "metadata": {
    "executionInfo": {
     "elapsed": 8,
     "status": "ok",
     "timestamp": 1652590809145,
     "user": {
      "displayName": "Son Luc Cam",
      "userId": "01778600856537737107"
     },
     "user_tz": -420
    },
    "id": "3MSa64j9R3PT"
   },
   "outputs": [],
   "source": [
    "from numpy import sqrt\n",
    "from statsmodels.tsa.stattools import acf, pacf\n",
    "from sklearn.metrics import mean_absolute_percentage_error\n",
    "from sklearn.metrics import mean_absolute_error\n",
    "from sklearn.metrics import mean_squared_error"
   ]
  },
  {
   "cell_type": "code",
   "execution_count": 6,
   "metadata": {
    "executionInfo": {
     "elapsed": 7,
     "status": "ok",
     "timestamp": 1652590809146,
     "user": {
      "displayName": "Son Luc Cam",
      "userId": "01778600856537737107"
     },
     "user_tz": -420
    },
    "id": "vRxC-jX2CyTa"
   },
   "outputs": [],
   "source": [
    "from statsmodels.graphics.tsaplots import plot_acf\n",
    "from statsmodels.graphics.tsaplots import plot_pacf"
   ]
  },
  {
   "cell_type": "markdown",
   "metadata": {
    "id": "-SQlka9Fgp_Q"
   },
   "source": [
    "# Part II) Import Dataset"
   ]
  },
  {
   "cell_type": "code",
   "execution_count": 7,
   "metadata": {
    "colab": {
     "base_uri": "https://localhost:8080/",
     "height": 424
    },
    "executionInfo": {
     "elapsed": 554,
     "status": "ok",
     "timestamp": 1652590809694,
     "user": {
      "displayName": "Son Luc Cam",
      "userId": "01778600856537737107"
     },
     "user_tz": -420
    },
    "id": "3A1ao29edtuB",
    "outputId": "65bbc826-c207-4838-ccfb-76f65831f7d2"
   },
   "outputs": [
    {
     "data": {
      "text/html": [
       "<div>\n",
       "<style scoped>\n",
       "    .dataframe tbody tr th:only-of-type {\n",
       "        vertical-align: middle;\n",
       "    }\n",
       "\n",
       "    .dataframe tbody tr th {\n",
       "        vertical-align: top;\n",
       "    }\n",
       "\n",
       "    .dataframe thead th {\n",
       "        text-align: right;\n",
       "    }\n",
       "</style>\n",
       "<table border=\"1\" class=\"dataframe\">\n",
       "  <thead>\n",
       "    <tr style=\"text-align: right;\">\n",
       "      <th></th>\n",
       "      <th>Date</th>\n",
       "      <th>AveragePrice</th>\n",
       "      <th>Total Volume</th>\n",
       "      <th>4046</th>\n",
       "      <th>4225</th>\n",
       "      <th>4770</th>\n",
       "      <th>Total Bags</th>\n",
       "      <th>Small Bags</th>\n",
       "      <th>Large Bags</th>\n",
       "      <th>XLarge Bags</th>\n",
       "      <th>type</th>\n",
       "      <th>year</th>\n",
       "      <th>region</th>\n",
       "    </tr>\n",
       "  </thead>\n",
       "  <tbody>\n",
       "    <tr>\n",
       "      <th>0</th>\n",
       "      <td>2015-12-27</td>\n",
       "      <td>1.33</td>\n",
       "      <td>64236.62</td>\n",
       "      <td>1036.74</td>\n",
       "      <td>54454.85</td>\n",
       "      <td>48.16</td>\n",
       "      <td>8696.87</td>\n",
       "      <td>8603.62</td>\n",
       "      <td>93.25</td>\n",
       "      <td>0.0</td>\n",
       "      <td>conventional</td>\n",
       "      <td>2015</td>\n",
       "      <td>Albany</td>\n",
       "    </tr>\n",
       "    <tr>\n",
       "      <th>1</th>\n",
       "      <td>2015-12-20</td>\n",
       "      <td>1.35</td>\n",
       "      <td>54876.98</td>\n",
       "      <td>674.28</td>\n",
       "      <td>44638.81</td>\n",
       "      <td>58.33</td>\n",
       "      <td>9505.56</td>\n",
       "      <td>9408.07</td>\n",
       "      <td>97.49</td>\n",
       "      <td>0.0</td>\n",
       "      <td>conventional</td>\n",
       "      <td>2015</td>\n",
       "      <td>Albany</td>\n",
       "    </tr>\n",
       "    <tr>\n",
       "      <th>2</th>\n",
       "      <td>2015-12-13</td>\n",
       "      <td>0.93</td>\n",
       "      <td>118220.22</td>\n",
       "      <td>794.70</td>\n",
       "      <td>109149.67</td>\n",
       "      <td>130.50</td>\n",
       "      <td>8145.35</td>\n",
       "      <td>8042.21</td>\n",
       "      <td>103.14</td>\n",
       "      <td>0.0</td>\n",
       "      <td>conventional</td>\n",
       "      <td>2015</td>\n",
       "      <td>Albany</td>\n",
       "    </tr>\n",
       "    <tr>\n",
       "      <th>3</th>\n",
       "      <td>2015-12-06</td>\n",
       "      <td>1.08</td>\n",
       "      <td>78992.15</td>\n",
       "      <td>1132.00</td>\n",
       "      <td>71976.41</td>\n",
       "      <td>72.58</td>\n",
       "      <td>5811.16</td>\n",
       "      <td>5677.40</td>\n",
       "      <td>133.76</td>\n",
       "      <td>0.0</td>\n",
       "      <td>conventional</td>\n",
       "      <td>2015</td>\n",
       "      <td>Albany</td>\n",
       "    </tr>\n",
       "    <tr>\n",
       "      <th>4</th>\n",
       "      <td>2015-11-29</td>\n",
       "      <td>1.28</td>\n",
       "      <td>51039.60</td>\n",
       "      <td>941.48</td>\n",
       "      <td>43838.39</td>\n",
       "      <td>75.78</td>\n",
       "      <td>6183.95</td>\n",
       "      <td>5986.26</td>\n",
       "      <td>197.69</td>\n",
       "      <td>0.0</td>\n",
       "      <td>conventional</td>\n",
       "      <td>2015</td>\n",
       "      <td>Albany</td>\n",
       "    </tr>\n",
       "    <tr>\n",
       "      <th>...</th>\n",
       "      <td>...</td>\n",
       "      <td>...</td>\n",
       "      <td>...</td>\n",
       "      <td>...</td>\n",
       "      <td>...</td>\n",
       "      <td>...</td>\n",
       "      <td>...</td>\n",
       "      <td>...</td>\n",
       "      <td>...</td>\n",
       "      <td>...</td>\n",
       "      <td>...</td>\n",
       "      <td>...</td>\n",
       "      <td>...</td>\n",
       "    </tr>\n",
       "    <tr>\n",
       "      <th>18244</th>\n",
       "      <td>2018-02-04</td>\n",
       "      <td>1.63</td>\n",
       "      <td>17074.83</td>\n",
       "      <td>2046.96</td>\n",
       "      <td>1529.20</td>\n",
       "      <td>0.00</td>\n",
       "      <td>13498.67</td>\n",
       "      <td>13066.82</td>\n",
       "      <td>431.85</td>\n",
       "      <td>0.0</td>\n",
       "      <td>organic</td>\n",
       "      <td>2018</td>\n",
       "      <td>WestTexNewMexico</td>\n",
       "    </tr>\n",
       "    <tr>\n",
       "      <th>18245</th>\n",
       "      <td>2018-01-28</td>\n",
       "      <td>1.71</td>\n",
       "      <td>13888.04</td>\n",
       "      <td>1191.70</td>\n",
       "      <td>3431.50</td>\n",
       "      <td>0.00</td>\n",
       "      <td>9264.84</td>\n",
       "      <td>8940.04</td>\n",
       "      <td>324.80</td>\n",
       "      <td>0.0</td>\n",
       "      <td>organic</td>\n",
       "      <td>2018</td>\n",
       "      <td>WestTexNewMexico</td>\n",
       "    </tr>\n",
       "    <tr>\n",
       "      <th>18246</th>\n",
       "      <td>2018-01-21</td>\n",
       "      <td>1.87</td>\n",
       "      <td>13766.76</td>\n",
       "      <td>1191.92</td>\n",
       "      <td>2452.79</td>\n",
       "      <td>727.94</td>\n",
       "      <td>9394.11</td>\n",
       "      <td>9351.80</td>\n",
       "      <td>42.31</td>\n",
       "      <td>0.0</td>\n",
       "      <td>organic</td>\n",
       "      <td>2018</td>\n",
       "      <td>WestTexNewMexico</td>\n",
       "    </tr>\n",
       "    <tr>\n",
       "      <th>18247</th>\n",
       "      <td>2018-01-14</td>\n",
       "      <td>1.93</td>\n",
       "      <td>16205.22</td>\n",
       "      <td>1527.63</td>\n",
       "      <td>2981.04</td>\n",
       "      <td>727.01</td>\n",
       "      <td>10969.54</td>\n",
       "      <td>10919.54</td>\n",
       "      <td>50.00</td>\n",
       "      <td>0.0</td>\n",
       "      <td>organic</td>\n",
       "      <td>2018</td>\n",
       "      <td>WestTexNewMexico</td>\n",
       "    </tr>\n",
       "    <tr>\n",
       "      <th>18248</th>\n",
       "      <td>2018-01-07</td>\n",
       "      <td>1.62</td>\n",
       "      <td>17489.58</td>\n",
       "      <td>2894.77</td>\n",
       "      <td>2356.13</td>\n",
       "      <td>224.53</td>\n",
       "      <td>12014.15</td>\n",
       "      <td>11988.14</td>\n",
       "      <td>26.01</td>\n",
       "      <td>0.0</td>\n",
       "      <td>organic</td>\n",
       "      <td>2018</td>\n",
       "      <td>WestTexNewMexico</td>\n",
       "    </tr>\n",
       "  </tbody>\n",
       "</table>\n",
       "<p>18249 rows × 13 columns</p>\n",
       "</div>"
      ],
      "text/plain": [
       "             Date  AveragePrice  Total Volume     4046       4225    4770  \\\n",
       "0      2015-12-27          1.33      64236.62  1036.74   54454.85   48.16   \n",
       "1      2015-12-20          1.35      54876.98   674.28   44638.81   58.33   \n",
       "2      2015-12-13          0.93     118220.22   794.70  109149.67  130.50   \n",
       "3      2015-12-06          1.08      78992.15  1132.00   71976.41   72.58   \n",
       "4      2015-11-29          1.28      51039.60   941.48   43838.39   75.78   \n",
       "...           ...           ...           ...      ...        ...     ...   \n",
       "18244  2018-02-04          1.63      17074.83  2046.96    1529.20    0.00   \n",
       "18245  2018-01-28          1.71      13888.04  1191.70    3431.50    0.00   \n",
       "18246  2018-01-21          1.87      13766.76  1191.92    2452.79  727.94   \n",
       "18247  2018-01-14          1.93      16205.22  1527.63    2981.04  727.01   \n",
       "18248  2018-01-07          1.62      17489.58  2894.77    2356.13  224.53   \n",
       "\n",
       "       Total Bags  Small Bags  Large Bags  XLarge Bags          type  year  \\\n",
       "0         8696.87     8603.62       93.25          0.0  conventional  2015   \n",
       "1         9505.56     9408.07       97.49          0.0  conventional  2015   \n",
       "2         8145.35     8042.21      103.14          0.0  conventional  2015   \n",
       "3         5811.16     5677.40      133.76          0.0  conventional  2015   \n",
       "4         6183.95     5986.26      197.69          0.0  conventional  2015   \n",
       "...           ...         ...         ...          ...           ...   ...   \n",
       "18244    13498.67    13066.82      431.85          0.0       organic  2018   \n",
       "18245     9264.84     8940.04      324.80          0.0       organic  2018   \n",
       "18246     9394.11     9351.80       42.31          0.0       organic  2018   \n",
       "18247    10969.54    10919.54       50.00          0.0       organic  2018   \n",
       "18248    12014.15    11988.14       26.01          0.0       organic  2018   \n",
       "\n",
       "                 region  \n",
       "0                Albany  \n",
       "1                Albany  \n",
       "2                Albany  \n",
       "3                Albany  \n",
       "4                Albany  \n",
       "...                 ...  \n",
       "18244  WestTexNewMexico  \n",
       "18245  WestTexNewMexico  \n",
       "18246  WestTexNewMexico  \n",
       "18247  WestTexNewMexico  \n",
       "18248  WestTexNewMexico  \n",
       "\n",
       "[18249 rows x 13 columns]"
      ]
     },
     "execution_count": 7,
     "metadata": {},
     "output_type": "execute_result"
    }
   ],
   "source": [
    "datas = pd.read_csv('avocado.csv')\n",
    "datas = datas.iloc[:, 1:]\n",
    "datas"
   ]
  },
  {
   "cell_type": "code",
   "execution_count": 8,
   "metadata": {
    "colab": {
     "base_uri": "https://localhost:8080/",
     "height": 424
    },
    "executionInfo": {
     "elapsed": 37,
     "status": "ok",
     "timestamp": 1652590809694,
     "user": {
      "displayName": "Son Luc Cam",
      "userId": "01778600856537737107"
     },
     "user_tz": -420
    },
    "id": "4ouIBOPAsBLp",
    "outputId": "30ac2075-b7c8-4c75-dd8a-40ce9629d67a"
   },
   "outputs": [
    {
     "data": {
      "text/html": [
       "<div>\n",
       "<style scoped>\n",
       "    .dataframe tbody tr th:only-of-type {\n",
       "        vertical-align: middle;\n",
       "    }\n",
       "\n",
       "    .dataframe tbody tr th {\n",
       "        vertical-align: top;\n",
       "    }\n",
       "\n",
       "    .dataframe thead th {\n",
       "        text-align: right;\n",
       "    }\n",
       "</style>\n",
       "<table border=\"1\" class=\"dataframe\">\n",
       "  <thead>\n",
       "    <tr style=\"text-align: right;\">\n",
       "      <th></th>\n",
       "      <th>Date</th>\n",
       "      <th>AveragePrice</th>\n",
       "      <th>Total Volume</th>\n",
       "      <th>4046</th>\n",
       "      <th>4225</th>\n",
       "      <th>4770</th>\n",
       "      <th>Total Bags</th>\n",
       "      <th>Small Bags</th>\n",
       "      <th>Large Bags</th>\n",
       "      <th>XLarge Bags</th>\n",
       "      <th>type</th>\n",
       "      <th>year</th>\n",
       "      <th>region</th>\n",
       "    </tr>\n",
       "  </thead>\n",
       "  <tbody>\n",
       "    <tr>\n",
       "      <th>0</th>\n",
       "      <td>2015-12</td>\n",
       "      <td>1.33</td>\n",
       "      <td>64236.62</td>\n",
       "      <td>1036.74</td>\n",
       "      <td>54454.85</td>\n",
       "      <td>48.16</td>\n",
       "      <td>8696.87</td>\n",
       "      <td>8603.62</td>\n",
       "      <td>93.25</td>\n",
       "      <td>0.0</td>\n",
       "      <td>conventional</td>\n",
       "      <td>2015</td>\n",
       "      <td>Albany</td>\n",
       "    </tr>\n",
       "    <tr>\n",
       "      <th>1</th>\n",
       "      <td>2015-12</td>\n",
       "      <td>1.35</td>\n",
       "      <td>54876.98</td>\n",
       "      <td>674.28</td>\n",
       "      <td>44638.81</td>\n",
       "      <td>58.33</td>\n",
       "      <td>9505.56</td>\n",
       "      <td>9408.07</td>\n",
       "      <td>97.49</td>\n",
       "      <td>0.0</td>\n",
       "      <td>conventional</td>\n",
       "      <td>2015</td>\n",
       "      <td>Albany</td>\n",
       "    </tr>\n",
       "    <tr>\n",
       "      <th>2</th>\n",
       "      <td>2015-12</td>\n",
       "      <td>0.93</td>\n",
       "      <td>118220.22</td>\n",
       "      <td>794.70</td>\n",
       "      <td>109149.67</td>\n",
       "      <td>130.50</td>\n",
       "      <td>8145.35</td>\n",
       "      <td>8042.21</td>\n",
       "      <td>103.14</td>\n",
       "      <td>0.0</td>\n",
       "      <td>conventional</td>\n",
       "      <td>2015</td>\n",
       "      <td>Albany</td>\n",
       "    </tr>\n",
       "    <tr>\n",
       "      <th>3</th>\n",
       "      <td>2015-12</td>\n",
       "      <td>1.08</td>\n",
       "      <td>78992.15</td>\n",
       "      <td>1132.00</td>\n",
       "      <td>71976.41</td>\n",
       "      <td>72.58</td>\n",
       "      <td>5811.16</td>\n",
       "      <td>5677.40</td>\n",
       "      <td>133.76</td>\n",
       "      <td>0.0</td>\n",
       "      <td>conventional</td>\n",
       "      <td>2015</td>\n",
       "      <td>Albany</td>\n",
       "    </tr>\n",
       "    <tr>\n",
       "      <th>4</th>\n",
       "      <td>2015-11</td>\n",
       "      <td>1.28</td>\n",
       "      <td>51039.60</td>\n",
       "      <td>941.48</td>\n",
       "      <td>43838.39</td>\n",
       "      <td>75.78</td>\n",
       "      <td>6183.95</td>\n",
       "      <td>5986.26</td>\n",
       "      <td>197.69</td>\n",
       "      <td>0.0</td>\n",
       "      <td>conventional</td>\n",
       "      <td>2015</td>\n",
       "      <td>Albany</td>\n",
       "    </tr>\n",
       "    <tr>\n",
       "      <th>...</th>\n",
       "      <td>...</td>\n",
       "      <td>...</td>\n",
       "      <td>...</td>\n",
       "      <td>...</td>\n",
       "      <td>...</td>\n",
       "      <td>...</td>\n",
       "      <td>...</td>\n",
       "      <td>...</td>\n",
       "      <td>...</td>\n",
       "      <td>...</td>\n",
       "      <td>...</td>\n",
       "      <td>...</td>\n",
       "      <td>...</td>\n",
       "    </tr>\n",
       "    <tr>\n",
       "      <th>18244</th>\n",
       "      <td>2018-02</td>\n",
       "      <td>1.63</td>\n",
       "      <td>17074.83</td>\n",
       "      <td>2046.96</td>\n",
       "      <td>1529.20</td>\n",
       "      <td>0.00</td>\n",
       "      <td>13498.67</td>\n",
       "      <td>13066.82</td>\n",
       "      <td>431.85</td>\n",
       "      <td>0.0</td>\n",
       "      <td>organic</td>\n",
       "      <td>2018</td>\n",
       "      <td>WestTexNewMexico</td>\n",
       "    </tr>\n",
       "    <tr>\n",
       "      <th>18245</th>\n",
       "      <td>2018-01</td>\n",
       "      <td>1.71</td>\n",
       "      <td>13888.04</td>\n",
       "      <td>1191.70</td>\n",
       "      <td>3431.50</td>\n",
       "      <td>0.00</td>\n",
       "      <td>9264.84</td>\n",
       "      <td>8940.04</td>\n",
       "      <td>324.80</td>\n",
       "      <td>0.0</td>\n",
       "      <td>organic</td>\n",
       "      <td>2018</td>\n",
       "      <td>WestTexNewMexico</td>\n",
       "    </tr>\n",
       "    <tr>\n",
       "      <th>18246</th>\n",
       "      <td>2018-01</td>\n",
       "      <td>1.87</td>\n",
       "      <td>13766.76</td>\n",
       "      <td>1191.92</td>\n",
       "      <td>2452.79</td>\n",
       "      <td>727.94</td>\n",
       "      <td>9394.11</td>\n",
       "      <td>9351.80</td>\n",
       "      <td>42.31</td>\n",
       "      <td>0.0</td>\n",
       "      <td>organic</td>\n",
       "      <td>2018</td>\n",
       "      <td>WestTexNewMexico</td>\n",
       "    </tr>\n",
       "    <tr>\n",
       "      <th>18247</th>\n",
       "      <td>2018-01</td>\n",
       "      <td>1.93</td>\n",
       "      <td>16205.22</td>\n",
       "      <td>1527.63</td>\n",
       "      <td>2981.04</td>\n",
       "      <td>727.01</td>\n",
       "      <td>10969.54</td>\n",
       "      <td>10919.54</td>\n",
       "      <td>50.00</td>\n",
       "      <td>0.0</td>\n",
       "      <td>organic</td>\n",
       "      <td>2018</td>\n",
       "      <td>WestTexNewMexico</td>\n",
       "    </tr>\n",
       "    <tr>\n",
       "      <th>18248</th>\n",
       "      <td>2018-01</td>\n",
       "      <td>1.62</td>\n",
       "      <td>17489.58</td>\n",
       "      <td>2894.77</td>\n",
       "      <td>2356.13</td>\n",
       "      <td>224.53</td>\n",
       "      <td>12014.15</td>\n",
       "      <td>11988.14</td>\n",
       "      <td>26.01</td>\n",
       "      <td>0.0</td>\n",
       "      <td>organic</td>\n",
       "      <td>2018</td>\n",
       "      <td>WestTexNewMexico</td>\n",
       "    </tr>\n",
       "  </tbody>\n",
       "</table>\n",
       "<p>18249 rows × 13 columns</p>\n",
       "</div>"
      ],
      "text/plain": [
       "          Date  AveragePrice  Total Volume     4046       4225    4770  \\\n",
       "0      2015-12          1.33      64236.62  1036.74   54454.85   48.16   \n",
       "1      2015-12          1.35      54876.98   674.28   44638.81   58.33   \n",
       "2      2015-12          0.93     118220.22   794.70  109149.67  130.50   \n",
       "3      2015-12          1.08      78992.15  1132.00   71976.41   72.58   \n",
       "4      2015-11          1.28      51039.60   941.48   43838.39   75.78   \n",
       "...        ...           ...           ...      ...        ...     ...   \n",
       "18244  2018-02          1.63      17074.83  2046.96    1529.20    0.00   \n",
       "18245  2018-01          1.71      13888.04  1191.70    3431.50    0.00   \n",
       "18246  2018-01          1.87      13766.76  1191.92    2452.79  727.94   \n",
       "18247  2018-01          1.93      16205.22  1527.63    2981.04  727.01   \n",
       "18248  2018-01          1.62      17489.58  2894.77    2356.13  224.53   \n",
       "\n",
       "       Total Bags  Small Bags  Large Bags  XLarge Bags          type  year  \\\n",
       "0         8696.87     8603.62       93.25          0.0  conventional  2015   \n",
       "1         9505.56     9408.07       97.49          0.0  conventional  2015   \n",
       "2         8145.35     8042.21      103.14          0.0  conventional  2015   \n",
       "3         5811.16     5677.40      133.76          0.0  conventional  2015   \n",
       "4         6183.95     5986.26      197.69          0.0  conventional  2015   \n",
       "...           ...         ...         ...          ...           ...   ...   \n",
       "18244    13498.67    13066.82      431.85          0.0       organic  2018   \n",
       "18245     9264.84     8940.04      324.80          0.0       organic  2018   \n",
       "18246     9394.11     9351.80       42.31          0.0       organic  2018   \n",
       "18247    10969.54    10919.54       50.00          0.0       organic  2018   \n",
       "18248    12014.15    11988.14       26.01          0.0       organic  2018   \n",
       "\n",
       "                 region  \n",
       "0                Albany  \n",
       "1                Albany  \n",
       "2                Albany  \n",
       "3                Albany  \n",
       "4                Albany  \n",
       "...                 ...  \n",
       "18244  WestTexNewMexico  \n",
       "18245  WestTexNewMexico  \n",
       "18246  WestTexNewMexico  \n",
       "18247  WestTexNewMexico  \n",
       "18248  WestTexNewMexico  \n",
       "\n",
       "[18249 rows x 13 columns]"
      ]
     },
     "execution_count": 8,
     "metadata": {},
     "output_type": "execute_result"
    }
   ],
   "source": [
    "datas['Date'] = datas['Date'].str[:-3]\n",
    "datas"
   ]
  },
  {
   "cell_type": "markdown",
   "metadata": {
    "id": "SPnK7NIyhBfG"
   },
   "source": [
    "# Part III) Select Region"
   ]
  },
  {
   "cell_type": "code",
   "execution_count": 9,
   "metadata": {
    "colab": {
     "base_uri": "https://localhost:8080/",
     "height": 424
    },
    "executionInfo": {
     "elapsed": 37,
     "status": "ok",
     "timestamp": 1652590809695,
     "user": {
      "displayName": "Son Luc Cam",
      "userId": "01778600856537737107"
     },
     "user_tz": -420
    },
    "id": "sr8p-lowe1jP",
    "outputId": "e0da6f25-8d9a-4ca3-8011-7e8d1e8853b9"
   },
   "outputs": [
    {
     "data": {
      "text/html": [
       "<div>\n",
       "<style scoped>\n",
       "    .dataframe tbody tr th:only-of-type {\n",
       "        vertical-align: middle;\n",
       "    }\n",
       "\n",
       "    .dataframe tbody tr th {\n",
       "        vertical-align: top;\n",
       "    }\n",
       "\n",
       "    .dataframe thead th {\n",
       "        text-align: right;\n",
       "    }\n",
       "</style>\n",
       "<table border=\"1\" class=\"dataframe\">\n",
       "  <thead>\n",
       "    <tr style=\"text-align: right;\">\n",
       "      <th></th>\n",
       "      <th>Date</th>\n",
       "      <th>AveragePrice</th>\n",
       "      <th>Total Volume</th>\n",
       "      <th>4046</th>\n",
       "      <th>4225</th>\n",
       "      <th>4770</th>\n",
       "      <th>Total Bags</th>\n",
       "      <th>Small Bags</th>\n",
       "      <th>Large Bags</th>\n",
       "      <th>XLarge Bags</th>\n",
       "      <th>type</th>\n",
       "      <th>year</th>\n",
       "      <th>region</th>\n",
       "    </tr>\n",
       "  </thead>\n",
       "  <tbody>\n",
       "    <tr>\n",
       "      <th>1456</th>\n",
       "      <td>2015-12</td>\n",
       "      <td>1.17</td>\n",
       "      <td>1129876.05</td>\n",
       "      <td>13711.19</td>\n",
       "      <td>872603.60</td>\n",
       "      <td>894.58</td>\n",
       "      <td>242666.68</td>\n",
       "      <td>208470.99</td>\n",
       "      <td>34191.25</td>\n",
       "      <td>4.44</td>\n",
       "      <td>conventional</td>\n",
       "      <td>2015</td>\n",
       "      <td>NewYork</td>\n",
       "    </tr>\n",
       "    <tr>\n",
       "      <th>1457</th>\n",
       "      <td>2015-12</td>\n",
       "      <td>1.23</td>\n",
       "      <td>1139347.98</td>\n",
       "      <td>13998.35</td>\n",
       "      <td>867406.68</td>\n",
       "      <td>803.83</td>\n",
       "      <td>257139.12</td>\n",
       "      <td>212615.20</td>\n",
       "      <td>44523.92</td>\n",
       "      <td>0.00</td>\n",
       "      <td>conventional</td>\n",
       "      <td>2015</td>\n",
       "      <td>NewYork</td>\n",
       "    </tr>\n",
       "    <tr>\n",
       "      <th>1458</th>\n",
       "      <td>2015-12</td>\n",
       "      <td>1.12</td>\n",
       "      <td>1254805.29</td>\n",
       "      <td>15990.38</td>\n",
       "      <td>975504.52</td>\n",
       "      <td>1657.92</td>\n",
       "      <td>261652.47</td>\n",
       "      <td>222446.62</td>\n",
       "      <td>39205.85</td>\n",
       "      <td>0.00</td>\n",
       "      <td>conventional</td>\n",
       "      <td>2015</td>\n",
       "      <td>NewYork</td>\n",
       "    </tr>\n",
       "    <tr>\n",
       "      <th>1459</th>\n",
       "      <td>2015-12</td>\n",
       "      <td>1.20</td>\n",
       "      <td>1068971.54</td>\n",
       "      <td>15730.10</td>\n",
       "      <td>887708.08</td>\n",
       "      <td>892.62</td>\n",
       "      <td>164640.74</td>\n",
       "      <td>136643.23</td>\n",
       "      <td>27997.51</td>\n",
       "      <td>0.00</td>\n",
       "      <td>conventional</td>\n",
       "      <td>2015</td>\n",
       "      <td>NewYork</td>\n",
       "    </tr>\n",
       "    <tr>\n",
       "      <th>1460</th>\n",
       "      <td>2015-11</td>\n",
       "      <td>1.16</td>\n",
       "      <td>999169.64</td>\n",
       "      <td>13652.41</td>\n",
       "      <td>814571.57</td>\n",
       "      <td>863.58</td>\n",
       "      <td>170082.08</td>\n",
       "      <td>139508.76</td>\n",
       "      <td>30573.32</td>\n",
       "      <td>0.00</td>\n",
       "      <td>conventional</td>\n",
       "      <td>2015</td>\n",
       "      <td>NewYork</td>\n",
       "    </tr>\n",
       "    <tr>\n",
       "      <th>...</th>\n",
       "      <td>...</td>\n",
       "      <td>...</td>\n",
       "      <td>...</td>\n",
       "      <td>...</td>\n",
       "      <td>...</td>\n",
       "      <td>...</td>\n",
       "      <td>...</td>\n",
       "      <td>...</td>\n",
       "      <td>...</td>\n",
       "      <td>...</td>\n",
       "      <td>...</td>\n",
       "      <td>...</td>\n",
       "      <td>...</td>\n",
       "    </tr>\n",
       "    <tr>\n",
       "      <th>17944</th>\n",
       "      <td>2018-02</td>\n",
       "      <td>1.83</td>\n",
       "      <td>93204.08</td>\n",
       "      <td>9300.64</td>\n",
       "      <td>21428.22</td>\n",
       "      <td>814.47</td>\n",
       "      <td>61660.75</td>\n",
       "      <td>61516.19</td>\n",
       "      <td>144.56</td>\n",
       "      <td>0.00</td>\n",
       "      <td>organic</td>\n",
       "      <td>2018</td>\n",
       "      <td>NewYork</td>\n",
       "    </tr>\n",
       "    <tr>\n",
       "      <th>17945</th>\n",
       "      <td>2018-01</td>\n",
       "      <td>1.75</td>\n",
       "      <td>96380.28</td>\n",
       "      <td>13196.30</td>\n",
       "      <td>24933.01</td>\n",
       "      <td>128.24</td>\n",
       "      <td>58122.73</td>\n",
       "      <td>56090.23</td>\n",
       "      <td>2032.50</td>\n",
       "      <td>0.00</td>\n",
       "      <td>organic</td>\n",
       "      <td>2018</td>\n",
       "      <td>NewYork</td>\n",
       "    </tr>\n",
       "    <tr>\n",
       "      <th>17946</th>\n",
       "      <td>2018-01</td>\n",
       "      <td>1.91</td>\n",
       "      <td>71760.69</td>\n",
       "      <td>5732.09</td>\n",
       "      <td>13124.59</td>\n",
       "      <td>157.72</td>\n",
       "      <td>52746.29</td>\n",
       "      <td>52130.98</td>\n",
       "      <td>615.31</td>\n",
       "      <td>0.00</td>\n",
       "      <td>organic</td>\n",
       "      <td>2018</td>\n",
       "      <td>NewYork</td>\n",
       "    </tr>\n",
       "    <tr>\n",
       "      <th>17947</th>\n",
       "      <td>2018-01</td>\n",
       "      <td>1.91</td>\n",
       "      <td>86632.25</td>\n",
       "      <td>7433.43</td>\n",
       "      <td>17885.26</td>\n",
       "      <td>49.43</td>\n",
       "      <td>61264.13</td>\n",
       "      <td>60763.71</td>\n",
       "      <td>500.42</td>\n",
       "      <td>0.00</td>\n",
       "      <td>organic</td>\n",
       "      <td>2018</td>\n",
       "      <td>NewYork</td>\n",
       "    </tr>\n",
       "    <tr>\n",
       "      <th>17948</th>\n",
       "      <td>2018-01</td>\n",
       "      <td>1.97</td>\n",
       "      <td>82637.97</td>\n",
       "      <td>6158.73</td>\n",
       "      <td>19251.81</td>\n",
       "      <td>47.04</td>\n",
       "      <td>57180.39</td>\n",
       "      <td>57180.39</td>\n",
       "      <td>0.00</td>\n",
       "      <td>0.00</td>\n",
       "      <td>organic</td>\n",
       "      <td>2018</td>\n",
       "      <td>NewYork</td>\n",
       "    </tr>\n",
       "  </tbody>\n",
       "</table>\n",
       "<p>338 rows × 13 columns</p>\n",
       "</div>"
      ],
      "text/plain": [
       "          Date  AveragePrice  Total Volume      4046       4225     4770  \\\n",
       "1456   2015-12          1.17    1129876.05  13711.19  872603.60   894.58   \n",
       "1457   2015-12          1.23    1139347.98  13998.35  867406.68   803.83   \n",
       "1458   2015-12          1.12    1254805.29  15990.38  975504.52  1657.92   \n",
       "1459   2015-12          1.20    1068971.54  15730.10  887708.08   892.62   \n",
       "1460   2015-11          1.16     999169.64  13652.41  814571.57   863.58   \n",
       "...        ...           ...           ...       ...        ...      ...   \n",
       "17944  2018-02          1.83      93204.08   9300.64   21428.22   814.47   \n",
       "17945  2018-01          1.75      96380.28  13196.30   24933.01   128.24   \n",
       "17946  2018-01          1.91      71760.69   5732.09   13124.59   157.72   \n",
       "17947  2018-01          1.91      86632.25   7433.43   17885.26    49.43   \n",
       "17948  2018-01          1.97      82637.97   6158.73   19251.81    47.04   \n",
       "\n",
       "       Total Bags  Small Bags  Large Bags  XLarge Bags          type  year  \\\n",
       "1456    242666.68   208470.99    34191.25         4.44  conventional  2015   \n",
       "1457    257139.12   212615.20    44523.92         0.00  conventional  2015   \n",
       "1458    261652.47   222446.62    39205.85         0.00  conventional  2015   \n",
       "1459    164640.74   136643.23    27997.51         0.00  conventional  2015   \n",
       "1460    170082.08   139508.76    30573.32         0.00  conventional  2015   \n",
       "...           ...         ...         ...          ...           ...   ...   \n",
       "17944    61660.75    61516.19      144.56         0.00       organic  2018   \n",
       "17945    58122.73    56090.23     2032.50         0.00       organic  2018   \n",
       "17946    52746.29    52130.98      615.31         0.00       organic  2018   \n",
       "17947    61264.13    60763.71      500.42         0.00       organic  2018   \n",
       "17948    57180.39    57180.39        0.00         0.00       organic  2018   \n",
       "\n",
       "        region  \n",
       "1456   NewYork  \n",
       "1457   NewYork  \n",
       "1458   NewYork  \n",
       "1459   NewYork  \n",
       "1460   NewYork  \n",
       "...        ...  \n",
       "17944  NewYork  \n",
       "17945  NewYork  \n",
       "17946  NewYork  \n",
       "17947  NewYork  \n",
       "17948  NewYork  \n",
       "\n",
       "[338 rows x 13 columns]"
      ]
     },
     "execution_count": 9,
     "metadata": {},
     "output_type": "execute_result"
    }
   ],
   "source": [
    "NY = datas.query('region == \"NewYork\"')\n",
    "NY"
   ]
  },
  {
   "cell_type": "markdown",
   "metadata": {
    "id": "9gtLygnYhGEl"
   },
   "source": [
    "# Part IV) Select type"
   ]
  },
  {
   "cell_type": "code",
   "execution_count": 10,
   "metadata": {
    "colab": {
     "base_uri": "https://localhost:8080/",
     "height": 424
    },
    "executionInfo": {
     "elapsed": 36,
     "status": "ok",
     "timestamp": 1652590809696,
     "user": {
      "displayName": "Son Luc Cam",
      "userId": "01778600856537737107"
     },
     "user_tz": -420
    },
    "id": "ViOK6LpUe1nc",
    "outputId": "a604c5f6-e576-4213-ddba-711e1a2c0a2f"
   },
   "outputs": [
    {
     "data": {
      "text/html": [
       "<div>\n",
       "<style scoped>\n",
       "    .dataframe tbody tr th:only-of-type {\n",
       "        vertical-align: middle;\n",
       "    }\n",
       "\n",
       "    .dataframe tbody tr th {\n",
       "        vertical-align: top;\n",
       "    }\n",
       "\n",
       "    .dataframe thead th {\n",
       "        text-align: right;\n",
       "    }\n",
       "</style>\n",
       "<table border=\"1\" class=\"dataframe\">\n",
       "  <thead>\n",
       "    <tr style=\"text-align: right;\">\n",
       "      <th></th>\n",
       "      <th>Date</th>\n",
       "      <th>AveragePrice</th>\n",
       "      <th>Total Volume</th>\n",
       "      <th>4046</th>\n",
       "      <th>4225</th>\n",
       "      <th>4770</th>\n",
       "      <th>Total Bags</th>\n",
       "      <th>Small Bags</th>\n",
       "      <th>Large Bags</th>\n",
       "      <th>XLarge Bags</th>\n",
       "      <th>type</th>\n",
       "      <th>year</th>\n",
       "      <th>region</th>\n",
       "    </tr>\n",
       "  </thead>\n",
       "  <tbody>\n",
       "    <tr>\n",
       "      <th>1456</th>\n",
       "      <td>2015-12</td>\n",
       "      <td>1.17</td>\n",
       "      <td>1129876.05</td>\n",
       "      <td>13711.19</td>\n",
       "      <td>872603.60</td>\n",
       "      <td>894.58</td>\n",
       "      <td>242666.68</td>\n",
       "      <td>208470.99</td>\n",
       "      <td>34191.25</td>\n",
       "      <td>4.44</td>\n",
       "      <td>conventional</td>\n",
       "      <td>2015</td>\n",
       "      <td>NewYork</td>\n",
       "    </tr>\n",
       "    <tr>\n",
       "      <th>1457</th>\n",
       "      <td>2015-12</td>\n",
       "      <td>1.23</td>\n",
       "      <td>1139347.98</td>\n",
       "      <td>13998.35</td>\n",
       "      <td>867406.68</td>\n",
       "      <td>803.83</td>\n",
       "      <td>257139.12</td>\n",
       "      <td>212615.20</td>\n",
       "      <td>44523.92</td>\n",
       "      <td>0.00</td>\n",
       "      <td>conventional</td>\n",
       "      <td>2015</td>\n",
       "      <td>NewYork</td>\n",
       "    </tr>\n",
       "    <tr>\n",
       "      <th>1458</th>\n",
       "      <td>2015-12</td>\n",
       "      <td>1.12</td>\n",
       "      <td>1254805.29</td>\n",
       "      <td>15990.38</td>\n",
       "      <td>975504.52</td>\n",
       "      <td>1657.92</td>\n",
       "      <td>261652.47</td>\n",
       "      <td>222446.62</td>\n",
       "      <td>39205.85</td>\n",
       "      <td>0.00</td>\n",
       "      <td>conventional</td>\n",
       "      <td>2015</td>\n",
       "      <td>NewYork</td>\n",
       "    </tr>\n",
       "    <tr>\n",
       "      <th>1459</th>\n",
       "      <td>2015-12</td>\n",
       "      <td>1.20</td>\n",
       "      <td>1068971.54</td>\n",
       "      <td>15730.10</td>\n",
       "      <td>887708.08</td>\n",
       "      <td>892.62</td>\n",
       "      <td>164640.74</td>\n",
       "      <td>136643.23</td>\n",
       "      <td>27997.51</td>\n",
       "      <td>0.00</td>\n",
       "      <td>conventional</td>\n",
       "      <td>2015</td>\n",
       "      <td>NewYork</td>\n",
       "    </tr>\n",
       "    <tr>\n",
       "      <th>1460</th>\n",
       "      <td>2015-11</td>\n",
       "      <td>1.16</td>\n",
       "      <td>999169.64</td>\n",
       "      <td>13652.41</td>\n",
       "      <td>814571.57</td>\n",
       "      <td>863.58</td>\n",
       "      <td>170082.08</td>\n",
       "      <td>139508.76</td>\n",
       "      <td>30573.32</td>\n",
       "      <td>0.00</td>\n",
       "      <td>conventional</td>\n",
       "      <td>2015</td>\n",
       "      <td>NewYork</td>\n",
       "    </tr>\n",
       "    <tr>\n",
       "      <th>...</th>\n",
       "      <td>...</td>\n",
       "      <td>...</td>\n",
       "      <td>...</td>\n",
       "      <td>...</td>\n",
       "      <td>...</td>\n",
       "      <td>...</td>\n",
       "      <td>...</td>\n",
       "      <td>...</td>\n",
       "      <td>...</td>\n",
       "      <td>...</td>\n",
       "      <td>...</td>\n",
       "      <td>...</td>\n",
       "      <td>...</td>\n",
       "    </tr>\n",
       "    <tr>\n",
       "      <th>8821</th>\n",
       "      <td>2018-02</td>\n",
       "      <td>1.28</td>\n",
       "      <td>2959541.38</td>\n",
       "      <td>96084.63</td>\n",
       "      <td>2250967.25</td>\n",
       "      <td>3253.28</td>\n",
       "      <td>609236.22</td>\n",
       "      <td>569361.35</td>\n",
       "      <td>38734.78</td>\n",
       "      <td>1140.09</td>\n",
       "      <td>conventional</td>\n",
       "      <td>2018</td>\n",
       "      <td>NewYork</td>\n",
       "    </tr>\n",
       "    <tr>\n",
       "      <th>8822</th>\n",
       "      <td>2018-01</td>\n",
       "      <td>1.20</td>\n",
       "      <td>2278728.69</td>\n",
       "      <td>82652.82</td>\n",
       "      <td>1501055.47</td>\n",
       "      <td>745.50</td>\n",
       "      <td>694274.90</td>\n",
       "      <td>675215.26</td>\n",
       "      <td>18491.86</td>\n",
       "      <td>567.78</td>\n",
       "      <td>conventional</td>\n",
       "      <td>2018</td>\n",
       "      <td>NewYork</td>\n",
       "    </tr>\n",
       "    <tr>\n",
       "      <th>8823</th>\n",
       "      <td>2018-01</td>\n",
       "      <td>1.27</td>\n",
       "      <td>2135242.76</td>\n",
       "      <td>46444.43</td>\n",
       "      <td>1642533.16</td>\n",
       "      <td>1165.10</td>\n",
       "      <td>445100.07</td>\n",
       "      <td>423570.05</td>\n",
       "      <td>21523.99</td>\n",
       "      <td>6.03</td>\n",
       "      <td>conventional</td>\n",
       "      <td>2018</td>\n",
       "      <td>NewYork</td>\n",
       "    </tr>\n",
       "    <tr>\n",
       "      <th>8824</th>\n",
       "      <td>2018-01</td>\n",
       "      <td>1.67</td>\n",
       "      <td>1294149.71</td>\n",
       "      <td>39681.84</td>\n",
       "      <td>818051.50</td>\n",
       "      <td>1338.06</td>\n",
       "      <td>435078.31</td>\n",
       "      <td>415694.04</td>\n",
       "      <td>19384.27</td>\n",
       "      <td>0.00</td>\n",
       "      <td>conventional</td>\n",
       "      <td>2018</td>\n",
       "      <td>NewYork</td>\n",
       "    </tr>\n",
       "    <tr>\n",
       "      <th>8825</th>\n",
       "      <td>2018-01</td>\n",
       "      <td>1.67</td>\n",
       "      <td>1287480.31</td>\n",
       "      <td>39884.07</td>\n",
       "      <td>866953.05</td>\n",
       "      <td>573.69</td>\n",
       "      <td>380069.50</td>\n",
       "      <td>348249.49</td>\n",
       "      <td>31820.01</td>\n",
       "      <td>0.00</td>\n",
       "      <td>conventional</td>\n",
       "      <td>2018</td>\n",
       "      <td>NewYork</td>\n",
       "    </tr>\n",
       "  </tbody>\n",
       "</table>\n",
       "<p>169 rows × 13 columns</p>\n",
       "</div>"
      ],
      "text/plain": [
       "         Date  AveragePrice  Total Volume      4046        4225     4770  \\\n",
       "1456  2015-12          1.17    1129876.05  13711.19   872603.60   894.58   \n",
       "1457  2015-12          1.23    1139347.98  13998.35   867406.68   803.83   \n",
       "1458  2015-12          1.12    1254805.29  15990.38   975504.52  1657.92   \n",
       "1459  2015-12          1.20    1068971.54  15730.10   887708.08   892.62   \n",
       "1460  2015-11          1.16     999169.64  13652.41   814571.57   863.58   \n",
       "...       ...           ...           ...       ...         ...      ...   \n",
       "8821  2018-02          1.28    2959541.38  96084.63  2250967.25  3253.28   \n",
       "8822  2018-01          1.20    2278728.69  82652.82  1501055.47   745.50   \n",
       "8823  2018-01          1.27    2135242.76  46444.43  1642533.16  1165.10   \n",
       "8824  2018-01          1.67    1294149.71  39681.84   818051.50  1338.06   \n",
       "8825  2018-01          1.67    1287480.31  39884.07   866953.05   573.69   \n",
       "\n",
       "      Total Bags  Small Bags  Large Bags  XLarge Bags          type  year  \\\n",
       "1456   242666.68   208470.99    34191.25         4.44  conventional  2015   \n",
       "1457   257139.12   212615.20    44523.92         0.00  conventional  2015   \n",
       "1458   261652.47   222446.62    39205.85         0.00  conventional  2015   \n",
       "1459   164640.74   136643.23    27997.51         0.00  conventional  2015   \n",
       "1460   170082.08   139508.76    30573.32         0.00  conventional  2015   \n",
       "...          ...         ...         ...          ...           ...   ...   \n",
       "8821   609236.22   569361.35    38734.78      1140.09  conventional  2018   \n",
       "8822   694274.90   675215.26    18491.86       567.78  conventional  2018   \n",
       "8823   445100.07   423570.05    21523.99         6.03  conventional  2018   \n",
       "8824   435078.31   415694.04    19384.27         0.00  conventional  2018   \n",
       "8825   380069.50   348249.49    31820.01         0.00  conventional  2018   \n",
       "\n",
       "       region  \n",
       "1456  NewYork  \n",
       "1457  NewYork  \n",
       "1458  NewYork  \n",
       "1459  NewYork  \n",
       "1460  NewYork  \n",
       "...       ...  \n",
       "8821  NewYork  \n",
       "8822  NewYork  \n",
       "8823  NewYork  \n",
       "8824  NewYork  \n",
       "8825  NewYork  \n",
       "\n",
       "[169 rows x 13 columns]"
      ]
     },
     "execution_count": 10,
     "metadata": {},
     "output_type": "execute_result"
    }
   ],
   "source": [
    "NY_con = NY.query('type == \"conventional\"')\n",
    "NY_con"
   ]
  },
  {
   "cell_type": "code",
   "execution_count": 11,
   "metadata": {
    "colab": {
     "base_uri": "https://localhost:8080/",
     "height": 424
    },
    "executionInfo": {
     "elapsed": 35,
     "status": "ok",
     "timestamp": 1652590809696,
     "user": {
      "displayName": "Son Luc Cam",
      "userId": "01778600856537737107"
     },
     "user_tz": -420
    },
    "id": "4BL_mdHpe1qF",
    "outputId": "243dffc4-ffa5-4254-da7f-902c6d295a2d"
   },
   "outputs": [
    {
     "data": {
      "text/html": [
       "<div>\n",
       "<style scoped>\n",
       "    .dataframe tbody tr th:only-of-type {\n",
       "        vertical-align: middle;\n",
       "    }\n",
       "\n",
       "    .dataframe tbody tr th {\n",
       "        vertical-align: top;\n",
       "    }\n",
       "\n",
       "    .dataframe thead th {\n",
       "        text-align: right;\n",
       "    }\n",
       "</style>\n",
       "<table border=\"1\" class=\"dataframe\">\n",
       "  <thead>\n",
       "    <tr style=\"text-align: right;\">\n",
       "      <th></th>\n",
       "      <th>Date</th>\n",
       "      <th>AveragePrice</th>\n",
       "      <th>Total Volume</th>\n",
       "      <th>4046</th>\n",
       "      <th>4225</th>\n",
       "      <th>4770</th>\n",
       "      <th>Total Bags</th>\n",
       "      <th>Small Bags</th>\n",
       "      <th>Large Bags</th>\n",
       "      <th>XLarge Bags</th>\n",
       "      <th>type</th>\n",
       "      <th>year</th>\n",
       "      <th>region</th>\n",
       "    </tr>\n",
       "  </thead>\n",
       "  <tbody>\n",
       "    <tr>\n",
       "      <th>10582</th>\n",
       "      <td>2015-12</td>\n",
       "      <td>1.90</td>\n",
       "      <td>21565.58</td>\n",
       "      <td>1752.06</td>\n",
       "      <td>6546.95</td>\n",
       "      <td>1319.02</td>\n",
       "      <td>11947.55</td>\n",
       "      <td>5757.79</td>\n",
       "      <td>6189.76</td>\n",
       "      <td>0.0</td>\n",
       "      <td>organic</td>\n",
       "      <td>2015</td>\n",
       "      <td>NewYork</td>\n",
       "    </tr>\n",
       "    <tr>\n",
       "      <th>10583</th>\n",
       "      <td>2015-12</td>\n",
       "      <td>1.93</td>\n",
       "      <td>24549.47</td>\n",
       "      <td>3571.41</td>\n",
       "      <td>11118.88</td>\n",
       "      <td>1760.45</td>\n",
       "      <td>8098.73</td>\n",
       "      <td>7057.10</td>\n",
       "      <td>1041.63</td>\n",
       "      <td>0.0</td>\n",
       "      <td>organic</td>\n",
       "      <td>2015</td>\n",
       "      <td>NewYork</td>\n",
       "    </tr>\n",
       "    <tr>\n",
       "      <th>10584</th>\n",
       "      <td>2015-12</td>\n",
       "      <td>1.90</td>\n",
       "      <td>23927.09</td>\n",
       "      <td>2764.18</td>\n",
       "      <td>6739.98</td>\n",
       "      <td>4130.01</td>\n",
       "      <td>10292.92</td>\n",
       "      <td>7553.74</td>\n",
       "      <td>2739.18</td>\n",
       "      <td>0.0</td>\n",
       "      <td>organic</td>\n",
       "      <td>2015</td>\n",
       "      <td>NewYork</td>\n",
       "    </tr>\n",
       "    <tr>\n",
       "      <th>10585</th>\n",
       "      <td>2015-12</td>\n",
       "      <td>1.65</td>\n",
       "      <td>18494.23</td>\n",
       "      <td>4117.08</td>\n",
       "      <td>7226.46</td>\n",
       "      <td>1106.58</td>\n",
       "      <td>6044.11</td>\n",
       "      <td>200.30</td>\n",
       "      <td>5843.81</td>\n",
       "      <td>0.0</td>\n",
       "      <td>organic</td>\n",
       "      <td>2015</td>\n",
       "      <td>NewYork</td>\n",
       "    </tr>\n",
       "    <tr>\n",
       "      <th>10586</th>\n",
       "      <td>2015-11</td>\n",
       "      <td>1.89</td>\n",
       "      <td>9962.63</td>\n",
       "      <td>1481.23</td>\n",
       "      <td>4689.04</td>\n",
       "      <td>807.44</td>\n",
       "      <td>2984.92</td>\n",
       "      <td>336.18</td>\n",
       "      <td>2648.74</td>\n",
       "      <td>0.0</td>\n",
       "      <td>organic</td>\n",
       "      <td>2015</td>\n",
       "      <td>NewYork</td>\n",
       "    </tr>\n",
       "    <tr>\n",
       "      <th>...</th>\n",
       "      <td>...</td>\n",
       "      <td>...</td>\n",
       "      <td>...</td>\n",
       "      <td>...</td>\n",
       "      <td>...</td>\n",
       "      <td>...</td>\n",
       "      <td>...</td>\n",
       "      <td>...</td>\n",
       "      <td>...</td>\n",
       "      <td>...</td>\n",
       "      <td>...</td>\n",
       "      <td>...</td>\n",
       "      <td>...</td>\n",
       "    </tr>\n",
       "    <tr>\n",
       "      <th>17944</th>\n",
       "      <td>2018-02</td>\n",
       "      <td>1.83</td>\n",
       "      <td>93204.08</td>\n",
       "      <td>9300.64</td>\n",
       "      <td>21428.22</td>\n",
       "      <td>814.47</td>\n",
       "      <td>61660.75</td>\n",
       "      <td>61516.19</td>\n",
       "      <td>144.56</td>\n",
       "      <td>0.0</td>\n",
       "      <td>organic</td>\n",
       "      <td>2018</td>\n",
       "      <td>NewYork</td>\n",
       "    </tr>\n",
       "    <tr>\n",
       "      <th>17945</th>\n",
       "      <td>2018-01</td>\n",
       "      <td>1.75</td>\n",
       "      <td>96380.28</td>\n",
       "      <td>13196.30</td>\n",
       "      <td>24933.01</td>\n",
       "      <td>128.24</td>\n",
       "      <td>58122.73</td>\n",
       "      <td>56090.23</td>\n",
       "      <td>2032.50</td>\n",
       "      <td>0.0</td>\n",
       "      <td>organic</td>\n",
       "      <td>2018</td>\n",
       "      <td>NewYork</td>\n",
       "    </tr>\n",
       "    <tr>\n",
       "      <th>17946</th>\n",
       "      <td>2018-01</td>\n",
       "      <td>1.91</td>\n",
       "      <td>71760.69</td>\n",
       "      <td>5732.09</td>\n",
       "      <td>13124.59</td>\n",
       "      <td>157.72</td>\n",
       "      <td>52746.29</td>\n",
       "      <td>52130.98</td>\n",
       "      <td>615.31</td>\n",
       "      <td>0.0</td>\n",
       "      <td>organic</td>\n",
       "      <td>2018</td>\n",
       "      <td>NewYork</td>\n",
       "    </tr>\n",
       "    <tr>\n",
       "      <th>17947</th>\n",
       "      <td>2018-01</td>\n",
       "      <td>1.91</td>\n",
       "      <td>86632.25</td>\n",
       "      <td>7433.43</td>\n",
       "      <td>17885.26</td>\n",
       "      <td>49.43</td>\n",
       "      <td>61264.13</td>\n",
       "      <td>60763.71</td>\n",
       "      <td>500.42</td>\n",
       "      <td>0.0</td>\n",
       "      <td>organic</td>\n",
       "      <td>2018</td>\n",
       "      <td>NewYork</td>\n",
       "    </tr>\n",
       "    <tr>\n",
       "      <th>17948</th>\n",
       "      <td>2018-01</td>\n",
       "      <td>1.97</td>\n",
       "      <td>82637.97</td>\n",
       "      <td>6158.73</td>\n",
       "      <td>19251.81</td>\n",
       "      <td>47.04</td>\n",
       "      <td>57180.39</td>\n",
       "      <td>57180.39</td>\n",
       "      <td>0.00</td>\n",
       "      <td>0.0</td>\n",
       "      <td>organic</td>\n",
       "      <td>2018</td>\n",
       "      <td>NewYork</td>\n",
       "    </tr>\n",
       "  </tbody>\n",
       "</table>\n",
       "<p>169 rows × 13 columns</p>\n",
       "</div>"
      ],
      "text/plain": [
       "          Date  AveragePrice  Total Volume      4046      4225     4770  \\\n",
       "10582  2015-12          1.90      21565.58   1752.06   6546.95  1319.02   \n",
       "10583  2015-12          1.93      24549.47   3571.41  11118.88  1760.45   \n",
       "10584  2015-12          1.90      23927.09   2764.18   6739.98  4130.01   \n",
       "10585  2015-12          1.65      18494.23   4117.08   7226.46  1106.58   \n",
       "10586  2015-11          1.89       9962.63   1481.23   4689.04   807.44   \n",
       "...        ...           ...           ...       ...       ...      ...   \n",
       "17944  2018-02          1.83      93204.08   9300.64  21428.22   814.47   \n",
       "17945  2018-01          1.75      96380.28  13196.30  24933.01   128.24   \n",
       "17946  2018-01          1.91      71760.69   5732.09  13124.59   157.72   \n",
       "17947  2018-01          1.91      86632.25   7433.43  17885.26    49.43   \n",
       "17948  2018-01          1.97      82637.97   6158.73  19251.81    47.04   \n",
       "\n",
       "       Total Bags  Small Bags  Large Bags  XLarge Bags     type  year   region  \n",
       "10582    11947.55     5757.79     6189.76          0.0  organic  2015  NewYork  \n",
       "10583     8098.73     7057.10     1041.63          0.0  organic  2015  NewYork  \n",
       "10584    10292.92     7553.74     2739.18          0.0  organic  2015  NewYork  \n",
       "10585     6044.11      200.30     5843.81          0.0  organic  2015  NewYork  \n",
       "10586     2984.92      336.18     2648.74          0.0  organic  2015  NewYork  \n",
       "...           ...         ...         ...          ...      ...   ...      ...  \n",
       "17944    61660.75    61516.19      144.56          0.0  organic  2018  NewYork  \n",
       "17945    58122.73    56090.23     2032.50          0.0  organic  2018  NewYork  \n",
       "17946    52746.29    52130.98      615.31          0.0  organic  2018  NewYork  \n",
       "17947    61264.13    60763.71      500.42          0.0  organic  2018  NewYork  \n",
       "17948    57180.39    57180.39        0.00          0.0  organic  2018  NewYork  \n",
       "\n",
       "[169 rows x 13 columns]"
      ]
     },
     "execution_count": 11,
     "metadata": {},
     "output_type": "execute_result"
    }
   ],
   "source": [
    "NY_org = NY.query('type == \"organic\"')\n",
    "NY_org"
   ]
  },
  {
   "cell_type": "markdown",
   "metadata": {
    "id": "RXrKlIsk5nuM"
   },
   "source": [
    "# Predict on NewYork conventional price"
   ]
  },
  {
   "cell_type": "code",
   "execution_count": 12,
   "metadata": {
    "colab": {
     "base_uri": "https://localhost:8080/",
     "height": 424
    },
    "executionInfo": {
     "elapsed": 33,
     "status": "ok",
     "timestamp": 1652590809696,
     "user": {
      "displayName": "Son Luc Cam",
      "userId": "01778600856537737107"
     },
     "user_tz": -420
    },
    "id": "VBwKV3xm5uxx",
    "outputId": "b0eb4292-8fac-4d30-c97a-4c5c85d10893"
   },
   "outputs": [
    {
     "data": {
      "text/html": [
       "<div>\n",
       "<style scoped>\n",
       "    .dataframe tbody tr th:only-of-type {\n",
       "        vertical-align: middle;\n",
       "    }\n",
       "\n",
       "    .dataframe tbody tr th {\n",
       "        vertical-align: top;\n",
       "    }\n",
       "\n",
       "    .dataframe thead th {\n",
       "        text-align: right;\n",
       "    }\n",
       "</style>\n",
       "<table border=\"1\" class=\"dataframe\">\n",
       "  <thead>\n",
       "    <tr style=\"text-align: right;\">\n",
       "      <th></th>\n",
       "      <th>Date</th>\n",
       "      <th>AveragePrice</th>\n",
       "    </tr>\n",
       "  </thead>\n",
       "  <tbody>\n",
       "    <tr>\n",
       "      <th>1456</th>\n",
       "      <td>2015-12</td>\n",
       "      <td>1.17</td>\n",
       "    </tr>\n",
       "    <tr>\n",
       "      <th>1457</th>\n",
       "      <td>2015-12</td>\n",
       "      <td>1.23</td>\n",
       "    </tr>\n",
       "    <tr>\n",
       "      <th>1458</th>\n",
       "      <td>2015-12</td>\n",
       "      <td>1.12</td>\n",
       "    </tr>\n",
       "    <tr>\n",
       "      <th>1459</th>\n",
       "      <td>2015-12</td>\n",
       "      <td>1.20</td>\n",
       "    </tr>\n",
       "    <tr>\n",
       "      <th>1460</th>\n",
       "      <td>2015-11</td>\n",
       "      <td>1.16</td>\n",
       "    </tr>\n",
       "    <tr>\n",
       "      <th>...</th>\n",
       "      <td>...</td>\n",
       "      <td>...</td>\n",
       "    </tr>\n",
       "    <tr>\n",
       "      <th>8821</th>\n",
       "      <td>2018-02</td>\n",
       "      <td>1.28</td>\n",
       "    </tr>\n",
       "    <tr>\n",
       "      <th>8822</th>\n",
       "      <td>2018-01</td>\n",
       "      <td>1.20</td>\n",
       "    </tr>\n",
       "    <tr>\n",
       "      <th>8823</th>\n",
       "      <td>2018-01</td>\n",
       "      <td>1.27</td>\n",
       "    </tr>\n",
       "    <tr>\n",
       "      <th>8824</th>\n",
       "      <td>2018-01</td>\n",
       "      <td>1.67</td>\n",
       "    </tr>\n",
       "    <tr>\n",
       "      <th>8825</th>\n",
       "      <td>2018-01</td>\n",
       "      <td>1.67</td>\n",
       "    </tr>\n",
       "  </tbody>\n",
       "</table>\n",
       "<p>169 rows × 2 columns</p>\n",
       "</div>"
      ],
      "text/plain": [
       "         Date  AveragePrice\n",
       "1456  2015-12          1.17\n",
       "1457  2015-12          1.23\n",
       "1458  2015-12          1.12\n",
       "1459  2015-12          1.20\n",
       "1460  2015-11          1.16\n",
       "...       ...           ...\n",
       "8821  2018-02          1.28\n",
       "8822  2018-01          1.20\n",
       "8823  2018-01          1.27\n",
       "8824  2018-01          1.67\n",
       "8825  2018-01          1.67\n",
       "\n",
       "[169 rows x 2 columns]"
      ]
     },
     "execution_count": 12,
     "metadata": {},
     "output_type": "execute_result"
    }
   ],
   "source": [
    "df_con_price = NY_con.iloc[:, :2]\n",
    "df_con_price"
   ]
  },
  {
   "cell_type": "code",
   "execution_count": 13,
   "metadata": {
    "colab": {
     "base_uri": "https://localhost:8080/",
     "height": 1000
    },
    "executionInfo": {
     "elapsed": 33,
     "status": "ok",
     "timestamp": 1652590809696,
     "user": {
      "displayName": "Son Luc Cam",
      "userId": "01778600856537737107"
     },
     "user_tz": -420
    },
    "id": "_nTA9wzH5ALG",
    "outputId": "9da84525-40a1-462d-b1f9-3f303b9becf7"
   },
   "outputs": [
    {
     "data": {
      "text/html": [
       "<div>\n",
       "<style scoped>\n",
       "    .dataframe tbody tr th:only-of-type {\n",
       "        vertical-align: middle;\n",
       "    }\n",
       "\n",
       "    .dataframe tbody tr th {\n",
       "        vertical-align: top;\n",
       "    }\n",
       "\n",
       "    .dataframe thead th {\n",
       "        text-align: right;\n",
       "    }\n",
       "</style>\n",
       "<table border=\"1\" class=\"dataframe\">\n",
       "  <thead>\n",
       "    <tr style=\"text-align: right;\">\n",
       "      <th></th>\n",
       "      <th>Date</th>\n",
       "      <th>AveragePrice</th>\n",
       "    </tr>\n",
       "  </thead>\n",
       "  <tbody>\n",
       "    <tr>\n",
       "      <th>0</th>\n",
       "      <td>2015-01</td>\n",
       "      <td>1.2900</td>\n",
       "    </tr>\n",
       "    <tr>\n",
       "      <th>1</th>\n",
       "      <td>2015-02</td>\n",
       "      <td>1.2900</td>\n",
       "    </tr>\n",
       "    <tr>\n",
       "      <th>2</th>\n",
       "      <td>2015-03</td>\n",
       "      <td>1.3360</td>\n",
       "    </tr>\n",
       "    <tr>\n",
       "      <th>3</th>\n",
       "      <td>2015-04</td>\n",
       "      <td>1.4250</td>\n",
       "    </tr>\n",
       "    <tr>\n",
       "      <th>4</th>\n",
       "      <td>2015-05</td>\n",
       "      <td>1.3540</td>\n",
       "    </tr>\n",
       "    <tr>\n",
       "      <th>5</th>\n",
       "      <td>2015-06</td>\n",
       "      <td>1.3200</td>\n",
       "    </tr>\n",
       "    <tr>\n",
       "      <th>6</th>\n",
       "      <td>2015-07</td>\n",
       "      <td>1.2750</td>\n",
       "    </tr>\n",
       "    <tr>\n",
       "      <th>7</th>\n",
       "      <td>2015-08</td>\n",
       "      <td>1.1400</td>\n",
       "    </tr>\n",
       "    <tr>\n",
       "      <th>8</th>\n",
       "      <td>2015-09</td>\n",
       "      <td>1.1800</td>\n",
       "    </tr>\n",
       "    <tr>\n",
       "      <th>9</th>\n",
       "      <td>2015-10</td>\n",
       "      <td>1.1850</td>\n",
       "    </tr>\n",
       "    <tr>\n",
       "      <th>10</th>\n",
       "      <td>2015-11</td>\n",
       "      <td>1.1060</td>\n",
       "    </tr>\n",
       "    <tr>\n",
       "      <th>11</th>\n",
       "      <td>2015-12</td>\n",
       "      <td>1.1800</td>\n",
       "    </tr>\n",
       "    <tr>\n",
       "      <th>12</th>\n",
       "      <td>2016-01</td>\n",
       "      <td>1.1100</td>\n",
       "    </tr>\n",
       "    <tr>\n",
       "      <th>13</th>\n",
       "      <td>2016-02</td>\n",
       "      <td>1.1000</td>\n",
       "    </tr>\n",
       "    <tr>\n",
       "      <th>14</th>\n",
       "      <td>2016-03</td>\n",
       "      <td>1.2050</td>\n",
       "    </tr>\n",
       "    <tr>\n",
       "      <th>15</th>\n",
       "      <td>2016-04</td>\n",
       "      <td>1.1500</td>\n",
       "    </tr>\n",
       "    <tr>\n",
       "      <th>16</th>\n",
       "      <td>2016-05</td>\n",
       "      <td>1.0700</td>\n",
       "    </tr>\n",
       "    <tr>\n",
       "      <th>17</th>\n",
       "      <td>2016-06</td>\n",
       "      <td>1.4025</td>\n",
       "    </tr>\n",
       "    <tr>\n",
       "      <th>18</th>\n",
       "      <td>2016-07</td>\n",
       "      <td>1.6120</td>\n",
       "    </tr>\n",
       "    <tr>\n",
       "      <th>19</th>\n",
       "      <td>2016-08</td>\n",
       "      <td>1.5200</td>\n",
       "    </tr>\n",
       "    <tr>\n",
       "      <th>20</th>\n",
       "      <td>2016-09</td>\n",
       "      <td>1.4625</td>\n",
       "    </tr>\n",
       "    <tr>\n",
       "      <th>21</th>\n",
       "      <td>2016-10</td>\n",
       "      <td>1.8620</td>\n",
       "    </tr>\n",
       "    <tr>\n",
       "      <th>22</th>\n",
       "      <td>2016-11</td>\n",
       "      <td>1.7450</td>\n",
       "    </tr>\n",
       "    <tr>\n",
       "      <th>23</th>\n",
       "      <td>2016-12</td>\n",
       "      <td>1.3650</td>\n",
       "    </tr>\n",
       "    <tr>\n",
       "      <th>24</th>\n",
       "      <td>2017-01</td>\n",
       "      <td>1.4220</td>\n",
       "    </tr>\n",
       "    <tr>\n",
       "      <th>25</th>\n",
       "      <td>2017-02</td>\n",
       "      <td>1.3150</td>\n",
       "    </tr>\n",
       "    <tr>\n",
       "      <th>26</th>\n",
       "      <td>2017-03</td>\n",
       "      <td>1.6425</td>\n",
       "    </tr>\n",
       "    <tr>\n",
       "      <th>27</th>\n",
       "      <td>2017-04</td>\n",
       "      <td>1.7540</td>\n",
       "    </tr>\n",
       "    <tr>\n",
       "      <th>28</th>\n",
       "      <td>2017-05</td>\n",
       "      <td>1.7375</td>\n",
       "    </tr>\n",
       "    <tr>\n",
       "      <th>29</th>\n",
       "      <td>2017-06</td>\n",
       "      <td>1.7150</td>\n",
       "    </tr>\n",
       "    <tr>\n",
       "      <th>30</th>\n",
       "      <td>2017-07</td>\n",
       "      <td>1.5980</td>\n",
       "    </tr>\n",
       "    <tr>\n",
       "      <th>31</th>\n",
       "      <td>2017-08</td>\n",
       "      <td>1.6750</td>\n",
       "    </tr>\n",
       "    <tr>\n",
       "      <th>32</th>\n",
       "      <td>2017-09</td>\n",
       "      <td>1.6675</td>\n",
       "    </tr>\n",
       "    <tr>\n",
       "      <th>33</th>\n",
       "      <td>2017-10</td>\n",
       "      <td>1.6300</td>\n",
       "    </tr>\n",
       "    <tr>\n",
       "      <th>34</th>\n",
       "      <td>2017-11</td>\n",
       "      <td>1.4300</td>\n",
       "    </tr>\n",
       "    <tr>\n",
       "      <th>35</th>\n",
       "      <td>2017-12</td>\n",
       "      <td>1.3260</td>\n",
       "    </tr>\n",
       "    <tr>\n",
       "      <th>36</th>\n",
       "      <td>2018-01</td>\n",
       "      <td>1.4525</td>\n",
       "    </tr>\n",
       "    <tr>\n",
       "      <th>37</th>\n",
       "      <td>2018-02</td>\n",
       "      <td>1.2725</td>\n",
       "    </tr>\n",
       "    <tr>\n",
       "      <th>38</th>\n",
       "      <td>2018-03</td>\n",
       "      <td>1.3375</td>\n",
       "    </tr>\n",
       "  </tbody>\n",
       "</table>\n",
       "</div>"
      ],
      "text/plain": [
       "       Date  AveragePrice\n",
       "0   2015-01        1.2900\n",
       "1   2015-02        1.2900\n",
       "2   2015-03        1.3360\n",
       "3   2015-04        1.4250\n",
       "4   2015-05        1.3540\n",
       "5   2015-06        1.3200\n",
       "6   2015-07        1.2750\n",
       "7   2015-08        1.1400\n",
       "8   2015-09        1.1800\n",
       "9   2015-10        1.1850\n",
       "10  2015-11        1.1060\n",
       "11  2015-12        1.1800\n",
       "12  2016-01        1.1100\n",
       "13  2016-02        1.1000\n",
       "14  2016-03        1.2050\n",
       "15  2016-04        1.1500\n",
       "16  2016-05        1.0700\n",
       "17  2016-06        1.4025\n",
       "18  2016-07        1.6120\n",
       "19  2016-08        1.5200\n",
       "20  2016-09        1.4625\n",
       "21  2016-10        1.8620\n",
       "22  2016-11        1.7450\n",
       "23  2016-12        1.3650\n",
       "24  2017-01        1.4220\n",
       "25  2017-02        1.3150\n",
       "26  2017-03        1.6425\n",
       "27  2017-04        1.7540\n",
       "28  2017-05        1.7375\n",
       "29  2017-06        1.7150\n",
       "30  2017-07        1.5980\n",
       "31  2017-08        1.6750\n",
       "32  2017-09        1.6675\n",
       "33  2017-10        1.6300\n",
       "34  2017-11        1.4300\n",
       "35  2017-12        1.3260\n",
       "36  2018-01        1.4525\n",
       "37  2018-02        1.2725\n",
       "38  2018-03        1.3375"
      ]
     },
     "execution_count": 13,
     "metadata": {},
     "output_type": "execute_result"
    }
   ],
   "source": [
    "agg = {'AveragePrice':'mean'}\n",
    "df_con_price = df_con_price.groupby(df_con_price['Date']).aggregate(agg).reset_index()\n",
    "df_con_price"
   ]
  },
  {
   "cell_type": "code",
   "execution_count": 14,
   "metadata": {
    "colab": {
     "base_uri": "https://localhost:8080/",
     "height": 1000
    },
    "executionInfo": {
     "elapsed": 32,
     "status": "ok",
     "timestamp": 1652590809696,
     "user": {
      "displayName": "Son Luc Cam",
      "userId": "01778600856537737107"
     },
     "user_tz": -420
    },
    "id": "moLjoRpu5ATN",
    "outputId": "38ad1dae-fa96-40c5-cc54-87889310dd50"
   },
   "outputs": [
    {
     "data": {
      "text/html": [
       "<div>\n",
       "<style scoped>\n",
       "    .dataframe tbody tr th:only-of-type {\n",
       "        vertical-align: middle;\n",
       "    }\n",
       "\n",
       "    .dataframe tbody tr th {\n",
       "        vertical-align: top;\n",
       "    }\n",
       "\n",
       "    .dataframe thead th {\n",
       "        text-align: right;\n",
       "    }\n",
       "</style>\n",
       "<table border=\"1\" class=\"dataframe\">\n",
       "  <thead>\n",
       "    <tr style=\"text-align: right;\">\n",
       "      <th></th>\n",
       "      <th>Date</th>\n",
       "      <th>AveragePrice</th>\n",
       "    </tr>\n",
       "  </thead>\n",
       "  <tbody>\n",
       "    <tr>\n",
       "      <th>0</th>\n",
       "      <td>2015-01-01</td>\n",
       "      <td>1.2900</td>\n",
       "    </tr>\n",
       "    <tr>\n",
       "      <th>1</th>\n",
       "      <td>2015-02-01</td>\n",
       "      <td>1.2900</td>\n",
       "    </tr>\n",
       "    <tr>\n",
       "      <th>2</th>\n",
       "      <td>2015-03-01</td>\n",
       "      <td>1.3360</td>\n",
       "    </tr>\n",
       "    <tr>\n",
       "      <th>3</th>\n",
       "      <td>2015-04-01</td>\n",
       "      <td>1.4250</td>\n",
       "    </tr>\n",
       "    <tr>\n",
       "      <th>4</th>\n",
       "      <td>2015-05-01</td>\n",
       "      <td>1.3540</td>\n",
       "    </tr>\n",
       "    <tr>\n",
       "      <th>5</th>\n",
       "      <td>2015-06-01</td>\n",
       "      <td>1.3200</td>\n",
       "    </tr>\n",
       "    <tr>\n",
       "      <th>6</th>\n",
       "      <td>2015-07-01</td>\n",
       "      <td>1.2750</td>\n",
       "    </tr>\n",
       "    <tr>\n",
       "      <th>7</th>\n",
       "      <td>2015-08-01</td>\n",
       "      <td>1.1400</td>\n",
       "    </tr>\n",
       "    <tr>\n",
       "      <th>8</th>\n",
       "      <td>2015-09-01</td>\n",
       "      <td>1.1800</td>\n",
       "    </tr>\n",
       "    <tr>\n",
       "      <th>9</th>\n",
       "      <td>2015-10-01</td>\n",
       "      <td>1.1850</td>\n",
       "    </tr>\n",
       "    <tr>\n",
       "      <th>10</th>\n",
       "      <td>2015-11-01</td>\n",
       "      <td>1.1060</td>\n",
       "    </tr>\n",
       "    <tr>\n",
       "      <th>11</th>\n",
       "      <td>2015-12-01</td>\n",
       "      <td>1.1800</td>\n",
       "    </tr>\n",
       "    <tr>\n",
       "      <th>12</th>\n",
       "      <td>2016-01-01</td>\n",
       "      <td>1.1100</td>\n",
       "    </tr>\n",
       "    <tr>\n",
       "      <th>13</th>\n",
       "      <td>2016-02-01</td>\n",
       "      <td>1.1000</td>\n",
       "    </tr>\n",
       "    <tr>\n",
       "      <th>14</th>\n",
       "      <td>2016-03-01</td>\n",
       "      <td>1.2050</td>\n",
       "    </tr>\n",
       "    <tr>\n",
       "      <th>15</th>\n",
       "      <td>2016-04-01</td>\n",
       "      <td>1.1500</td>\n",
       "    </tr>\n",
       "    <tr>\n",
       "      <th>16</th>\n",
       "      <td>2016-05-01</td>\n",
       "      <td>1.0700</td>\n",
       "    </tr>\n",
       "    <tr>\n",
       "      <th>17</th>\n",
       "      <td>2016-06-01</td>\n",
       "      <td>1.4025</td>\n",
       "    </tr>\n",
       "    <tr>\n",
       "      <th>18</th>\n",
       "      <td>2016-07-01</td>\n",
       "      <td>1.6120</td>\n",
       "    </tr>\n",
       "    <tr>\n",
       "      <th>19</th>\n",
       "      <td>2016-08-01</td>\n",
       "      <td>1.5200</td>\n",
       "    </tr>\n",
       "    <tr>\n",
       "      <th>20</th>\n",
       "      <td>2016-09-01</td>\n",
       "      <td>1.4625</td>\n",
       "    </tr>\n",
       "    <tr>\n",
       "      <th>21</th>\n",
       "      <td>2016-10-01</td>\n",
       "      <td>1.8620</td>\n",
       "    </tr>\n",
       "    <tr>\n",
       "      <th>22</th>\n",
       "      <td>2016-11-01</td>\n",
       "      <td>1.7450</td>\n",
       "    </tr>\n",
       "    <tr>\n",
       "      <th>23</th>\n",
       "      <td>2016-12-01</td>\n",
       "      <td>1.3650</td>\n",
       "    </tr>\n",
       "    <tr>\n",
       "      <th>24</th>\n",
       "      <td>2017-01-01</td>\n",
       "      <td>1.4220</td>\n",
       "    </tr>\n",
       "    <tr>\n",
       "      <th>25</th>\n",
       "      <td>2017-02-01</td>\n",
       "      <td>1.3150</td>\n",
       "    </tr>\n",
       "    <tr>\n",
       "      <th>26</th>\n",
       "      <td>2017-03-01</td>\n",
       "      <td>1.6425</td>\n",
       "    </tr>\n",
       "    <tr>\n",
       "      <th>27</th>\n",
       "      <td>2017-04-01</td>\n",
       "      <td>1.7540</td>\n",
       "    </tr>\n",
       "    <tr>\n",
       "      <th>28</th>\n",
       "      <td>2017-05-01</td>\n",
       "      <td>1.7375</td>\n",
       "    </tr>\n",
       "    <tr>\n",
       "      <th>29</th>\n",
       "      <td>2017-06-01</td>\n",
       "      <td>1.7150</td>\n",
       "    </tr>\n",
       "    <tr>\n",
       "      <th>30</th>\n",
       "      <td>2017-07-01</td>\n",
       "      <td>1.5980</td>\n",
       "    </tr>\n",
       "    <tr>\n",
       "      <th>31</th>\n",
       "      <td>2017-08-01</td>\n",
       "      <td>1.6750</td>\n",
       "    </tr>\n",
       "    <tr>\n",
       "      <th>32</th>\n",
       "      <td>2017-09-01</td>\n",
       "      <td>1.6675</td>\n",
       "    </tr>\n",
       "    <tr>\n",
       "      <th>33</th>\n",
       "      <td>2017-10-01</td>\n",
       "      <td>1.6300</td>\n",
       "    </tr>\n",
       "    <tr>\n",
       "      <th>34</th>\n",
       "      <td>2017-11-01</td>\n",
       "      <td>1.4300</td>\n",
       "    </tr>\n",
       "    <tr>\n",
       "      <th>35</th>\n",
       "      <td>2017-12-01</td>\n",
       "      <td>1.3260</td>\n",
       "    </tr>\n",
       "    <tr>\n",
       "      <th>36</th>\n",
       "      <td>2018-01-01</td>\n",
       "      <td>1.4525</td>\n",
       "    </tr>\n",
       "    <tr>\n",
       "      <th>37</th>\n",
       "      <td>2018-02-01</td>\n",
       "      <td>1.2725</td>\n",
       "    </tr>\n",
       "    <tr>\n",
       "      <th>38</th>\n",
       "      <td>2018-03-01</td>\n",
       "      <td>1.3375</td>\n",
       "    </tr>\n",
       "  </tbody>\n",
       "</table>\n",
       "</div>"
      ],
      "text/plain": [
       "         Date  AveragePrice\n",
       "0  2015-01-01        1.2900\n",
       "1  2015-02-01        1.2900\n",
       "2  2015-03-01        1.3360\n",
       "3  2015-04-01        1.4250\n",
       "4  2015-05-01        1.3540\n",
       "5  2015-06-01        1.3200\n",
       "6  2015-07-01        1.2750\n",
       "7  2015-08-01        1.1400\n",
       "8  2015-09-01        1.1800\n",
       "9  2015-10-01        1.1850\n",
       "10 2015-11-01        1.1060\n",
       "11 2015-12-01        1.1800\n",
       "12 2016-01-01        1.1100\n",
       "13 2016-02-01        1.1000\n",
       "14 2016-03-01        1.2050\n",
       "15 2016-04-01        1.1500\n",
       "16 2016-05-01        1.0700\n",
       "17 2016-06-01        1.4025\n",
       "18 2016-07-01        1.6120\n",
       "19 2016-08-01        1.5200\n",
       "20 2016-09-01        1.4625\n",
       "21 2016-10-01        1.8620\n",
       "22 2016-11-01        1.7450\n",
       "23 2016-12-01        1.3650\n",
       "24 2017-01-01        1.4220\n",
       "25 2017-02-01        1.3150\n",
       "26 2017-03-01        1.6425\n",
       "27 2017-04-01        1.7540\n",
       "28 2017-05-01        1.7375\n",
       "29 2017-06-01        1.7150\n",
       "30 2017-07-01        1.5980\n",
       "31 2017-08-01        1.6750\n",
       "32 2017-09-01        1.6675\n",
       "33 2017-10-01        1.6300\n",
       "34 2017-11-01        1.4300\n",
       "35 2017-12-01        1.3260\n",
       "36 2018-01-01        1.4525\n",
       "37 2018-02-01        1.2725\n",
       "38 2018-03-01        1.3375"
      ]
     },
     "execution_count": 14,
     "metadata": {},
     "output_type": "execute_result"
    }
   ],
   "source": [
    "df_con_price_bgin = df_con_price.copy()\n",
    "df_con_price_bgin['Date'] = pd.to_datetime(df_con_price['Date'])\n",
    "df_con_price_bgin"
   ]
  },
  {
   "cell_type": "markdown",
   "metadata": {
    "id": "R9nyccRI7nGB"
   },
   "source": []
  },
  {
   "cell_type": "code",
   "execution_count": 15,
   "metadata": {
    "colab": {
     "base_uri": "https://localhost:8080/"
    },
    "executionInfo": {
     "elapsed": 31,
     "status": "ok",
     "timestamp": 1652590809697,
     "user": {
      "displayName": "Son Luc Cam",
      "userId": "01778600856537737107"
     },
     "user_tz": -420
    },
    "id": "I2VlusxN7nNz",
    "outputId": "e7ad55b7-5bc0-4990-92da-3ec27782ec5d"
   },
   "outputs": [
    {
     "data": {
      "text/plain": [
       "1.4015384615384612"
      ]
     },
     "execution_count": 15,
     "metadata": {},
     "output_type": "execute_result"
    }
   ],
   "source": [
    "df_con_price_bgin['AveragePrice'].mean()"
   ]
  },
  {
   "cell_type": "markdown",
   "metadata": {
    "id": "QbzLmGON8J0v"
   },
   "source": []
  },
  {
   "cell_type": "code",
   "execution_count": 16,
   "metadata": {
    "colab": {
     "base_uri": "https://localhost:8080/",
     "height": 1000
    },
    "executionInfo": {
     "elapsed": 26,
     "status": "ok",
     "timestamp": 1652590809697,
     "user": {
      "displayName": "Son Luc Cam",
      "userId": "01778600856537737107"
     },
     "user_tz": -420
    },
    "id": "TSlnO3Mv8KWA",
    "outputId": "b0d55eba-8192-4ffa-9db5-63dd0f642da7"
   },
   "outputs": [
    {
     "data": {
      "text/html": [
       "<div>\n",
       "<style scoped>\n",
       "    .dataframe tbody tr th:only-of-type {\n",
       "        vertical-align: middle;\n",
       "    }\n",
       "\n",
       "    .dataframe tbody tr th {\n",
       "        vertical-align: top;\n",
       "    }\n",
       "\n",
       "    .dataframe thead th {\n",
       "        text-align: right;\n",
       "    }\n",
       "</style>\n",
       "<table border=\"1\" class=\"dataframe\">\n",
       "  <thead>\n",
       "    <tr style=\"text-align: right;\">\n",
       "      <th></th>\n",
       "      <th>AveragePrice</th>\n",
       "    </tr>\n",
       "    <tr>\n",
       "      <th>Date</th>\n",
       "      <th></th>\n",
       "    </tr>\n",
       "  </thead>\n",
       "  <tbody>\n",
       "    <tr>\n",
       "      <th>2015-01-01</th>\n",
       "      <td>1.2900</td>\n",
       "    </tr>\n",
       "    <tr>\n",
       "      <th>2015-02-01</th>\n",
       "      <td>1.2900</td>\n",
       "    </tr>\n",
       "    <tr>\n",
       "      <th>2015-03-01</th>\n",
       "      <td>1.3360</td>\n",
       "    </tr>\n",
       "    <tr>\n",
       "      <th>2015-04-01</th>\n",
       "      <td>1.4250</td>\n",
       "    </tr>\n",
       "    <tr>\n",
       "      <th>2015-05-01</th>\n",
       "      <td>1.3540</td>\n",
       "    </tr>\n",
       "    <tr>\n",
       "      <th>2015-06-01</th>\n",
       "      <td>1.3200</td>\n",
       "    </tr>\n",
       "    <tr>\n",
       "      <th>2015-07-01</th>\n",
       "      <td>1.2750</td>\n",
       "    </tr>\n",
       "    <tr>\n",
       "      <th>2015-08-01</th>\n",
       "      <td>1.1400</td>\n",
       "    </tr>\n",
       "    <tr>\n",
       "      <th>2015-09-01</th>\n",
       "      <td>1.1800</td>\n",
       "    </tr>\n",
       "    <tr>\n",
       "      <th>2015-10-01</th>\n",
       "      <td>1.1850</td>\n",
       "    </tr>\n",
       "    <tr>\n",
       "      <th>2015-11-01</th>\n",
       "      <td>1.1060</td>\n",
       "    </tr>\n",
       "    <tr>\n",
       "      <th>2015-12-01</th>\n",
       "      <td>1.1800</td>\n",
       "    </tr>\n",
       "    <tr>\n",
       "      <th>2016-01-01</th>\n",
       "      <td>1.1100</td>\n",
       "    </tr>\n",
       "    <tr>\n",
       "      <th>2016-02-01</th>\n",
       "      <td>1.1000</td>\n",
       "    </tr>\n",
       "    <tr>\n",
       "      <th>2016-03-01</th>\n",
       "      <td>1.2050</td>\n",
       "    </tr>\n",
       "    <tr>\n",
       "      <th>2016-04-01</th>\n",
       "      <td>1.1500</td>\n",
       "    </tr>\n",
       "    <tr>\n",
       "      <th>2016-05-01</th>\n",
       "      <td>1.0700</td>\n",
       "    </tr>\n",
       "    <tr>\n",
       "      <th>2016-06-01</th>\n",
       "      <td>1.4025</td>\n",
       "    </tr>\n",
       "    <tr>\n",
       "      <th>2016-07-01</th>\n",
       "      <td>1.6120</td>\n",
       "    </tr>\n",
       "    <tr>\n",
       "      <th>2016-08-01</th>\n",
       "      <td>1.5200</td>\n",
       "    </tr>\n",
       "    <tr>\n",
       "      <th>2016-09-01</th>\n",
       "      <td>1.4625</td>\n",
       "    </tr>\n",
       "    <tr>\n",
       "      <th>2016-10-01</th>\n",
       "      <td>1.8620</td>\n",
       "    </tr>\n",
       "    <tr>\n",
       "      <th>2016-11-01</th>\n",
       "      <td>1.7450</td>\n",
       "    </tr>\n",
       "    <tr>\n",
       "      <th>2016-12-01</th>\n",
       "      <td>1.3650</td>\n",
       "    </tr>\n",
       "    <tr>\n",
       "      <th>2017-01-01</th>\n",
       "      <td>1.4220</td>\n",
       "    </tr>\n",
       "    <tr>\n",
       "      <th>2017-02-01</th>\n",
       "      <td>1.3150</td>\n",
       "    </tr>\n",
       "    <tr>\n",
       "      <th>2017-03-01</th>\n",
       "      <td>1.6425</td>\n",
       "    </tr>\n",
       "    <tr>\n",
       "      <th>2017-04-01</th>\n",
       "      <td>1.7540</td>\n",
       "    </tr>\n",
       "    <tr>\n",
       "      <th>2017-05-01</th>\n",
       "      <td>1.7375</td>\n",
       "    </tr>\n",
       "    <tr>\n",
       "      <th>2017-06-01</th>\n",
       "      <td>1.7150</td>\n",
       "    </tr>\n",
       "    <tr>\n",
       "      <th>2017-07-01</th>\n",
       "      <td>1.5980</td>\n",
       "    </tr>\n",
       "    <tr>\n",
       "      <th>2017-08-01</th>\n",
       "      <td>1.6750</td>\n",
       "    </tr>\n",
       "    <tr>\n",
       "      <th>2017-09-01</th>\n",
       "      <td>1.6675</td>\n",
       "    </tr>\n",
       "    <tr>\n",
       "      <th>2017-10-01</th>\n",
       "      <td>1.6300</td>\n",
       "    </tr>\n",
       "    <tr>\n",
       "      <th>2017-11-01</th>\n",
       "      <td>1.4300</td>\n",
       "    </tr>\n",
       "    <tr>\n",
       "      <th>2017-12-01</th>\n",
       "      <td>1.3260</td>\n",
       "    </tr>\n",
       "    <tr>\n",
       "      <th>2018-01-01</th>\n",
       "      <td>1.4525</td>\n",
       "    </tr>\n",
       "    <tr>\n",
       "      <th>2018-02-01</th>\n",
       "      <td>1.2725</td>\n",
       "    </tr>\n",
       "    <tr>\n",
       "      <th>2018-03-01</th>\n",
       "      <td>1.3375</td>\n",
       "    </tr>\n",
       "  </tbody>\n",
       "</table>\n",
       "</div>"
      ],
      "text/plain": [
       "            AveragePrice\n",
       "Date                    \n",
       "2015-01-01        1.2900\n",
       "2015-02-01        1.2900\n",
       "2015-03-01        1.3360\n",
       "2015-04-01        1.4250\n",
       "2015-05-01        1.3540\n",
       "2015-06-01        1.3200\n",
       "2015-07-01        1.2750\n",
       "2015-08-01        1.1400\n",
       "2015-09-01        1.1800\n",
       "2015-10-01        1.1850\n",
       "2015-11-01        1.1060\n",
       "2015-12-01        1.1800\n",
       "2016-01-01        1.1100\n",
       "2016-02-01        1.1000\n",
       "2016-03-01        1.2050\n",
       "2016-04-01        1.1500\n",
       "2016-05-01        1.0700\n",
       "2016-06-01        1.4025\n",
       "2016-07-01        1.6120\n",
       "2016-08-01        1.5200\n",
       "2016-09-01        1.4625\n",
       "2016-10-01        1.8620\n",
       "2016-11-01        1.7450\n",
       "2016-12-01        1.3650\n",
       "2017-01-01        1.4220\n",
       "2017-02-01        1.3150\n",
       "2017-03-01        1.6425\n",
       "2017-04-01        1.7540\n",
       "2017-05-01        1.7375\n",
       "2017-06-01        1.7150\n",
       "2017-07-01        1.5980\n",
       "2017-08-01        1.6750\n",
       "2017-09-01        1.6675\n",
       "2017-10-01        1.6300\n",
       "2017-11-01        1.4300\n",
       "2017-12-01        1.3260\n",
       "2018-01-01        1.4525\n",
       "2018-02-01        1.2725\n",
       "2018-03-01        1.3375"
      ]
     },
     "execution_count": 16,
     "metadata": {},
     "output_type": "execute_result"
    }
   ],
   "source": [
    "df_con_price = df_con_price_bgin.set_index('Date')\n",
    "\n",
    "df_con_price"
   ]
  },
  {
   "cell_type": "markdown",
   "metadata": {
    "id": "nxC17JIdR_8q"
   },
   "source": [
    "* Note for checking the Time-Series Data is Stationary or Seasonality:\n",
    "\n",
    "      For Seasonary there will be:\n",
    "\n",
    "          The p-value is obtained is greater than significance level of 0.05\n",
    "\n",
    "          the ADF (Augmented Dickey Fuller) statistic is higher than any of the critical values."
   ]
  },
  {
   "cell_type": "markdown",
   "metadata": {
    "id": "i7doyxnvTcNb"
   },
   "source": [
    "* Officially: \n",
    "\n",
    "    ARIMA for Non-seasonality (Stationary)and Seasonality but technically ARIMA is that it does not support seasonal data\n",
    "\n",
    "    SARIMA for Seasonality\n",
    "\n",
    "* link:\n",
    "\n",
    "    https://machinelearningmastery.com/sarima-for-time-series-forecasting-in-python/"
   ]
  },
  {
   "cell_type": "code",
   "execution_count": 17,
   "metadata": {
    "colab": {
     "base_uri": "https://localhost:8080/"
    },
    "executionInfo": {
     "elapsed": 25,
     "status": "ok",
     "timestamp": 1652590809698,
     "user": {
      "displayName": "Son Luc Cam",
      "userId": "01778600856537737107"
     },
     "user_tz": -420
    },
    "id": "BtVHswanNwp-",
    "outputId": "dca15891-2679-46cf-dbb8-28f5a65215c5"
   },
   "outputs": [
    {
     "name": "stdout",
     "output_type": "stream",
     "text": [
      "P-values of adfuller:  0.21552286880799154\n",
      "ADF Statistic of adfuller:  -2.174787973161991\n",
      "Critial Values of adfuller:  {'1%': -3.6155091011809297, '5%': -2.941262357486514, '10%': -2.6091995013850418}\n"
     ]
    }
   ],
   "source": [
    "from statsmodels.tsa.stattools import adfuller\n",
    "adfuller = adfuller(df_con_price)\n",
    "print(\"P-values of adfuller: \", adfuller[1])\n",
    "print(\"ADF Statistic of adfuller: \", adfuller[0])\n",
    "print(\"Critial Values of adfuller: \", adfuller[4])"
   ]
  },
  {
   "cell_type": "code",
   "execution_count": 18,
   "metadata": {
    "colab": {
     "base_uri": "https://localhost:8080/",
     "height": 499
    },
    "executionInfo": {
     "elapsed": 749,
     "status": "ok",
     "timestamp": 1652590810425,
     "user": {
      "displayName": "Son Luc Cam",
      "userId": "01778600856537737107"
     },
     "user_tz": -420
    },
    "id": "XkP1TwcL84qT",
    "outputId": "8c374f2e-cae8-4a63-a852-79d3cea69150"
   },
   "outputs": [
    {
     "data": {
      "image/png": "[encoded data removed]",
      "text/plain": [
       "<Figure size 1080x576 with 1 Axes>"
      ]
     },
     "metadata": {
      "needs_background": "light"
     },
     "output_type": "display_data"
    }
   ],
   "source": [
    "plt.figure(figsize=(15,8))\n",
    "plt.plot(df_con_price)\n",
    "plt.title(\"Conventional Avocado in NewYork\")\n",
    "plt.show()"
   ]
  },
  {
   "cell_type": "markdown",
   "metadata": {
    "id": "iYcFxTi78xoJ"
   },
   "source": []
  },
  {
   "cell_type": "code",
   "execution_count": 19,
   "metadata": {
    "colab": {
     "base_uri": "https://localhost:8080/",
     "height": 314
    },
    "executionInfo": {
     "elapsed": 869,
     "status": "ok",
     "timestamp": 1652590811288,
     "user": {
      "displayName": "Son Luc Cam",
      "userId": "01778600856537737107"
     },
     "user_tz": -420
    },
    "id": "FhzRjnid-TQS",
    "outputId": "6e917299-a390-4dea-eb79-e23f05564a1b"
   },
   "outputs": [
    {
     "data": {
      "text/plain": [
       "<Figure size 1080x576 with 0 Axes>"
      ]
     },
     "metadata": {},
     "output_type": "display_data"
    },
    {
     "data": {
      "image/png": "[encoded data removed]",
      "text/plain": [
       "<Figure size 432x288 with 4 Axes>"
      ]
     },
     "metadata": {
      "needs_background": "light"
     },
     "output_type": "display_data"
    }
   ],
   "source": [
    "decompose_con_price = seasonal_decompose(df_con_price, model='multiplicative')\n",
    "\n",
    "plt.figure(figsize=(15,8))\n",
    "decompose_con_price.plot()\n",
    "\n",
    "\n",
    "plt.show()"
   ]
  },
  {
   "cell_type": "code",
   "execution_count": 20,
   "metadata": {
    "colab": {
     "base_uri": "https://localhost:8080/",
     "height": 499
    },
    "executionInfo": {
     "elapsed": 18,
     "status": "ok",
     "timestamp": 1652590811289,
     "user": {
      "displayName": "Son Luc Cam",
      "userId": "01778600856537737107"
     },
     "user_tz": -420
    },
    "id": "A_ytxqu1AJBB",
    "outputId": "0422bc5a-4aa9-4bee-ba40-b43127398ce2"
   },
   "outputs": [
    {
     "data": {
      "image/png": "[encoded data removed]",
      "text/plain": [
       "<Figure size 1080x576 with 1 Axes>"
      ]
     },
     "metadata": {
      "needs_background": "light"
     },
     "output_type": "display_data"
    }
   ],
   "source": [
    "plt.figure(figsize=(15,8))\n",
    "plt.plot(decompose_con_price.trend)\n",
    "plt.title(\"Conventional Avocado trend in NewYork\")\n",
    "plt.show()"
   ]
  },
  {
   "cell_type": "code",
   "execution_count": 21,
   "metadata": {
    "colab": {
     "base_uri": "https://localhost:8080/",
     "height": 499
    },
    "executionInfo": {
     "elapsed": 15,
     "status": "ok",
     "timestamp": 1652590811289,
     "user": {
      "displayName": "Son Luc Cam",
      "userId": "01778600856537737107"
     },
     "user_tz": -420
    },
    "id": "XFVmTd81AZOP",
    "outputId": "7ac4f40a-d7bc-4ce3-8dcf-e5864b90de20"
   },
   "outputs": [
    {
     "data": {
      "image/png": "[encoded data removed]",
      "text/plain": [
       "<Figure size 1080x576 with 1 Axes>"
      ]
     },
     "metadata": {
      "needs_background": "light"
     },
     "output_type": "display_data"
    }
   ],
   "source": [
    "plt.figure(figsize=(15,8))\n",
    "plt.plot(decompose_con_price.seasonal)\n",
    "plt.title(\"Conventional Avocado seasonal in NewYork\")\n",
    "plt.show()"
   ]
  },
  {
   "cell_type": "code",
   "execution_count": 22,
   "metadata": {
    "colab": {
     "base_uri": "https://localhost:8080/",
     "height": 499
    },
    "executionInfo": {
     "elapsed": 905,
     "status": "ok",
     "timestamp": 1652590812183,
     "user": {
      "displayName": "Son Luc Cam",
      "userId": "01778600856537737107"
     },
     "user_tz": -420
    },
    "id": "N5bx-CZcKqT2",
    "outputId": "5e9d2e6c-284b-4a90-9b6f-e639a6ce6716",
    "scrolled": true
   },
   "outputs": [
    {
     "data": {
      "image/png": "[encoded data removed]",
      "text/plain": [
       "<Figure size 1080x576 with 1 Axes>"
      ]
     },
     "metadata": {
      "needs_background": "light"
     },
     "output_type": "display_data"
    }
   ],
   "source": [
    "plt.figure(figsize=(15,8))\n",
    "plt.plot(decompose_con_price.resid)\n",
    "plt.title(\"Conventional Avocado resid in NewYork\")\n",
    "plt.show()"
   ]
  },
  {
   "cell_type": "markdown",
   "metadata": {
    "id": "thN1mCKvL1jM"
   },
   "source": [
    "* Conclusion:\n",
    "\n",
    "        In decompose we choose model='multiplicative' instead of model= 'additive' because it nonlinearity\n",
    "\n",
    "        Non-linear trend\n",
    "\n",
    "        Have Seasonal Component\n",
    "\n",
    "        Residual from a little below 0.85 to 1.15\n"
   ]
  },
  {
   "cell_type": "markdown",
   "metadata": {
    "id": "AmDIF4IkHcF4"
   },
   "source": [
    "Remove trend"
   ]
  },
  {
   "cell_type": "code",
   "execution_count": 23,
   "metadata": {
    "colab": {
     "base_uri": "https://localhost:8080/",
     "height": 1000
    },
    "executionInfo": {
     "elapsed": 42,
     "status": "ok",
     "timestamp": 1652590812184,
     "user": {
      "displayName": "Son Luc Cam",
      "userId": "01778600856537737107"
     },
     "user_tz": -420
    },
    "id": "jaZFir54HcUO",
    "outputId": "cecbb19d-6d87-407a-938f-5a7ba48567c5"
   },
   "outputs": [
    {
     "data": {
      "text/html": [
       "<div>\n",
       "<style scoped>\n",
       "    .dataframe tbody tr th:only-of-type {\n",
       "        vertical-align: middle;\n",
       "    }\n",
       "\n",
       "    .dataframe tbody tr th {\n",
       "        vertical-align: top;\n",
       "    }\n",
       "\n",
       "    .dataframe thead th {\n",
       "        text-align: right;\n",
       "    }\n",
       "</style>\n",
       "<table border=\"1\" class=\"dataframe\">\n",
       "  <thead>\n",
       "    <tr style=\"text-align: right;\">\n",
       "      <th></th>\n",
       "      <th>AveragePrice</th>\n",
       "    </tr>\n",
       "    <tr>\n",
       "      <th>Date</th>\n",
       "      <th></th>\n",
       "    </tr>\n",
       "  </thead>\n",
       "  <tbody>\n",
       "    <tr>\n",
       "      <th>2015-02-01</th>\n",
       "      <td>0.0000</td>\n",
       "    </tr>\n",
       "    <tr>\n",
       "      <th>2015-03-01</th>\n",
       "      <td>0.0460</td>\n",
       "    </tr>\n",
       "    <tr>\n",
       "      <th>2015-04-01</th>\n",
       "      <td>0.0890</td>\n",
       "    </tr>\n",
       "    <tr>\n",
       "      <th>2015-05-01</th>\n",
       "      <td>-0.0710</td>\n",
       "    </tr>\n",
       "    <tr>\n",
       "      <th>2015-06-01</th>\n",
       "      <td>-0.0340</td>\n",
       "    </tr>\n",
       "    <tr>\n",
       "      <th>2015-07-01</th>\n",
       "      <td>-0.0450</td>\n",
       "    </tr>\n",
       "    <tr>\n",
       "      <th>2015-08-01</th>\n",
       "      <td>-0.1350</td>\n",
       "    </tr>\n",
       "    <tr>\n",
       "      <th>2015-09-01</th>\n",
       "      <td>0.0400</td>\n",
       "    </tr>\n",
       "    <tr>\n",
       "      <th>2015-10-01</th>\n",
       "      <td>0.0050</td>\n",
       "    </tr>\n",
       "    <tr>\n",
       "      <th>2015-11-01</th>\n",
       "      <td>-0.0790</td>\n",
       "    </tr>\n",
       "    <tr>\n",
       "      <th>2015-12-01</th>\n",
       "      <td>0.0740</td>\n",
       "    </tr>\n",
       "    <tr>\n",
       "      <th>2016-01-01</th>\n",
       "      <td>-0.0700</td>\n",
       "    </tr>\n",
       "    <tr>\n",
       "      <th>2016-02-01</th>\n",
       "      <td>-0.0100</td>\n",
       "    </tr>\n",
       "    <tr>\n",
       "      <th>2016-03-01</th>\n",
       "      <td>0.1050</td>\n",
       "    </tr>\n",
       "    <tr>\n",
       "      <th>2016-04-01</th>\n",
       "      <td>-0.0550</td>\n",
       "    </tr>\n",
       "    <tr>\n",
       "      <th>2016-05-01</th>\n",
       "      <td>-0.0800</td>\n",
       "    </tr>\n",
       "    <tr>\n",
       "      <th>2016-06-01</th>\n",
       "      <td>0.3325</td>\n",
       "    </tr>\n",
       "    <tr>\n",
       "      <th>2016-07-01</th>\n",
       "      <td>0.2095</td>\n",
       "    </tr>\n",
       "    <tr>\n",
       "      <th>2016-08-01</th>\n",
       "      <td>-0.0920</td>\n",
       "    </tr>\n",
       "    <tr>\n",
       "      <th>2016-09-01</th>\n",
       "      <td>-0.0575</td>\n",
       "    </tr>\n",
       "    <tr>\n",
       "      <th>2016-10-01</th>\n",
       "      <td>0.3995</td>\n",
       "    </tr>\n",
       "    <tr>\n",
       "      <th>2016-11-01</th>\n",
       "      <td>-0.1170</td>\n",
       "    </tr>\n",
       "    <tr>\n",
       "      <th>2016-12-01</th>\n",
       "      <td>-0.3800</td>\n",
       "    </tr>\n",
       "    <tr>\n",
       "      <th>2017-01-01</th>\n",
       "      <td>0.0570</td>\n",
       "    </tr>\n",
       "    <tr>\n",
       "      <th>2017-02-01</th>\n",
       "      <td>-0.1070</td>\n",
       "    </tr>\n",
       "    <tr>\n",
       "      <th>2017-03-01</th>\n",
       "      <td>0.3275</td>\n",
       "    </tr>\n",
       "    <tr>\n",
       "      <th>2017-04-01</th>\n",
       "      <td>0.1115</td>\n",
       "    </tr>\n",
       "    <tr>\n",
       "      <th>2017-05-01</th>\n",
       "      <td>-0.0165</td>\n",
       "    </tr>\n",
       "    <tr>\n",
       "      <th>2017-06-01</th>\n",
       "      <td>-0.0225</td>\n",
       "    </tr>\n",
       "    <tr>\n",
       "      <th>2017-07-01</th>\n",
       "      <td>-0.1170</td>\n",
       "    </tr>\n",
       "    <tr>\n",
       "      <th>2017-08-01</th>\n",
       "      <td>0.0770</td>\n",
       "    </tr>\n",
       "    <tr>\n",
       "      <th>2017-09-01</th>\n",
       "      <td>-0.0075</td>\n",
       "    </tr>\n",
       "    <tr>\n",
       "      <th>2017-10-01</th>\n",
       "      <td>-0.0375</td>\n",
       "    </tr>\n",
       "    <tr>\n",
       "      <th>2017-11-01</th>\n",
       "      <td>-0.2000</td>\n",
       "    </tr>\n",
       "    <tr>\n",
       "      <th>2017-12-01</th>\n",
       "      <td>-0.1040</td>\n",
       "    </tr>\n",
       "    <tr>\n",
       "      <th>2018-01-01</th>\n",
       "      <td>0.1265</td>\n",
       "    </tr>\n",
       "    <tr>\n",
       "      <th>2018-02-01</th>\n",
       "      <td>-0.1800</td>\n",
       "    </tr>\n",
       "    <tr>\n",
       "      <th>2018-03-01</th>\n",
       "      <td>0.0650</td>\n",
       "    </tr>\n",
       "  </tbody>\n",
       "</table>\n",
       "</div>"
      ],
      "text/plain": [
       "            AveragePrice\n",
       "Date                    \n",
       "2015-02-01        0.0000\n",
       "2015-03-01        0.0460\n",
       "2015-04-01        0.0890\n",
       "2015-05-01       -0.0710\n",
       "2015-06-01       -0.0340\n",
       "2015-07-01       -0.0450\n",
       "2015-08-01       -0.1350\n",
       "2015-09-01        0.0400\n",
       "2015-10-01        0.0050\n",
       "2015-11-01       -0.0790\n",
       "2015-12-01        0.0740\n",
       "2016-01-01       -0.0700\n",
       "2016-02-01       -0.0100\n",
       "2016-03-01        0.1050\n",
       "2016-04-01       -0.0550\n",
       "2016-05-01       -0.0800\n",
       "2016-06-01        0.3325\n",
       "2016-07-01        0.2095\n",
       "2016-08-01       -0.0920\n",
       "2016-09-01       -0.0575\n",
       "2016-10-01        0.3995\n",
       "2016-11-01       -0.1170\n",
       "2016-12-01       -0.3800\n",
       "2017-01-01        0.0570\n",
       "2017-02-01       -0.1070\n",
       "2017-03-01        0.3275\n",
       "2017-04-01        0.1115\n",
       "2017-05-01       -0.0165\n",
       "2017-06-01       -0.0225\n",
       "2017-07-01       -0.1170\n",
       "2017-08-01        0.0770\n",
       "2017-09-01       -0.0075\n",
       "2017-10-01       -0.0375\n",
       "2017-11-01       -0.2000\n",
       "2017-12-01       -0.1040\n",
       "2018-01-01        0.1265\n",
       "2018-02-01       -0.1800\n",
       "2018-03-01        0.0650"
      ]
     },
     "execution_count": 23,
     "metadata": {},
     "output_type": "execute_result"
    }
   ],
   "source": [
    "con_price_diff = df_con_price.diff()[1:]\n",
    "con_price_diff"
   ]
  },
  {
   "cell_type": "code",
   "execution_count": 24,
   "metadata": {
    "colab": {
     "base_uri": "https://localhost:8080/"
    },
    "executionInfo": {
     "elapsed": 41,
     "status": "ok",
     "timestamp": 1652590812185,
     "user": {
      "displayName": "Son Luc Cam",
      "userId": "01778600856537737107"
     },
     "user_tz": -420
    },
    "id": "hh6YkMkyJwdd",
    "outputId": "f73e6370-f055-428a-b904-ff6a088f0c0a"
   },
   "outputs": [
    {
     "name": "stdout",
     "output_type": "stream",
     "text": [
      "2015-01-01 00:00:00\n",
      "2018-03-01 00:00:00\n"
     ]
    }
   ],
   "source": [
    "start_date = df_con_price_bgin.iloc[0, 0]\n",
    "end_date = df_con_price_bgin.iloc[-1, 0]\n",
    "print(start_date)\n",
    "print(end_date)\n",
    "s_y = start_date.year\n",
    "e_y = end_date.year"
   ]
  },
  {
   "cell_type": "code",
   "execution_count": 25,
   "metadata": {
    "colab": {
     "base_uri": "https://localhost:8080/",
     "height": 303
    },
    "executionInfo": {
     "elapsed": 36,
     "status": "ok",
     "timestamp": 1652590812185,
     "user": {
      "displayName": "Son Luc Cam",
      "userId": "01778600856537737107"
     },
     "user_tz": -420
    },
    "id": "5kXv9G8dHcfj",
    "outputId": "92697430-ecaf-4623-f873-6e131a22b2f8"
   },
   "outputs": [
    {
     "data": {
      "text/plain": [
       "<matplotlib.lines.Line2D at 0x1a4d0027640>"
      ]
     },
     "execution_count": 25,
     "metadata": {},
     "output_type": "execute_result"
    },
    {
     "data": {
      "image/png": "[encoded data removed]",
      "text/plain": [
       "<Figure size 720x288 with 1 Axes>"
      ]
     },
     "metadata": {
      "needs_background": "light"
     },
     "output_type": "display_data"
    }
   ],
   "source": [
    "\n",
    "plt.figure(figsize=(10,4))\n",
    "plt.plot(con_price_diff)\n",
    "plt.title('Avocado price without trend', fontsize=20)\n",
    "plt.ylabel('Average Price', fontsize=16)\n",
    "for year in range(s_y,e_y):\n",
    "    plt.axvline(pd.to_datetime(str(year)+'-01-01'), color='k', linestyle='--', alpha=0.2)\n",
    "plt.axhline(0, color='k', linestyle='--', alpha=0.2)"
   ]
  },
  {
   "cell_type": "markdown",
   "metadata": {
    "id": "sYagSRJkNVUG"
   },
   "source": [
    "ACF"
   ]
  },
  {
   "cell_type": "code",
   "execution_count": 26,
   "metadata": {
    "colab": {
     "base_uri": "https://localhost:8080/"
    },
    "executionInfo": {
     "elapsed": 32,
     "status": "ok",
     "timestamp": 1652590812185,
     "user": {
      "displayName": "Son Luc Cam",
      "userId": "01778600856537737107"
     },
     "user_tz": -420
    },
    "id": "ExSdaUMfN4pL",
    "outputId": "4a339d90-ef65-4779-8128-51604f235e7d"
   },
   "outputs": [
    {
     "data": {
      "text/plain": [
       "array([ 1.        , -0.07384141, -0.28798452,  0.08388356, -0.0090952 ,\n",
       "        0.00994422, -0.12407192,  0.05421739, -0.11037035,  0.05615694,\n",
       "        0.11750661, -0.10067207,  0.07467517, -0.13854939, -0.02065234,\n",
       "        0.13302827])"
      ]
     },
     "execution_count": 26,
     "metadata": {},
     "output_type": "execute_result"
    }
   ],
   "source": [
    "acf_vals = acf(con_price_diff)\n",
    "acf_vals"
   ]
  },
  {
   "cell_type": "code",
   "execution_count": null,
   "metadata": {
    "colab": {
     "base_uri": "https://localhost:8080/",
     "height": 166
    },
    "executionInfo": {
     "elapsed": 45,
     "status": "error",
     "timestamp": 1652590812201,
     "user": {
      "displayName": "Son Luc Cam",
      "userId": "01778600856537737107"
     },
     "user_tz": -420
    },
    "id": "lRk7ROuaOEvq",
    "outputId": "59244ce1-5891-46a1-899b-e978bf2c1cfd"
   },
   "outputs": [],
   "source": []
  },
  {
   "cell_type": "code",
   "execution_count": 27,
   "metadata": {
    "colab": {
     "base_uri": "https://localhost:8080/",
     "height": 282
    },
    "executionInfo": {
     "elapsed": 304,
     "status": "ok",
     "timestamp": 1652590847132,
     "user": {
      "displayName": "Son Luc Cam",
      "userId": "01778600856537737107"
     },
     "user_tz": -420
    },
    "id": "8EzxZMO4NVdr",
    "outputId": "3ab715fd-5da3-4215-a317-c231fb5976fc"
   },
   "outputs": [
    {
     "data": {
      "text/plain": [
       "<BarContainer object of 16 artists>"
      ]
     },
     "execution_count": 27,
     "metadata": {},
     "output_type": "execute_result"
    },
    {
     "data": {
      "image/png": "[encoded data removed]",
      "text/plain": [
       "<Figure size 432x288 with 1 Axes>"
      ]
     },
     "metadata": {
      "needs_background": "light"
     },
     "output_type": "display_data"
    }
   ],
   "source": [
    "acf_vals = acf(con_price_diff)\n",
    "num_lags = 16\n",
    "plt.bar(range(num_lags), acf_vals[:num_lags])"
   ]
  },
  {
   "cell_type": "code",
   "execution_count": 28,
   "metadata": {
    "colab": {
     "base_uri": "https://localhost:8080/"
    },
    "executionInfo": {
     "elapsed": 20,
     "status": "ok",
     "timestamp": 1652590847622,
     "user": {
      "displayName": "Son Luc Cam",
      "userId": "01778600856537737107"
     },
     "user_tz": -420
    },
    "id": "4AhBpVFDFssE",
    "outputId": "1af5641b-b2b6-4bc3-b4c3-342185f3ac63"
   },
   "outputs": [
    {
     "data": {
      "text/plain": [
       "array([ 1.        , -0.07384141, -0.28798452,  0.08388356, -0.0090952 ,\n",
       "        0.00994422, -0.12407192,  0.05421739, -0.11037035,  0.05615694,\n",
       "        0.11750661, -0.10067207,  0.07467517, -0.13854939, -0.02065234,\n",
       "        0.13302827])"
      ]
     },
     "execution_count": 28,
     "metadata": {},
     "output_type": "execute_result"
    }
   ],
   "source": [
    "acf_vals[:num_lags]"
   ]
  },
  {
   "cell_type": "markdown",
   "metadata": {
    "id": "henV-HsUP3f6"
   },
   "source": [
    "In the 10th month and 15th month we have sinificanbehavior in the ACF plot\n",
    "\n",
    "Base on ACF, we start the Seasonal MA process with the lag of 10 month"
   ]
  },
  {
   "cell_type": "code",
   "execution_count": null,
   "metadata": {
    "executionInfo": {
     "elapsed": 15,
     "status": "ok",
     "timestamp": 1652590847623,
     "user": {
      "displayName": "Son Luc Cam",
      "userId": "01778600856537737107"
     },
     "user_tz": -420
    },
    "id": "8IOLuPNLQsyV"
   },
   "outputs": [],
   "source": []
  },
  {
   "cell_type": "markdown",
   "metadata": {
    "id": "KTqwb7gFOvBV"
   },
   "source": [
    "PACF"
   ]
  },
  {
   "cell_type": "code",
   "execution_count": 29,
   "metadata": {
    "colab": {
     "base_uri": "https://localhost:8080/"
    },
    "executionInfo": {
     "elapsed": 14,
     "status": "ok",
     "timestamp": 1652590847623,
     "user": {
      "displayName": "Son Luc Cam",
      "userId": "01778600856537737107"
     },
     "user_tz": -420
    },
    "id": "dYtCYkH8O9a6",
    "outputId": "e9143535-79be-473f-e4ea-430a61229ff1"
   },
   "outputs": [
    {
     "data": {
      "text/plain": [
       "array([ 1.        , -0.07583713, -0.3115266 ,  0.04145142, -0.10330666,\n",
       "        0.04911894, -0.2044558 ,  0.08414594, -0.30011339,  0.18503952,\n",
       "       -0.05868122,  0.04272718,  0.05299127, -0.26898062, -0.00450625,\n",
       "        0.07919374])"
      ]
     },
     "execution_count": 29,
     "metadata": {},
     "output_type": "execute_result"
    }
   ],
   "source": [
    "pacf_vals = pacf(con_price_diff)\n",
    "pacf_vals[:num_lags]"
   ]
  },
  {
   "cell_type": "code",
   "execution_count": 30,
   "metadata": {
    "colab": {
     "base_uri": "https://localhost:8080/",
     "height": 282
    },
    "executionInfo": {
     "elapsed": 340,
     "status": "ok",
     "timestamp": 1652590847955,
     "user": {
      "displayName": "Son Luc Cam",
      "userId": "01778600856537737107"
     },
     "user_tz": -420
    },
    "id": "VpYUMi72Hcmu",
    "outputId": "e60b8e42-62de-4316-bbe4-47e7d21c9c74"
   },
   "outputs": [
    {
     "data": {
      "text/plain": [
       "<BarContainer object of 16 artists>"
      ]
     },
     "execution_count": 30,
     "metadata": {},
     "output_type": "execute_result"
    },
    {
     "data": {
      "image/png": "[encoded data removed]",
      "text/plain": [
       "<Figure size 432x288 with 1 Axes>"
      ]
     },
     "metadata": {
      "needs_background": "light"
     },
     "output_type": "display_data"
    }
   ],
   "source": [
    "pacf_vals = pacf(con_price_diff)\n",
    "num_lags = 16\n",
    "plt.bar(range(num_lags), pacf_vals[:num_lags])"
   ]
  },
  {
   "cell_type": "markdown",
   "metadata": {
    "id": "1_W2S7RkQsXe"
   },
   "source": []
  },
  {
   "cell_type": "code",
   "execution_count": 31,
   "metadata": {
    "colab": {
     "base_uri": "https://localhost:8080/",
     "height": 445
    },
    "executionInfo": {
     "elapsed": 497,
     "status": "ok",
     "timestamp": 1652590848445,
     "user": {
      "displayName": "Son Luc Cam",
      "userId": "01778600856537737107"
     },
     "user_tz": -420
    },
    "id": "REYtmrpJbwj_",
    "outputId": "c7438164-6614-4aca-c421-f0f3467ae397"
   },
   "outputs": [
    {
     "name": "stderr",
     "output_type": "stream",
     "text": [
      "C:\\ProgramData\\Anaconda3\\envs\\venai_1\\lib\\site-packages\\statsmodels\\graphics\\tsaplots.py:348: FutureWarning: The default method 'yw' can produce PACF values outside of the [-1,1] interval. After 0.13, the default will change tounadjusted Yule-Walker ('ywm'). You can use this method now by setting method='ywm'.\n",
      "  warnings.warn(\n"
     ]
    },
    {
     "data": {
      "image/png": "[encoded data removed]",
      "text/plain": [
       "<Figure size 864x432 with 2 Axes>"
      ]
     },
     "metadata": {
      "needs_background": "light"
     },
     "output_type": "display_data"
    }
   ],
   "source": [
    "fig, ax = plt.subplots(2, figsize=(12, 6))\n",
    "\n",
    "ax[0] = plot_acf(df_con_price, ax=ax[0], lags = 16)\n",
    "ax[1] = plot_pacf(df_con_price, ax=ax[1], lags = 16)"
   ]
  },
  {
   "cell_type": "markdown",
   "metadata": {
    "id": "XJ_Wlt0Xbwzl"
   },
   "source": []
  },
  {
   "cell_type": "markdown",
   "metadata": {
    "id": "wbeR-PM88zZh"
   },
   "source": []
  },
  {
   "cell_type": "code",
   "execution_count": 32,
   "metadata": {
    "executionInfo": {
     "elapsed": 14,
     "status": "ok",
     "timestamp": 1652590848447,
     "user": {
      "displayName": "Son Luc Cam",
      "userId": "01778600856537737107"
     },
     "user_tz": -420
    },
    "id": "5hX247sB8xx7"
   },
   "outputs": [],
   "source": [
    "X_train = df_con_price.query('Date <= \"2017-06-01\"')\n",
    "X_test = df_con_price.query('Date >= \"2017-06-01\"')"
   ]
  },
  {
   "cell_type": "code",
   "execution_count": 33,
   "metadata": {
    "colab": {
     "base_uri": "https://localhost:8080/",
     "height": 1000
    },
    "executionInfo": {
     "elapsed": 14,
     "status": "ok",
     "timestamp": 1652590848448,
     "user": {
      "displayName": "Son Luc Cam",
      "userId": "01778600856537737107"
     },
     "user_tz": -420
    },
    "id": "oD0-yPkAWrbx",
    "outputId": "fac8ca1b-7cc2-409b-ef46-68119e51ab3b"
   },
   "outputs": [
    {
     "data": {
      "text/html": [
       "<div>\n",
       "<style scoped>\n",
       "    .dataframe tbody tr th:only-of-type {\n",
       "        vertical-align: middle;\n",
       "    }\n",
       "\n",
       "    .dataframe tbody tr th {\n",
       "        vertical-align: top;\n",
       "    }\n",
       "\n",
       "    .dataframe thead th {\n",
       "        text-align: right;\n",
       "    }\n",
       "</style>\n",
       "<table border=\"1\" class=\"dataframe\">\n",
       "  <thead>\n",
       "    <tr style=\"text-align: right;\">\n",
       "      <th></th>\n",
       "      <th>AveragePrice</th>\n",
       "    </tr>\n",
       "    <tr>\n",
       "      <th>Date</th>\n",
       "      <th></th>\n",
       "    </tr>\n",
       "  </thead>\n",
       "  <tbody>\n",
       "    <tr>\n",
       "      <th>2015-01-01</th>\n",
       "      <td>1.2900</td>\n",
       "    </tr>\n",
       "    <tr>\n",
       "      <th>2015-02-01</th>\n",
       "      <td>1.2900</td>\n",
       "    </tr>\n",
       "    <tr>\n",
       "      <th>2015-03-01</th>\n",
       "      <td>1.3360</td>\n",
       "    </tr>\n",
       "    <tr>\n",
       "      <th>2015-04-01</th>\n",
       "      <td>1.4250</td>\n",
       "    </tr>\n",
       "    <tr>\n",
       "      <th>2015-05-01</th>\n",
       "      <td>1.3540</td>\n",
       "    </tr>\n",
       "    <tr>\n",
       "      <th>2015-06-01</th>\n",
       "      <td>1.3200</td>\n",
       "    </tr>\n",
       "    <tr>\n",
       "      <th>2015-07-01</th>\n",
       "      <td>1.2750</td>\n",
       "    </tr>\n",
       "    <tr>\n",
       "      <th>2015-08-01</th>\n",
       "      <td>1.1400</td>\n",
       "    </tr>\n",
       "    <tr>\n",
       "      <th>2015-09-01</th>\n",
       "      <td>1.1800</td>\n",
       "    </tr>\n",
       "    <tr>\n",
       "      <th>2015-10-01</th>\n",
       "      <td>1.1850</td>\n",
       "    </tr>\n",
       "    <tr>\n",
       "      <th>2015-11-01</th>\n",
       "      <td>1.1060</td>\n",
       "    </tr>\n",
       "    <tr>\n",
       "      <th>2015-12-01</th>\n",
       "      <td>1.1800</td>\n",
       "    </tr>\n",
       "    <tr>\n",
       "      <th>2016-01-01</th>\n",
       "      <td>1.1100</td>\n",
       "    </tr>\n",
       "    <tr>\n",
       "      <th>2016-02-01</th>\n",
       "      <td>1.1000</td>\n",
       "    </tr>\n",
       "    <tr>\n",
       "      <th>2016-03-01</th>\n",
       "      <td>1.2050</td>\n",
       "    </tr>\n",
       "    <tr>\n",
       "      <th>2016-04-01</th>\n",
       "      <td>1.1500</td>\n",
       "    </tr>\n",
       "    <tr>\n",
       "      <th>2016-05-01</th>\n",
       "      <td>1.0700</td>\n",
       "    </tr>\n",
       "    <tr>\n",
       "      <th>2016-06-01</th>\n",
       "      <td>1.4025</td>\n",
       "    </tr>\n",
       "    <tr>\n",
       "      <th>2016-07-01</th>\n",
       "      <td>1.6120</td>\n",
       "    </tr>\n",
       "    <tr>\n",
       "      <th>2016-08-01</th>\n",
       "      <td>1.5200</td>\n",
       "    </tr>\n",
       "    <tr>\n",
       "      <th>2016-09-01</th>\n",
       "      <td>1.4625</td>\n",
       "    </tr>\n",
       "    <tr>\n",
       "      <th>2016-10-01</th>\n",
       "      <td>1.8620</td>\n",
       "    </tr>\n",
       "    <tr>\n",
       "      <th>2016-11-01</th>\n",
       "      <td>1.7450</td>\n",
       "    </tr>\n",
       "    <tr>\n",
       "      <th>2016-12-01</th>\n",
       "      <td>1.3650</td>\n",
       "    </tr>\n",
       "    <tr>\n",
       "      <th>2017-01-01</th>\n",
       "      <td>1.4220</td>\n",
       "    </tr>\n",
       "    <tr>\n",
       "      <th>2017-02-01</th>\n",
       "      <td>1.3150</td>\n",
       "    </tr>\n",
       "    <tr>\n",
       "      <th>2017-03-01</th>\n",
       "      <td>1.6425</td>\n",
       "    </tr>\n",
       "    <tr>\n",
       "      <th>2017-04-01</th>\n",
       "      <td>1.7540</td>\n",
       "    </tr>\n",
       "    <tr>\n",
       "      <th>2017-05-01</th>\n",
       "      <td>1.7375</td>\n",
       "    </tr>\n",
       "    <tr>\n",
       "      <th>2017-06-01</th>\n",
       "      <td>1.7150</td>\n",
       "    </tr>\n",
       "  </tbody>\n",
       "</table>\n",
       "</div>"
      ],
      "text/plain": [
       "            AveragePrice\n",
       "Date                    \n",
       "2015-01-01        1.2900\n",
       "2015-02-01        1.2900\n",
       "2015-03-01        1.3360\n",
       "2015-04-01        1.4250\n",
       "2015-05-01        1.3540\n",
       "2015-06-01        1.3200\n",
       "2015-07-01        1.2750\n",
       "2015-08-01        1.1400\n",
       "2015-09-01        1.1800\n",
       "2015-10-01        1.1850\n",
       "2015-11-01        1.1060\n",
       "2015-12-01        1.1800\n",
       "2016-01-01        1.1100\n",
       "2016-02-01        1.1000\n",
       "2016-03-01        1.2050\n",
       "2016-04-01        1.1500\n",
       "2016-05-01        1.0700\n",
       "2016-06-01        1.4025\n",
       "2016-07-01        1.6120\n",
       "2016-08-01        1.5200\n",
       "2016-09-01        1.4625\n",
       "2016-10-01        1.8620\n",
       "2016-11-01        1.7450\n",
       "2016-12-01        1.3650\n",
       "2017-01-01        1.4220\n",
       "2017-02-01        1.3150\n",
       "2017-03-01        1.6425\n",
       "2017-04-01        1.7540\n",
       "2017-05-01        1.7375\n",
       "2017-06-01        1.7150"
      ]
     },
     "execution_count": 33,
     "metadata": {},
     "output_type": "execute_result"
    }
   ],
   "source": [
    "X_train"
   ]
  },
  {
   "cell_type": "code",
   "execution_count": 34,
   "metadata": {
    "colab": {
     "base_uri": "https://localhost:8080/",
     "height": 394
    },
    "executionInfo": {
     "elapsed": 13,
     "status": "ok",
     "timestamp": 1652590848449,
     "user": {
      "displayName": "Son Luc Cam",
      "userId": "01778600856537737107"
     },
     "user_tz": -420
    },
    "id": "B3E5AmSyWre_",
    "outputId": "43648c09-009b-43cf-cbb1-dfaa53354034"
   },
   "outputs": [
    {
     "data": {
      "text/html": [
       "<div>\n",
       "<style scoped>\n",
       "    .dataframe tbody tr th:only-of-type {\n",
       "        vertical-align: middle;\n",
       "    }\n",
       "\n",
       "    .dataframe tbody tr th {\n",
       "        vertical-align: top;\n",
       "    }\n",
       "\n",
       "    .dataframe thead th {\n",
       "        text-align: right;\n",
       "    }\n",
       "</style>\n",
       "<table border=\"1\" class=\"dataframe\">\n",
       "  <thead>\n",
       "    <tr style=\"text-align: right;\">\n",
       "      <th></th>\n",
       "      <th>AveragePrice</th>\n",
       "    </tr>\n",
       "    <tr>\n",
       "      <th>Date</th>\n",
       "      <th></th>\n",
       "    </tr>\n",
       "  </thead>\n",
       "  <tbody>\n",
       "    <tr>\n",
       "      <th>2017-06-01</th>\n",
       "      <td>1.7150</td>\n",
       "    </tr>\n",
       "    <tr>\n",
       "      <th>2017-07-01</th>\n",
       "      <td>1.5980</td>\n",
       "    </tr>\n",
       "    <tr>\n",
       "      <th>2017-08-01</th>\n",
       "      <td>1.6750</td>\n",
       "    </tr>\n",
       "    <tr>\n",
       "      <th>2017-09-01</th>\n",
       "      <td>1.6675</td>\n",
       "    </tr>\n",
       "    <tr>\n",
       "      <th>2017-10-01</th>\n",
       "      <td>1.6300</td>\n",
       "    </tr>\n",
       "    <tr>\n",
       "      <th>2017-11-01</th>\n",
       "      <td>1.4300</td>\n",
       "    </tr>\n",
       "    <tr>\n",
       "      <th>2017-12-01</th>\n",
       "      <td>1.3260</td>\n",
       "    </tr>\n",
       "    <tr>\n",
       "      <th>2018-01-01</th>\n",
       "      <td>1.4525</td>\n",
       "    </tr>\n",
       "    <tr>\n",
       "      <th>2018-02-01</th>\n",
       "      <td>1.2725</td>\n",
       "    </tr>\n",
       "    <tr>\n",
       "      <th>2018-03-01</th>\n",
       "      <td>1.3375</td>\n",
       "    </tr>\n",
       "  </tbody>\n",
       "</table>\n",
       "</div>"
      ],
      "text/plain": [
       "            AveragePrice\n",
       "Date                    \n",
       "2017-06-01        1.7150\n",
       "2017-07-01        1.5980\n",
       "2017-08-01        1.6750\n",
       "2017-09-01        1.6675\n",
       "2017-10-01        1.6300\n",
       "2017-11-01        1.4300\n",
       "2017-12-01        1.3260\n",
       "2018-01-01        1.4525\n",
       "2018-02-01        1.2725\n",
       "2018-03-01        1.3375"
      ]
     },
     "execution_count": 34,
     "metadata": {},
     "output_type": "execute_result"
    }
   ],
   "source": [
    "X_test"
   ]
  },
  {
   "cell_type": "markdown",
   "metadata": {
    "id": "P_Skg8Sh9YvC"
   },
   "source": []
  },
  {
   "cell_type": "code",
   "execution_count": 35,
   "metadata": {
    "executionInfo": {
     "elapsed": 368,
     "status": "ok",
     "timestamp": 1652590848805,
     "user": {
      "displayName": "Son Luc Cam",
      "userId": "01778600856537737107"
     },
     "user_tz": -420
    },
    "id": "fyzigzwQ9Y6h"
   },
   "outputs": [],
   "source": [
    "from logging import warning\n",
    "from pmdarima import auto_arima\n",
    "\n",
    "import warnings\n",
    "warnings.filterwarnings(\"ignore\")"
   ]
  },
  {
   "cell_type": "markdown",
   "metadata": {
    "id": "LC-OsUMaZCkg"
   },
   "source": [
    "### Expland AR (Corelation with its past values) in ARIMA for the \"p\" parameter\n",
    "\n",
    "Auto Regression : y(t+1) = b0 + b1*y(t-1) + b2*y(t-2)\n",
    "\n",
    "p = order of AR; if p=3 mean X(t) is dependent on past 3 periods\n",
    "\n",
    "p = PACF plot\n",
    "\n",
    "PACF is a plo that shows the correlation of a series with lagged values"
   ]
  },
  {
   "cell_type": "markdown",
   "metadata": {
    "id": "4m-zuftRafAk"
   },
   "source": [
    "### Expland MA (Corelation between past error) in ARIMA for the \"q\" parameter\n",
    "\n",
    "Moving Average: y(t) = b0 + E(t) + b1E(t-1) + b2E(t-2)\n",
    "\n",
    "MA: y(t) depend on the error of the previous lagged values\n",
    "\n",
    "MA: say that y(t) has the effect of previous error terms in it\n",
    "\n",
    "q is the order of MA\n",
    "\n",
    "q from ACF plot"
   ]
  },
  {
   "cell_type": "markdown",
   "metadata": {
    "id": "rXTgdv4iceJz"
   },
   "source": [
    "### Expland I (difference by past value) in ARIMA for the \"d\" parameter\n",
    "\n",
    "we different the data to remove trend and seasonality to make it stationary\n",
    "\n",
    "d is order: how many time we difference the data"
   ]
  },
  {
   "cell_type": "code",
   "execution_count": 34,
   "metadata": {
    "colab": {
     "base_uri": "https://localhost:8080/",
     "height": 70
    },
    "executionInfo": {
     "elapsed": 45,
     "status": "ok",
     "timestamp": 1652590848806,
     "user": {
      "displayName": "Son Luc Cam",
      "userId": "01778600856537737107"
     },
     "user_tz": -420
    },
    "id": "g_wd4gBA_Id0",
    "outputId": "c079dce4-a35a-472b-d293-0172bdc93eba"
   },
   "outputs": [
    {
     "data": {
      "application/vnd.google.colaboratory.intrinsic+json": {
       "type": "string"
      },
      "text/plain": [
       "\" \\nstepwise_model = auto_arima(X_train, \\n                          start_p = 0,\\n                          start_q = 0,\\n                          max_p = 8,\\n                          max_q =8,\\n                          m = 12,\\n                          start_P = 0,\\n                          trace=True, \\n                          suppress_warnings=True,\\n                          error_action='ignore',\\n                          stepwise=True)\\n\\nstepwise_model.summary()\\n\""
      ]
     },
     "execution_count": 34,
     "metadata": {},
     "output_type": "execute_result"
    }
   ],
   "source": [
    "''' \n",
    "stepwise_model = auto_arima(X_train, \n",
    "                          start_p = 0,\n",
    "                          start_q = 0,\n",
    "                          max_p = 8,\n",
    "                          max_q =8,\n",
    "                          m = 12,\n",
    "                          start_P = 0,\n",
    "                          trace=True, \n",
    "                          suppress_warnings=True,\n",
    "                          error_action='ignore',\n",
    "                          stepwise=True)\n",
    "\n",
    "stepwise_model.summary()\n",
    "'''"
   ]
  },
  {
   "cell_type": "code",
   "execution_count": 35,
   "metadata": {
    "executionInfo": {
     "elapsed": 43,
     "status": "ok",
     "timestamp": 1652590848807,
     "user": {
      "displayName": "Son Luc Cam",
      "userId": "01778600856537737107"
     },
     "user_tz": -420
    },
    "id": "Oo-ByJZshfOg"
   },
   "outputs": [],
   "source": [
    "# import itertools"
   ]
  },
  {
   "cell_type": "code",
   "execution_count": 36,
   "metadata": {
    "executionInfo": {
     "elapsed": 42,
     "status": "ok",
     "timestamp": 1652590848807,
     "user": {
      "displayName": "Son Luc Cam",
      "userId": "01778600856537737107"
     },
     "user_tz": -420
    },
    "id": "3UC-pAYAhkC6"
   },
   "outputs": [],
   "source": [
    "#p=range(0,8)\n",
    "#q=range(0,8)\n",
    "#d=range(0,2)"
   ]
  },
  {
   "cell_type": "code",
   "execution_count": 37,
   "metadata": {
    "executionInfo": {
     "elapsed": 41,
     "status": "ok",
     "timestamp": 1652590848807,
     "user": {
      "displayName": "Son Luc Cam",
      "userId": "01778600856537737107"
     },
     "user_tz": -420
    },
    "id": "XPXaYuOPhkAT"
   },
   "outputs": [],
   "source": [
    "#pdq_combination = list(itertools.product(p, d, q))"
   ]
  },
  {
   "cell_type": "code",
   "execution_count": 38,
   "metadata": {
    "executionInfo": {
     "elapsed": 42,
     "status": "ok",
     "timestamp": 1652590848808,
     "user": {
      "displayName": "Son Luc Cam",
      "userId": "01778600856537737107"
     },
     "user_tz": -420
    },
    "id": "S9llzdsjhj87"
   },
   "outputs": [],
   "source": [
    "#len(pdq_combination)"
   ]
  },
  {
   "cell_type": "code",
   "execution_count": 39,
   "metadata": {
    "executionInfo": {
     "elapsed": 41,
     "status": "ok",
     "timestamp": 1652590848808,
     "user": {
      "displayName": "Son Luc Cam",
      "userId": "01778600856537737107"
     },
     "user_tz": -420
    },
    "id": "UyhZKb7LkHpV"
   },
   "outputs": [],
   "source": [
    "#pdq_combination"
   ]
  },
  {
   "cell_type": "code",
   "execution_count": 40,
   "metadata": {
    "executionInfo": {
     "elapsed": 42,
     "status": "ok",
     "timestamp": 1652590848809,
     "user": {
      "displayName": "Son Luc Cam",
      "userId": "01778600856537737107"
     },
     "user_tz": -420
    },
    "id": "iwmFklY3hj5b"
   },
   "outputs": [],
   "source": [
    "#rmse=[]\n",
    "#order1=[]"
   ]
  },
  {
   "cell_type": "code",
   "execution_count": 41,
   "metadata": {
    "colab": {
     "base_uri": "https://localhost:8080/",
     "height": 52
    },
    "executionInfo": {
     "elapsed": 41,
     "status": "ok",
     "timestamp": 1652590848809,
     "user": {
      "displayName": "Son Luc Cam",
      "userId": "01778600856537737107"
     },
     "user_tz": -420
    },
    "id": "KQhh88hEhjw7",
    "outputId": "16155a80-5ab5-42c7-86cf-218d5ce6915b"
   },
   "outputs": [
    {
     "data": {
      "application/vnd.google.colaboratory.intrinsic+json": {
       "type": "string"
      },
      "text/plain": [
       "'\\nfor pdq in pdq_combination:\\n  try:\\n        model = ARIMA(X_train, order=pdq).fit()\\n        pred = model.predict(start=len(X_train), end=(len(df_con_price)))\\n        error = np.sqrt(mean_squared_error(X_test, pred))\\n        order1.append(pdq)\\n        rmse.append(pdq)\\n        rmse.append(error)\\n\\n  except:\\n       continue\\n'"
      ]
     },
     "execution_count": 41,
     "metadata": {},
     "output_type": "execute_result"
    }
   ],
   "source": [
    "'''\n",
    "for pdq in pdq_combination:\n",
    "  try:\n",
    "        model = ARIMA(X_train, order=pdq).fit()\n",
    "        pred = model.predict(start=len(X_train), end=(len(df_con_price)))\n",
    "        error = np.sqrt(mean_squared_error(X_test, pred))\n",
    "        order1.append(pdq)\n",
    "        rmse.append(pdq)\n",
    "        rmse.append(error)\n",
    "\n",
    "  except:\n",
    "       continue\n",
    "'''"
   ]
  },
  {
   "cell_type": "code",
   "execution_count": 42,
   "metadata": {
    "executionInfo": {
     "elapsed": 41,
     "status": "ok",
     "timestamp": 1652590848810,
     "user": {
      "displayName": "Son Luc Cam",
      "userId": "01778600856537737107"
     },
     "user_tz": -420
    },
    "id": "LvtYrMP8kVK1"
   },
   "outputs": [],
   "source": [
    "#print(len(X_train))"
   ]
  },
  {
   "cell_type": "code",
   "execution_count": 43,
   "metadata": {
    "executionInfo": {
     "elapsed": 40,
     "status": "ok",
     "timestamp": 1652590848810,
     "user": {
      "displayName": "Son Luc Cam",
      "userId": "01778600856537737107"
     },
     "user_tz": -420
    },
    "id": "5aksRAQEkVcg"
   },
   "outputs": [],
   "source": [
    "#print(len(df_con_price) -1)"
   ]
  },
  {
   "cell_type": "code",
   "execution_count": 44,
   "metadata": {
    "executionInfo": {
     "elapsed": 39,
     "status": "ok",
     "timestamp": 1652590848810,
     "user": {
      "displayName": "Son Luc Cam",
      "userId": "01778600856537737107"
     },
     "user_tz": -420
    },
    "id": "Yv22g6vjjif2"
   },
   "outputs": [],
   "source": [
    "#rmse"
   ]
  },
  {
   "cell_type": "code",
   "execution_count": 45,
   "metadata": {
    "executionInfo": {
     "elapsed": 40,
     "status": "ok",
     "timestamp": 1652590848811,
     "user": {
      "displayName": "Son Luc Cam",
      "userId": "01778600856537737107"
     },
     "user_tz": -420
    },
    "id": "pFcg4eXDqJQE"
   },
   "outputs": [],
   "source": [
    "#def Convert(lst):\n",
    "#    res_dct = {lst[i]: lst[i + 1] for i in range(0, len(lst), 2)}\n",
    "#    return res_dct"
   ]
  },
  {
   "cell_type": "code",
   "execution_count": 46,
   "metadata": {
    "executionInfo": {
     "elapsed": 42,
     "status": "ok",
     "timestamp": 1652590848812,
     "user": {
      "displayName": "Son Luc Cam",
      "userId": "01778600856537737107"
     },
     "user_tz": -420
    },
    "id": "CKtXIQYRqQOt"
   },
   "outputs": [],
   "source": [
    "#dict_rmse = Convert(rmse)\n",
    "#dict_rmse"
   ]
  },
  {
   "cell_type": "code",
   "execution_count": 47,
   "metadata": {
    "executionInfo": {
     "elapsed": 42,
     "status": "ok",
     "timestamp": 1652590848814,
     "user": {
      "displayName": "Son Luc Cam",
      "userId": "01778600856537737107"
     },
     "user_tz": -420
    },
    "id": "7x3L1kKEq_7m"
   },
   "outputs": [],
   "source": [
    "\n",
    "#min(dict_rmse.items(), key=lambda x: x[1]) "
   ]
  },
  {
   "cell_type": "code",
   "execution_count": 48,
   "metadata": {
    "executionInfo": {
     "elapsed": 43,
     "status": "ok",
     "timestamp": 1652590848815,
     "user": {
      "displayName": "Son Luc Cam",
      "userId": "01778600856537737107"
     },
     "user_tz": -420
    },
    "id": "aHwmUJZ_tmdK"
   },
   "outputs": [],
   "source": [
    "#sorted(dict_rmse, key=dict_rmse.get, reverse=True)"
   ]
  },
  {
   "cell_type": "code",
   "execution_count": 49,
   "metadata": {
    "executionInfo": {
     "elapsed": 42,
     "status": "ok",
     "timestamp": 1652590848815,
     "user": {
      "displayName": "Son Luc Cam",
      "userId": "01778600856537737107"
     },
     "user_tz": -420
    },
    "id": "tQtZS0ZHkDmO"
   },
   "outputs": [],
   "source": [
    "#order1"
   ]
  },
  {
   "cell_type": "code",
   "execution_count": 50,
   "metadata": {
    "executionInfo": {
     "elapsed": 42,
     "status": "ok",
     "timestamp": 1652590848816,
     "user": {
      "displayName": "Son Luc Cam",
      "userId": "01778600856537737107"
     },
     "user_tz": -420
    },
    "id": "kjj2WjAjZpsw"
   },
   "outputs": [],
   "source": [
    "#df_con_price.shape"
   ]
  },
  {
   "cell_type": "code",
   "execution_count": 51,
   "metadata": {
    "executionInfo": {
     "elapsed": 42,
     "status": "ok",
     "timestamp": 1652590848816,
     "user": {
      "displayName": "Son Luc Cam",
      "userId": "01778600856537737107"
     },
     "user_tz": -420
    },
    "id": "nj7xLwAQx1Rf"
   },
   "outputs": [],
   "source": [
    "#model = ARIMA(order=(0,1,0), endog)\n",
    "#model = model.fit(X_train)\n"
   ]
  },
  {
   "cell_type": "markdown",
   "metadata": {
    "id": "dghniijpllhk"
   },
   "source": []
  },
  {
   "cell_type": "code",
   "execution_count": 52,
   "metadata": {
    "executionInfo": {
     "elapsed": 42,
     "status": "ok",
     "timestamp": 1652590848817,
     "user": {
      "displayName": "Son Luc Cam",
      "userId": "01778600856537737107"
     },
     "user_tz": -420
    },
    "id": "79GLiim9uPUM"
   },
   "outputs": [],
   "source": [
    "# sorted(dict_rmse, key=dict_rmse.get, reverse=True)"
   ]
  },
  {
   "cell_type": "code",
   "execution_count": 53,
   "metadata": {
    "executionInfo": {
     "elapsed": 42,
     "status": "ok",
     "timestamp": 1652590848817,
     "user": {
      "displayName": "Son Luc Cam",
      "userId": "01778600856537737107"
     },
     "user_tz": -420
    },
    "id": "zM5tYHfQlk3V"
   },
   "outputs": [],
   "source": [
    "# model_test = ARIMA(X_train, order=(4, 0, 1)).fit()"
   ]
  },
  {
   "cell_type": "code",
   "execution_count": 54,
   "metadata": {
    "executionInfo": {
     "elapsed": 42,
     "status": "ok",
     "timestamp": 1652590848818,
     "user": {
      "displayName": "Son Luc Cam",
      "userId": "01778600856537737107"
     },
     "user_tz": -420
    },
    "id": "e3xx0GxZlk8T"
   },
   "outputs": [],
   "source": [
    "# pred_test = model_test.predict(start=len(X_train), end=(len(df_con_price)))"
   ]
  },
  {
   "cell_type": "code",
   "execution_count": 55,
   "metadata": {
    "executionInfo": {
     "elapsed": 42,
     "status": "ok",
     "timestamp": 1652590848818,
     "user": {
      "displayName": "Son Luc Cam",
      "userId": "01778600856537737107"
     },
     "user_tz": -420
    },
    "id": "cAQVtJVzlk_X"
   },
   "outputs": [],
   "source": [
    "# pred_test"
   ]
  },
  {
   "cell_type": "code",
   "execution_count": 55,
   "metadata": {
    "executionInfo": {
     "elapsed": 41,
     "status": "ok",
     "timestamp": 1652590848818,
     "user": {
      "displayName": "Son Luc Cam",
      "userId": "01778600856537737107"
     },
     "user_tz": -420
    },
    "id": "_4Xfe098llCT"
   },
   "outputs": [],
   "source": []
  },
  {
   "cell_type": "code",
   "execution_count": 55,
   "metadata": {
    "executionInfo": {
     "elapsed": 41,
     "status": "ok",
     "timestamp": 1652590848818,
     "user": {
      "displayName": "Son Luc Cam",
      "userId": "01778600856537737107"
     },
     "user_tz": -420
    },
    "id": "EPLCI_M6llF7"
   },
   "outputs": [],
   "source": []
  },
  {
   "cell_type": "markdown",
   "metadata": {
    "id": "8HhK2uSRXJ68"
   },
   "source": []
  },
  {
   "cell_type": "markdown",
   "metadata": {
    "id": "NTMwaNZ5XKes"
   },
   "source": []
  },
  {
   "cell_type": "code",
   "execution_count": 36,
   "metadata": {
    "executionInfo": {
     "elapsed": 41,
     "status": "ok",
     "timestamp": 1652590848819,
     "user": {
      "displayName": "Son Luc Cam",
      "userId": "01778600856537737107"
     },
     "user_tz": -420
    },
    "id": "dJVfsbC3XLRL"
   },
   "outputs": [],
   "source": [
    "import itertools"
   ]
  },
  {
   "cell_type": "code",
   "execution_count": 37,
   "metadata": {
    "executionInfo": {
     "elapsed": 40,
     "status": "ok",
     "timestamp": 1652590848819,
     "user": {
      "displayName": "Son Luc Cam",
      "userId": "01778600856537737107"
     },
     "user_tz": -420
    },
    "id": "gKATGTahXLRL"
   },
   "outputs": [],
   "source": [
    "p=range(0,8)\n",
    "q=range(0,8)\n",
    "d=range(0,2)\n",
    "P=range(0,8)\n",
    "Q=range(0,8)\n",
    "D=range(0,2)\n",
    "M = range(10, 12)"
   ]
  },
  {
   "cell_type": "code",
   "execution_count": 38,
   "metadata": {
    "colab": {
     "base_uri": "https://localhost:8080/"
    },
    "executionInfo": {
     "elapsed": 41,
     "status": "ok",
     "timestamp": 1652590848820,
     "user": {
      "displayName": "Son Luc Cam",
      "userId": "01778600856537737107"
     },
     "user_tz": -420
    },
    "id": "MxPKZRI8EN69",
    "outputId": "2ed7b671-02ba-4edd-f20a-61eb4b3d0362"
   },
   "outputs": [
    {
     "data": {
      "text/plain": [
       "range(10, 12)"
      ]
     },
     "execution_count": 38,
     "metadata": {},
     "output_type": "execute_result"
    }
   ],
   "source": [
    "M"
   ]
  },
  {
   "cell_type": "code",
   "execution_count": null,
   "metadata": {
    "executionInfo": {
     "elapsed": 34,
     "status": "ok",
     "timestamp": 1652590848820,
     "user": {
      "displayName": "Son Luc Cam",
      "userId": "01778600856537737107"
     },
     "user_tz": -420
    },
    "id": "bOcF5IuSXLRM"
   },
   "outputs": [],
   "source": [
    "pdq_combination = list(itertools.product(p, d, q))\n",
    "pdqM_combination = list(itertools.product(P, D, Q,M ))"
   ]
  },
  {
   "cell_type": "code",
   "execution_count": null,
   "metadata": {
    "colab": {
     "base_uri": "https://localhost:8080/"
    },
    "executionInfo": {
     "elapsed": 34,
     "status": "ok",
     "timestamp": 1652590848820,
     "user": {
      "displayName": "Son Luc Cam",
      "userId": "01778600856537737107"
     },
     "user_tz": -420
    },
    "id": "SUB9KzwUXLRM",
    "outputId": "97282a10-e8ce-4caa-8588-afe59d3af227"
   },
   "outputs": [],
   "source": [
    "print(len(pdq_combination))\n",
    "print(len(pdqM_combination))"
   ]
  },
  {
   "cell_type": "code",
   "execution_count": 41,
   "metadata": {
    "colab": {
     "base_uri": "https://localhost:8080/"
    },
    "executionInfo": {
     "elapsed": 30,
     "status": "ok",
     "timestamp": 1652590848821,
     "user": {
      "displayName": "Son Luc Cam",
      "userId": "01778600856537737107"
     },
     "user_tz": -420
    },
    "id": "dr0V00HYXLRN",
    "outputId": "8e792d6b-216b-4c19-f0f0-0d51bc7e126c"
   },
   "outputs": [
    {
     "data": {
      "text/plain": [
       "[(0, 0, 0, 10),\n",
       " (0, 0, 0, 11),\n",
       " (0, 0, 1, 10),\n",
       " (0, 0, 1, 11),\n",
       " (0, 0, 2, 10),\n",
       " (0, 0, 2, 11),\n",
       " (0, 0, 3, 10),\n",
       " (0, 0, 3, 11),\n",
       " (0, 0, 4, 10),\n",
       " (0, 0, 4, 11),\n",
       " (0, 0, 5, 10),\n",
       " (0, 0, 5, 11),\n",
       " (0, 0, 6, 10),\n",
       " (0, 0, 6, 11),\n",
       " (0, 0, 7, 10),\n",
       " (0, 0, 7, 11),\n",
       " (0, 1, 0, 10),\n",
       " (0, 1, 0, 11),\n",
       " (0, 1, 1, 10),\n",
       " (0, 1, 1, 11),\n",
       " (0, 1, 2, 10),\n",
       " (0, 1, 2, 11),\n",
       " (0, 1, 3, 10),\n",
       " (0, 1, 3, 11),\n",
       " (0, 1, 4, 10),\n",
       " (0, 1, 4, 11),\n",
       " (0, 1, 5, 10),\n",
       " (0, 1, 5, 11),\n",
       " (0, 1, 6, 10),\n",
       " (0, 1, 6, 11),\n",
       " (0, 1, 7, 10),\n",
       " (0, 1, 7, 11),\n",
       " (1, 0, 0, 10),\n",
       " (1, 0, 0, 11),\n",
       " (1, 0, 1, 10),\n",
       " (1, 0, 1, 11),\n",
       " (1, 0, 2, 10),\n",
       " (1, 0, 2, 11),\n",
       " (1, 0, 3, 10),\n",
       " (1, 0, 3, 11),\n",
       " (1, 0, 4, 10),\n",
       " (1, 0, 4, 11),\n",
       " (1, 0, 5, 10),\n",
       " (1, 0, 5, 11),\n",
       " (1, 0, 6, 10),\n",
       " (1, 0, 6, 11),\n",
       " (1, 0, 7, 10),\n",
       " (1, 0, 7, 11),\n",
       " (1, 1, 0, 10),\n",
       " (1, 1, 0, 11),\n",
       " (1, 1, 1, 10),\n",
       " (1, 1, 1, 11),\n",
       " (1, 1, 2, 10),\n",
       " (1, 1, 2, 11),\n",
       " (1, 1, 3, 10),\n",
       " (1, 1, 3, 11),\n",
       " (1, 1, 4, 10),\n",
       " (1, 1, 4, 11),\n",
       " (1, 1, 5, 10),\n",
       " (1, 1, 5, 11),\n",
       " (1, 1, 6, 10),\n",
       " (1, 1, 6, 11),\n",
       " (1, 1, 7, 10),\n",
       " (1, 1, 7, 11),\n",
       " (2, 0, 0, 10),\n",
       " (2, 0, 0, 11),\n",
       " (2, 0, 1, 10),\n",
       " (2, 0, 1, 11),\n",
       " (2, 0, 2, 10),\n",
       " (2, 0, 2, 11),\n",
       " (2, 0, 3, 10),\n",
       " (2, 0, 3, 11),\n",
       " (2, 0, 4, 10),\n",
       " (2, 0, 4, 11),\n",
       " (2, 0, 5, 10),\n",
       " (2, 0, 5, 11),\n",
       " (2, 0, 6, 10),\n",
       " (2, 0, 6, 11),\n",
       " (2, 0, 7, 10),\n",
       " (2, 0, 7, 11),\n",
       " (2, 1, 0, 10),\n",
       " (2, 1, 0, 11),\n",
       " (2, 1, 1, 10),\n",
       " (2, 1, 1, 11),\n",
       " (2, 1, 2, 10),\n",
       " (2, 1, 2, 11),\n",
       " (2, 1, 3, 10),\n",
       " (2, 1, 3, 11),\n",
       " (2, 1, 4, 10),\n",
       " (2, 1, 4, 11),\n",
       " (2, 1, 5, 10),\n",
       " (2, 1, 5, 11),\n",
       " (2, 1, 6, 10),\n",
       " (2, 1, 6, 11),\n",
       " (2, 1, 7, 10),\n",
       " (2, 1, 7, 11),\n",
       " (3, 0, 0, 10),\n",
       " (3, 0, 0, 11),\n",
       " (3, 0, 1, 10),\n",
       " (3, 0, 1, 11),\n",
       " (3, 0, 2, 10),\n",
       " (3, 0, 2, 11),\n",
       " (3, 0, 3, 10),\n",
       " (3, 0, 3, 11),\n",
       " (3, 0, 4, 10),\n",
       " (3, 0, 4, 11),\n",
       " (3, 0, 5, 10),\n",
       " (3, 0, 5, 11),\n",
       " (3, 0, 6, 10),\n",
       " (3, 0, 6, 11),\n",
       " (3, 0, 7, 10),\n",
       " (3, 0, 7, 11),\n",
       " (3, 1, 0, 10),\n",
       " (3, 1, 0, 11),\n",
       " (3, 1, 1, 10),\n",
       " (3, 1, 1, 11),\n",
       " (3, 1, 2, 10),\n",
       " (3, 1, 2, 11),\n",
       " (3, 1, 3, 10),\n",
       " (3, 1, 3, 11),\n",
       " (3, 1, 4, 10),\n",
       " (3, 1, 4, 11),\n",
       " (3, 1, 5, 10),\n",
       " (3, 1, 5, 11),\n",
       " (3, 1, 6, 10),\n",
       " (3, 1, 6, 11),\n",
       " (3, 1, 7, 10),\n",
       " (3, 1, 7, 11),\n",
       " (4, 0, 0, 10),\n",
       " (4, 0, 0, 11),\n",
       " (4, 0, 1, 10),\n",
       " (4, 0, 1, 11),\n",
       " (4, 0, 2, 10),\n",
       " (4, 0, 2, 11),\n",
       " (4, 0, 3, 10),\n",
       " (4, 0, 3, 11),\n",
       " (4, 0, 4, 10),\n",
       " (4, 0, 4, 11),\n",
       " (4, 0, 5, 10),\n",
       " (4, 0, 5, 11),\n",
       " (4, 0, 6, 10),\n",
       " (4, 0, 6, 11),\n",
       " (4, 0, 7, 10),\n",
       " (4, 0, 7, 11),\n",
       " (4, 1, 0, 10),\n",
       " (4, 1, 0, 11),\n",
       " (4, 1, 1, 10),\n",
       " (4, 1, 1, 11),\n",
       " (4, 1, 2, 10),\n",
       " (4, 1, 2, 11),\n",
       " (4, 1, 3, 10),\n",
       " (4, 1, 3, 11),\n",
       " (4, 1, 4, 10),\n",
       " (4, 1, 4, 11),\n",
       " (4, 1, 5, 10),\n",
       " (4, 1, 5, 11),\n",
       " (4, 1, 6, 10),\n",
       " (4, 1, 6, 11),\n",
       " (4, 1, 7, 10),\n",
       " (4, 1, 7, 11),\n",
       " (5, 0, 0, 10),\n",
       " (5, 0, 0, 11),\n",
       " (5, 0, 1, 10),\n",
       " (5, 0, 1, 11),\n",
       " (5, 0, 2, 10),\n",
       " (5, 0, 2, 11),\n",
       " (5, 0, 3, 10),\n",
       " (5, 0, 3, 11),\n",
       " (5, 0, 4, 10),\n",
       " (5, 0, 4, 11),\n",
       " (5, 0, 5, 10),\n",
       " (5, 0, 5, 11),\n",
       " (5, 0, 6, 10),\n",
       " (5, 0, 6, 11),\n",
       " (5, 0, 7, 10),\n",
       " (5, 0, 7, 11),\n",
       " (5, 1, 0, 10),\n",
       " (5, 1, 0, 11),\n",
       " (5, 1, 1, 10),\n",
       " (5, 1, 1, 11),\n",
       " (5, 1, 2, 10),\n",
       " (5, 1, 2, 11),\n",
       " (5, 1, 3, 10),\n",
       " (5, 1, 3, 11),\n",
       " (5, 1, 4, 10),\n",
       " (5, 1, 4, 11),\n",
       " (5, 1, 5, 10),\n",
       " (5, 1, 5, 11),\n",
       " (5, 1, 6, 10),\n",
       " (5, 1, 6, 11),\n",
       " (5, 1, 7, 10),\n",
       " (5, 1, 7, 11),\n",
       " (6, 0, 0, 10),\n",
       " (6, 0, 0, 11),\n",
       " (6, 0, 1, 10),\n",
       " (6, 0, 1, 11),\n",
       " (6, 0, 2, 10),\n",
       " (6, 0, 2, 11),\n",
       " (6, 0, 3, 10),\n",
       " (6, 0, 3, 11),\n",
       " (6, 0, 4, 10),\n",
       " (6, 0, 4, 11),\n",
       " (6, 0, 5, 10),\n",
       " (6, 0, 5, 11),\n",
       " (6, 0, 6, 10),\n",
       " (6, 0, 6, 11),\n",
       " (6, 0, 7, 10),\n",
       " (6, 0, 7, 11),\n",
       " (6, 1, 0, 10),\n",
       " (6, 1, 0, 11),\n",
       " (6, 1, 1, 10),\n",
       " (6, 1, 1, 11),\n",
       " (6, 1, 2, 10),\n",
       " (6, 1, 2, 11),\n",
       " (6, 1, 3, 10),\n",
       " (6, 1, 3, 11),\n",
       " (6, 1, 4, 10),\n",
       " (6, 1, 4, 11),\n",
       " (6, 1, 5, 10),\n",
       " (6, 1, 5, 11),\n",
       " (6, 1, 6, 10),\n",
       " (6, 1, 6, 11),\n",
       " (6, 1, 7, 10),\n",
       " (6, 1, 7, 11),\n",
       " (7, 0, 0, 10),\n",
       " (7, 0, 0, 11),\n",
       " (7, 0, 1, 10),\n",
       " (7, 0, 1, 11),\n",
       " (7, 0, 2, 10),\n",
       " (7, 0, 2, 11),\n",
       " (7, 0, 3, 10),\n",
       " (7, 0, 3, 11),\n",
       " (7, 0, 4, 10),\n",
       " (7, 0, 4, 11),\n",
       " (7, 0, 5, 10),\n",
       " (7, 0, 5, 11),\n",
       " (7, 0, 6, 10),\n",
       " (7, 0, 6, 11),\n",
       " (7, 0, 7, 10),\n",
       " (7, 0, 7, 11),\n",
       " (7, 1, 0, 10),\n",
       " (7, 1, 0, 11),\n",
       " (7, 1, 1, 10),\n",
       " (7, 1, 1, 11),\n",
       " (7, 1, 2, 10),\n",
       " (7, 1, 2, 11),\n",
       " (7, 1, 3, 10),\n",
       " (7, 1, 3, 11),\n",
       " (7, 1, 4, 10),\n",
       " (7, 1, 4, 11),\n",
       " (7, 1, 5, 10),\n",
       " (7, 1, 5, 11),\n",
       " (7, 1, 6, 10),\n",
       " (7, 1, 6, 11),\n",
       " (7, 1, 7, 10),\n",
       " (7, 1, 7, 11)]"
      ]
     },
     "execution_count": 41,
     "metadata": {},
     "output_type": "execute_result"
    }
   ],
   "source": [
    "pdqM_combination"
   ]
  },
  {
   "cell_type": "code",
   "execution_count": 42,
   "metadata": {
    "executionInfo": {
     "elapsed": 282,
     "status": "ok",
     "timestamp": 1652590849076,
     "user": {
      "displayName": "Son Luc Cam",
      "userId": "01778600856537737107"
     },
     "user_tz": -420
    },
    "id": "ui3LiphSXLRO"
   },
   "outputs": [],
   "source": [
    "rmse=[]\n",
    "order1=[]\n",
    "order2=[]"
   ]
  },
  {
   "cell_type": "code",
   "execution_count": null,
   "metadata": {
    "id": "XsIeSbnUXLRP"
   },
   "outputs": [],
   "source": [
    "for pdq in pdq_combination:\n",
    "  for pdqm in pdqM_combination:\n",
    "    try:\n",
    "          model = SARIMAX(X_train, order=pdq, seasonal_order=pdqm).fit()\n",
    "          pred = model.predict(start=len(X_train), end=(len(df_con_price)))\n",
    "          error = np.sqrt(mean_squared_error(X_test, pred))\n",
    "          order1.append(pdq)\n",
    "          order2.append(pdqm)\n",
    "          rmse.append(pdq)\n",
    "          rmse.append(pdqm)\n",
    "          rmse.append(error)\n",
    "\n",
    "    except:\n",
    "         continue\n"
   ]
  },
  {
   "cell_type": "code",
   "execution_count": null,
   "metadata": {
    "id": "MC8g7kb_XLRP"
   },
   "outputs": [],
   "source": []
  },
  {
   "cell_type": "code",
   "execution_count": null,
   "metadata": {
    "colab": {
     "base_uri": "https://localhost:8080/"
    },
    "executionInfo": {
     "elapsed": 418,
     "status": "ok",
     "timestamp": 1652347240085,
     "user": {
      "displayName": "Son Luc Cam",
      "userId": "01778600856537737107"
     },
     "user_tz": -420
    },
    "id": "CVCrt3BYXLRQ",
    "outputId": "1b8042a4-32e5-41fb-c453-4fab229c7b1a"
   },
   "outputs": [
    {
     "name": "stdout",
     "output_type": "stream",
     "text": [
      "38\n"
     ]
    }
   ],
   "source": [
    "print(len(df_con_price) -1)"
   ]
  },
  {
   "cell_type": "code",
   "execution_count": null,
   "metadata": {
    "colab": {
     "base_uri": "https://localhost:8080/"
    },
    "executionInfo": {
     "elapsed": 442,
     "status": "ok",
     "timestamp": 1652348312225,
     "user": {
      "displayName": "Son Luc Cam",
      "userId": "01778600856537737107"
     },
     "user_tz": -420
    },
    "id": "ylNDlYaOXLRQ",
    "outputId": "33fe5f1b-854e-401d-b7f9-04f1055723b9"
   },
   "outputs": [
    {
     "data": {
      "text/plain": [
       "[(0, 0, 0),\n",
       " 0.20673113664376216,\n",
       " (0, 0, 1),\n",
       " 0.19614511719196126,\n",
       " (0, 0, 2),\n",
       " 0.1817563579139082,\n",
       " (0, 0, 3),\n",
       " 0.17711018448017612,\n",
       " (0, 0, 4),\n",
       " 0.17518059575398648,\n",
       " (0, 0, 5),\n",
       " 0.1438244392154043,\n",
       " (0, 0, 6),\n",
       " 0.14691819574149964,\n",
       " (0, 0, 7),\n",
       " 0.14639017534894286,\n",
       " (0, 1, 0),\n",
       " 0.2577857637651855,\n",
       " (0, 1, 1),\n",
       " 0.26012050129360204,\n",
       " (0, 1, 2),\n",
       " 0.21995649985944538,\n",
       " (0, 1, 3),\n",
       " 0.23033100880136123,\n",
       " (0, 1, 4),\n",
       " 0.20450440006154413,\n",
       " (0, 1, 5),\n",
       " 0.21232852682510178,\n",
       " (0, 1, 6),\n",
       " 0.18232746618245943,\n",
       " (0, 1, 7),\n",
       " 0.2168135956135657,\n",
       " (1, 0, 0),\n",
       " 0.10852593600191596,\n",
       " (1, 0, 1),\n",
       " 0.13237383924896726,\n",
       " (1, 0, 2),\n",
       " 0.11859485015150267,\n",
       " (1, 0, 3),\n",
       " 0.12577629974314505,\n",
       " (1, 0, 4),\n",
       " 0.11998903972828356,\n",
       " (1, 0, 5),\n",
       " 0.11623490622203499,\n",
       " (1, 0, 6),\n",
       " 0.128297706225871,\n",
       " (1, 0, 7),\n",
       " 0.12097599726921579,\n",
       " (1, 1, 0),\n",
       " 0.25860482101355853,\n",
       " (1, 1, 1),\n",
       " 0.20664392197803805,\n",
       " (1, 1, 2),\n",
       " 0.23421370723687837,\n",
       " (1, 1, 3),\n",
       " 0.22511136594285763,\n",
       " (1, 1, 4),\n",
       " 0.22094451701188136,\n",
       " (1, 1, 5),\n",
       " 0.20641605534610327,\n",
       " (1, 1, 6),\n",
       " 0.17091821212448033,\n",
       " (1, 1, 7),\n",
       " 0.2508258545883152,\n",
       " (2, 0, 0),\n",
       " 0.11583890564454224,\n",
       " (2, 0, 1),\n",
       " 0.12553767334007732,\n",
       " (2, 0, 2),\n",
       " 0.1144743852347335,\n",
       " (2, 0, 3),\n",
       " 0.11766137830415202,\n",
       " (2, 0, 4),\n",
       " 0.11478571144111621,\n",
       " (2, 0, 5),\n",
       " 0.09896036075915783,\n",
       " (2, 0, 6),\n",
       " 0.11723599994163787,\n",
       " (2, 0, 7),\n",
       " 0.15744241476934615,\n",
       " (2, 1, 0),\n",
       " 0.2661941532735221,\n",
       " (2, 1, 1),\n",
       " 0.2634717745446691,\n",
       " (2, 1, 2),\n",
       " 0.21293333204434395,\n",
       " (2, 1, 3),\n",
       " 0.21381437388888527,\n",
       " (2, 1, 4),\n",
       " 0.19736341808700722,\n",
       " (2, 1, 5),\n",
       " 0.21915268514312564,\n",
       " (2, 1, 6),\n",
       " 0.2068530087326658,\n",
       " (2, 1, 7),\n",
       " 0.26486032743657123,\n",
       " (3, 0, 0),\n",
       " 0.11760595383528427,\n",
       " (3, 0, 1),\n",
       " 0.11684613499887607,\n",
       " (3, 0, 2),\n",
       " 0.11586330478229857,\n",
       " (3, 0, 3),\n",
       " 0.14134833674975827,\n",
       " (3, 0, 4),\n",
       " 0.10364527459686147,\n",
       " (3, 0, 5),\n",
       " 0.08742772360998476,\n",
       " (3, 0, 6),\n",
       " 0.12221036605432756,\n",
       " (3, 0, 7),\n",
       " 0.1412859301886822,\n",
       " (3, 1, 0),\n",
       " 0.2690952649386308,\n",
       " (3, 1, 1),\n",
       " 0.25174506609011577,\n",
       " (3, 1, 2),\n",
       " 0.21292856667671511,\n",
       " (3, 1, 3),\n",
       " 0.20157869710519952,\n",
       " (3, 1, 4),\n",
       " 0.2290136757831125,\n",
       " (3, 1, 5),\n",
       " 0.22219510123571307,\n",
       " (3, 1, 6),\n",
       " 0.2159610100086128,\n",
       " (3, 1, 7),\n",
       " 0.2628788864367644,\n",
       " (4, 0, 0),\n",
       " 0.10334193994826574,\n",
       " (4, 0, 1),\n",
       " 0.11275267787067883,\n",
       " (4, 0, 2),\n",
       " 0.118038188469441,\n",
       " (4, 0, 3),\n",
       " 0.1592654111192998,\n",
       " (4, 0, 4),\n",
       " 0.16672258353129535,\n",
       " (4, 0, 5),\n",
       " 0.13173964237249208,\n",
       " (4, 0, 6),\n",
       " 0.13339823970017098,\n",
       " (4, 0, 7),\n",
       " 0.1290284609217217,\n",
       " (4, 1, 0),\n",
       " 0.2447112683248537,\n",
       " (4, 1, 1),\n",
       " 0.21888381249593433,\n",
       " (4, 1, 2),\n",
       " 0.15588965972437782,\n",
       " (4, 1, 3),\n",
       " 0.19242868300849575,\n",
       " (4, 1, 4),\n",
       " 0.17243296725093765,\n",
       " (4, 1, 5),\n",
       " 0.16924895108771415,\n",
       " (4, 1, 6),\n",
       " 0.21468849407644378,\n",
       " (4, 1, 7),\n",
       " 0.2725446442115318,\n",
       " (5, 0, 0),\n",
       " 0.10951311127211867,\n",
       " (5, 0, 1),\n",
       " 0.11231993407363397,\n",
       " (5, 0, 2),\n",
       " 0.09795384860953646,\n",
       " (5, 0, 3),\n",
       " 0.13132925695109138,\n",
       " (5, 0, 4),\n",
       " 0.1283341035189232,\n",
       " (5, 0, 5),\n",
       " 0.13188852099432558,\n",
       " (5, 0, 6),\n",
       " 0.14740948895105435,\n",
       " (5, 0, 7),\n",
       " 0.15870285837016043,\n",
       " (5, 1, 0),\n",
       " 0.23971526483570452,\n",
       " (5, 1, 1),\n",
       " 0.21923791688091432,\n",
       " (5, 1, 2),\n",
       " 0.16680083621360103,\n",
       " (5, 1, 3),\n",
       " 0.2397011516383013,\n",
       " (5, 1, 4),\n",
       " 0.1987166534033526,\n",
       " (5, 1, 5),\n",
       " 0.23089647301153604,\n",
       " (5, 1, 6),\n",
       " 0.24403127480987694,\n",
       " (5, 1, 7),\n",
       " 0.26394741579049447,\n",
       " (6, 0, 0),\n",
       " 0.10727189726245151,\n",
       " (6, 0, 1),\n",
       " 0.10807988130682929,\n",
       " (6, 0, 2),\n",
       " 0.09433530135273642,\n",
       " (6, 0, 3),\n",
       " 0.12329176991730732,\n",
       " (6, 0, 4),\n",
       " 0.1416698481521462,\n",
       " (6, 0, 5),\n",
       " 0.18475989404111026,\n",
       " (6, 0, 6),\n",
       " 0.16286519423036425,\n",
       " (6, 0, 7),\n",
       " 0.1517890744443197,\n",
       " (6, 1, 0),\n",
       " 0.21087828916048637,\n",
       " (6, 1, 1),\n",
       " 0.21158208134051162,\n",
       " (6, 1, 2),\n",
       " 0.206130510656403,\n",
       " (6, 1, 3),\n",
       " 0.2560920261069975,\n",
       " (6, 1, 4),\n",
       " 0.24959634701805103,\n",
       " (6, 1, 5),\n",
       " 0.2761839450831701,\n",
       " (6, 1, 6),\n",
       " 0.21933004368479064,\n",
       " (6, 1, 7),\n",
       " 0.28225517403566464,\n",
       " (7, 0, 0),\n",
       " 0.12696214015219973,\n",
       " (7, 0, 1),\n",
       " 0.11937962810262283,\n",
       " (7, 0, 2),\n",
       " 0.12039351904011047,\n",
       " (7, 0, 3),\n",
       " 0.17806053648552167,\n",
       " (7, 0, 4),\n",
       " 0.17815625763351214,\n",
       " (7, 0, 5),\n",
       " 0.16575296573684303,\n",
       " (7, 0, 6),\n",
       " 0.1602764992260004,\n",
       " (7, 0, 7),\n",
       " 0.17628170445046443,\n",
       " (7, 1, 0),\n",
       " 0.21108396209907235,\n",
       " (7, 1, 1),\n",
       " 0.21137677728795992,\n",
       " (7, 1, 2),\n",
       " 0.19179520826515944,\n",
       " (7, 1, 3),\n",
       " 0.24705818717885591,\n",
       " (7, 1, 4),\n",
       " 0.24880637905039663,\n",
       " (7, 1, 5),\n",
       " 0.24827268685488466,\n",
       " (7, 1, 6),\n",
       " 0.19602987945786685,\n",
       " (7, 1, 7),\n",
       " 0.2987623646510067]"
      ]
     },
     "execution_count": 76,
     "metadata": {},
     "output_type": "execute_result"
    }
   ],
   "source": [
    "rmse"
   ]
  },
  {
   "cell_type": "code",
   "execution_count": null,
   "metadata": {
    "id": "cNY062qiXLRR"
   },
   "outputs": [],
   "source": [
    "def Convert(lst):\n",
    "    res_dct = {lst[i]: lst[i + 1] for i in range(0, len(lst), 2)}\n",
    "    return res_dct"
   ]
  },
  {
   "cell_type": "code",
   "execution_count": null,
   "metadata": {
    "colab": {
     "base_uri": "https://localhost:8080/"
    },
    "executionInfo": {
     "elapsed": 10,
     "status": "ok",
     "timestamp": 1652348859783,
     "user": {
      "displayName": "Son Luc Cam",
      "userId": "01778600856537737107"
     },
     "user_tz": -420
    },
    "id": "XymYlgkFXLRR",
    "outputId": "d4c9c1e8-0875-42f2-88ae-9d7dac1c4238"
   },
   "outputs": [
    {
     "data": {
      "text/plain": [
       "{(0, 0, 0): 0.20673113664376216,\n",
       " (0, 0, 1): 0.19614511719196126,\n",
       " (0, 0, 2): 0.1817563579139082,\n",
       " (0, 0, 3): 0.17711018448017612,\n",
       " (0, 0, 4): 0.17518059575398648,\n",
       " (0, 0, 5): 0.1438244392154043,\n",
       " (0, 0, 6): 0.14691819574149964,\n",
       " (0, 0, 7): 0.14639017534894286,\n",
       " (0, 1, 0): 0.2577857637651855,\n",
       " (0, 1, 1): 0.26012050129360204,\n",
       " (0, 1, 2): 0.21995649985944538,\n",
       " (0, 1, 3): 0.23033100880136123,\n",
       " (0, 1, 4): 0.20450440006154413,\n",
       " (0, 1, 5): 0.21232852682510178,\n",
       " (0, 1, 6): 0.18232746618245943,\n",
       " (0, 1, 7): 0.2168135956135657,\n",
       " (1, 0, 0): 0.10852593600191596,\n",
       " (1, 0, 1): 0.13237383924896726,\n",
       " (1, 0, 2): 0.11859485015150267,\n",
       " (1, 0, 3): 0.12577629974314505,\n",
       " (1, 0, 4): 0.11998903972828356,\n",
       " (1, 0, 5): 0.11623490622203499,\n",
       " (1, 0, 6): 0.128297706225871,\n",
       " (1, 0, 7): 0.12097599726921579,\n",
       " (1, 1, 0): 0.25860482101355853,\n",
       " (1, 1, 1): 0.20664392197803805,\n",
       " (1, 1, 2): 0.23421370723687837,\n",
       " (1, 1, 3): 0.22511136594285763,\n",
       " (1, 1, 4): 0.22094451701188136,\n",
       " (1, 1, 5): 0.20641605534610327,\n",
       " (1, 1, 6): 0.17091821212448033,\n",
       " (1, 1, 7): 0.2508258545883152,\n",
       " (2, 0, 0): 0.11583890564454224,\n",
       " (2, 0, 1): 0.12553767334007732,\n",
       " (2, 0, 2): 0.1144743852347335,\n",
       " (2, 0, 3): 0.11766137830415202,\n",
       " (2, 0, 4): 0.11478571144111621,\n",
       " (2, 0, 5): 0.09896036075915783,\n",
       " (2, 0, 6): 0.11723599994163787,\n",
       " (2, 0, 7): 0.15744241476934615,\n",
       " (2, 1, 0): 0.2661941532735221,\n",
       " (2, 1, 1): 0.2634717745446691,\n",
       " (2, 1, 2): 0.21293333204434395,\n",
       " (2, 1, 3): 0.21381437388888527,\n",
       " (2, 1, 4): 0.19736341808700722,\n",
       " (2, 1, 5): 0.21915268514312564,\n",
       " (2, 1, 6): 0.2068530087326658,\n",
       " (2, 1, 7): 0.26486032743657123,\n",
       " (3, 0, 0): 0.11760595383528427,\n",
       " (3, 0, 1): 0.11684613499887607,\n",
       " (3, 0, 2): 0.11586330478229857,\n",
       " (3, 0, 3): 0.14134833674975827,\n",
       " (3, 0, 4): 0.10364527459686147,\n",
       " (3, 0, 5): 0.08742772360998476,\n",
       " (3, 0, 6): 0.12221036605432756,\n",
       " (3, 0, 7): 0.1412859301886822,\n",
       " (3, 1, 0): 0.2690952649386308,\n",
       " (3, 1, 1): 0.25174506609011577,\n",
       " (3, 1, 2): 0.21292856667671511,\n",
       " (3, 1, 3): 0.20157869710519952,\n",
       " (3, 1, 4): 0.2290136757831125,\n",
       " (3, 1, 5): 0.22219510123571307,\n",
       " (3, 1, 6): 0.2159610100086128,\n",
       " (3, 1, 7): 0.2628788864367644,\n",
       " (4, 0, 0): 0.10334193994826574,\n",
       " (4, 0, 1): 0.11275267787067883,\n",
       " (4, 0, 2): 0.118038188469441,\n",
       " (4, 0, 3): 0.1592654111192998,\n",
       " (4, 0, 4): 0.16672258353129535,\n",
       " (4, 0, 5): 0.13173964237249208,\n",
       " (4, 0, 6): 0.13339823970017098,\n",
       " (4, 0, 7): 0.1290284609217217,\n",
       " (4, 1, 0): 0.2447112683248537,\n",
       " (4, 1, 1): 0.21888381249593433,\n",
       " (4, 1, 2): 0.15588965972437782,\n",
       " (4, 1, 3): 0.19242868300849575,\n",
       " (4, 1, 4): 0.17243296725093765,\n",
       " (4, 1, 5): 0.16924895108771415,\n",
       " (4, 1, 6): 0.21468849407644378,\n",
       " (4, 1, 7): 0.2725446442115318,\n",
       " (5, 0, 0): 0.10951311127211867,\n",
       " (5, 0, 1): 0.11231993407363397,\n",
       " (5, 0, 2): 0.09795384860953646,\n",
       " (5, 0, 3): 0.13132925695109138,\n",
       " (5, 0, 4): 0.1283341035189232,\n",
       " (5, 0, 5): 0.13188852099432558,\n",
       " (5, 0, 6): 0.14740948895105435,\n",
       " (5, 0, 7): 0.15870285837016043,\n",
       " (5, 1, 0): 0.23971526483570452,\n",
       " (5, 1, 1): 0.21923791688091432,\n",
       " (5, 1, 2): 0.16680083621360103,\n",
       " (5, 1, 3): 0.2397011516383013,\n",
       " (5, 1, 4): 0.1987166534033526,\n",
       " (5, 1, 5): 0.23089647301153604,\n",
       " (5, 1, 6): 0.24403127480987694,\n",
       " (5, 1, 7): 0.26394741579049447,\n",
       " (6, 0, 0): 0.10727189726245151,\n",
       " (6, 0, 1): 0.10807988130682929,\n",
       " (6, 0, 2): 0.09433530135273642,\n",
       " (6, 0, 3): 0.12329176991730732,\n",
       " (6, 0, 4): 0.1416698481521462,\n",
       " (6, 0, 5): 0.18475989404111026,\n",
       " (6, 0, 6): 0.16286519423036425,\n",
       " (6, 0, 7): 0.1517890744443197,\n",
       " (6, 1, 0): 0.21087828916048637,\n",
       " (6, 1, 1): 0.21158208134051162,\n",
       " (6, 1, 2): 0.206130510656403,\n",
       " (6, 1, 3): 0.2560920261069975,\n",
       " (6, 1, 4): 0.24959634701805103,\n",
       " (6, 1, 5): 0.2761839450831701,\n",
       " (6, 1, 6): 0.21933004368479064,\n",
       " (6, 1, 7): 0.28225517403566464,\n",
       " (7, 0, 0): 0.12696214015219973,\n",
       " (7, 0, 1): 0.11937962810262283,\n",
       " (7, 0, 2): 0.12039351904011047,\n",
       " (7, 0, 3): 0.17806053648552167,\n",
       " (7, 0, 4): 0.17815625763351214,\n",
       " (7, 0, 5): 0.16575296573684303,\n",
       " (7, 0, 6): 0.1602764992260004,\n",
       " (7, 0, 7): 0.17628170445046443,\n",
       " (7, 1, 0): 0.21108396209907235,\n",
       " (7, 1, 1): 0.21137677728795992,\n",
       " (7, 1, 2): 0.19179520826515944,\n",
       " (7, 1, 3): 0.24705818717885591,\n",
       " (7, 1, 4): 0.24880637905039663,\n",
       " (7, 1, 5): 0.24827268685488466,\n",
       " (7, 1, 6): 0.19602987945786685,\n",
       " (7, 1, 7): 0.2987623646510067}"
      ]
     },
     "execution_count": 89,
     "metadata": {},
     "output_type": "execute_result"
    }
   ],
   "source": [
    "dict_rmse = Convert(rmse)\n",
    "dict_rmse"
   ]
  },
  {
   "cell_type": "code",
   "execution_count": null,
   "metadata": {
    "colab": {
     "base_uri": "https://localhost:8080/"
    },
    "executionInfo": {
     "elapsed": 385,
     "status": "ok",
     "timestamp": 1652348994289,
     "user": {
      "displayName": "Son Luc Cam",
      "userId": "01778600856537737107"
     },
     "user_tz": -420
    },
    "id": "hJEq_RODXLRS",
    "outputId": "b7a1c755-0b27-4c1b-f530-8cea2f9d4d1c"
   },
   "outputs": [
    {
     "data": {
      "text/plain": [
       "((3, 0, 5), 0.08742772360998476)"
      ]
     },
     "execution_count": 91,
     "metadata": {},
     "output_type": "execute_result"
    }
   ],
   "source": [
    "\n",
    "min(dict_rmse.items(), key=lambda x: x[1]) "
   ]
  },
  {
   "cell_type": "code",
   "execution_count": null,
   "metadata": {
    "colab": {
     "base_uri": "https://localhost:8080/"
    },
    "executionInfo": {
     "elapsed": 1294,
     "status": "ok",
     "timestamp": 1652349654342,
     "user": {
      "displayName": "Son Luc Cam",
      "userId": "01778600856537737107"
     },
     "user_tz": -420
    },
    "id": "yl9bD9SCXLRS",
    "outputId": "55fcc990-53f7-4b22-81cd-57f9b3e9f776"
   },
   "outputs": [
    {
     "data": {
      "text/plain": [
       "[(7, 1, 7),\n",
       " (6, 1, 7),\n",
       " (6, 1, 5),\n",
       " (4, 1, 7),\n",
       " (3, 1, 0),\n",
       " (2, 1, 0),\n",
       " (2, 1, 7),\n",
       " (5, 1, 7),\n",
       " (2, 1, 1),\n",
       " (3, 1, 7),\n",
       " (0, 1, 1),\n",
       " (1, 1, 0),\n",
       " (0, 1, 0),\n",
       " (6, 1, 3),\n",
       " (3, 1, 1),\n",
       " (1, 1, 7),\n",
       " (6, 1, 4),\n",
       " (7, 1, 4),\n",
       " (7, 1, 5),\n",
       " (7, 1, 3),\n",
       " (4, 1, 0),\n",
       " (5, 1, 6),\n",
       " (5, 1, 0),\n",
       " (5, 1, 3),\n",
       " (1, 1, 2),\n",
       " (5, 1, 5),\n",
       " (0, 1, 3),\n",
       " (3, 1, 4),\n",
       " (1, 1, 3),\n",
       " (3, 1, 5),\n",
       " (1, 1, 4),\n",
       " (0, 1, 2),\n",
       " (6, 1, 6),\n",
       " (5, 1, 1),\n",
       " (2, 1, 5),\n",
       " (4, 1, 1),\n",
       " (0, 1, 7),\n",
       " (3, 1, 6),\n",
       " (4, 1, 6),\n",
       " (2, 1, 3),\n",
       " (2, 1, 2),\n",
       " (3, 1, 2),\n",
       " (0, 1, 5),\n",
       " (6, 1, 1),\n",
       " (7, 1, 1),\n",
       " (7, 1, 0),\n",
       " (6, 1, 0),\n",
       " (2, 1, 6),\n",
       " (0, 0, 0),\n",
       " (1, 1, 1),\n",
       " (1, 1, 5),\n",
       " (6, 1, 2),\n",
       " (0, 1, 4),\n",
       " (3, 1, 3),\n",
       " (5, 1, 4),\n",
       " (2, 1, 4),\n",
       " (0, 0, 1),\n",
       " (7, 1, 6),\n",
       " (4, 1, 3),\n",
       " (7, 1, 2),\n",
       " (6, 0, 5),\n",
       " (0, 1, 6),\n",
       " (0, 0, 2),\n",
       " (7, 0, 4),\n",
       " (7, 0, 3),\n",
       " (0, 0, 3),\n",
       " (7, 0, 7),\n",
       " (0, 0, 4),\n",
       " (4, 1, 4),\n",
       " (1, 1, 6),\n",
       " (4, 1, 5),\n",
       " (5, 1, 2),\n",
       " (4, 0, 4),\n",
       " (7, 0, 5),\n",
       " (6, 0, 6),\n",
       " (7, 0, 6),\n",
       " (4, 0, 3),\n",
       " (5, 0, 7),\n",
       " (2, 0, 7),\n",
       " (4, 1, 2),\n",
       " (6, 0, 7),\n",
       " (5, 0, 6),\n",
       " (0, 0, 6),\n",
       " (0, 0, 7),\n",
       " (0, 0, 5),\n",
       " (6, 0, 4),\n",
       " (3, 0, 3),\n",
       " (3, 0, 7),\n",
       " (4, 0, 6),\n",
       " (1, 0, 1),\n",
       " (5, 0, 5),\n",
       " (4, 0, 5),\n",
       " (5, 0, 3),\n",
       " (4, 0, 7),\n",
       " (5, 0, 4),\n",
       " (1, 0, 6),\n",
       " (7, 0, 0),\n",
       " (1, 0, 3),\n",
       " (2, 0, 1),\n",
       " (6, 0, 3),\n",
       " (3, 0, 6),\n",
       " (1, 0, 7),\n",
       " (7, 0, 2),\n",
       " (1, 0, 4),\n",
       " (7, 0, 1),\n",
       " (1, 0, 2),\n",
       " (4, 0, 2),\n",
       " (2, 0, 3),\n",
       " (3, 0, 0),\n",
       " (2, 0, 6),\n",
       " (3, 0, 1),\n",
       " (1, 0, 5),\n",
       " (3, 0, 2),\n",
       " (2, 0, 0),\n",
       " (2, 0, 4),\n",
       " (2, 0, 2),\n",
       " (4, 0, 1),\n",
       " (5, 0, 1),\n",
       " (5, 0, 0),\n",
       " (1, 0, 0),\n",
       " (6, 0, 1),\n",
       " (6, 0, 0),\n",
       " (3, 0, 4),\n",
       " (4, 0, 0),\n",
       " (2, 0, 5),\n",
       " (5, 0, 2),\n",
       " (6, 0, 2),\n",
       " (3, 0, 5)]"
      ]
     },
     "execution_count": 99,
     "metadata": {},
     "output_type": "execute_result"
    }
   ],
   "source": [
    "sorted(dict_rmse, key=dict_rmse.get, reverse=True)"
   ]
  },
  {
   "cell_type": "code",
   "execution_count": null,
   "metadata": {
    "colab": {
     "base_uri": "https://localhost:8080/"
    },
    "executionInfo": {
     "elapsed": 392,
     "status": "ok",
     "timestamp": 1652348317078,
     "user": {
      "displayName": "Son Luc Cam",
      "userId": "01778600856537737107"
     },
     "user_tz": -420
    },
    "id": "dj9NT2hqXLRT",
    "outputId": "bf807d92-87ab-4a3b-b570-8847fc6ba6b7"
   },
   "outputs": [
    {
     "data": {
      "text/plain": [
       "[(0, 0, 0),\n",
       " (0, 0, 1),\n",
       " (0, 0, 2),\n",
       " (0, 0, 3),\n",
       " (0, 0, 4),\n",
       " (0, 0, 5),\n",
       " (0, 0, 6),\n",
       " (0, 0, 7),\n",
       " (0, 1, 0),\n",
       " (0, 1, 1),\n",
       " (0, 1, 2),\n",
       " (0, 1, 3),\n",
       " (0, 1, 4),\n",
       " (0, 1, 5),\n",
       " (0, 1, 6),\n",
       " (0, 1, 7),\n",
       " (1, 0, 0),\n",
       " (1, 0, 1),\n",
       " (1, 0, 2),\n",
       " (1, 0, 3),\n",
       " (1, 0, 4),\n",
       " (1, 0, 5),\n",
       " (1, 0, 6),\n",
       " (1, 0, 7),\n",
       " (1, 1, 0),\n",
       " (1, 1, 1),\n",
       " (1, 1, 2),\n",
       " (1, 1, 3),\n",
       " (1, 1, 4),\n",
       " (1, 1, 5),\n",
       " (1, 1, 6),\n",
       " (1, 1, 7),\n",
       " (2, 0, 0),\n",
       " (2, 0, 1),\n",
       " (2, 0, 2),\n",
       " (2, 0, 3),\n",
       " (2, 0, 4),\n",
       " (2, 0, 5),\n",
       " (2, 0, 6),\n",
       " (2, 0, 7),\n",
       " (2, 1, 0),\n",
       " (2, 1, 1),\n",
       " (2, 1, 2),\n",
       " (2, 1, 3),\n",
       " (2, 1, 4),\n",
       " (2, 1, 5),\n",
       " (2, 1, 6),\n",
       " (2, 1, 7),\n",
       " (3, 0, 0),\n",
       " (3, 0, 1),\n",
       " (3, 0, 2),\n",
       " (3, 0, 3),\n",
       " (3, 0, 4),\n",
       " (3, 0, 5),\n",
       " (3, 0, 6),\n",
       " (3, 0, 7),\n",
       " (3, 1, 0),\n",
       " (3, 1, 1),\n",
       " (3, 1, 2),\n",
       " (3, 1, 3),\n",
       " (3, 1, 4),\n",
       " (3, 1, 5),\n",
       " (3, 1, 6),\n",
       " (3, 1, 7),\n",
       " (4, 0, 0),\n",
       " (4, 0, 1),\n",
       " (4, 0, 2),\n",
       " (4, 0, 3),\n",
       " (4, 0, 4),\n",
       " (4, 0, 5),\n",
       " (4, 0, 6),\n",
       " (4, 0, 7),\n",
       " (4, 1, 0),\n",
       " (4, 1, 1),\n",
       " (4, 1, 2),\n",
       " (4, 1, 3),\n",
       " (4, 1, 4),\n",
       " (4, 1, 5),\n",
       " (4, 1, 6),\n",
       " (4, 1, 7),\n",
       " (5, 0, 0),\n",
       " (5, 0, 1),\n",
       " (5, 0, 2),\n",
       " (5, 0, 3),\n",
       " (5, 0, 4),\n",
       " (5, 0, 5),\n",
       " (5, 0, 6),\n",
       " (5, 0, 7),\n",
       " (5, 1, 0),\n",
       " (5, 1, 1),\n",
       " (5, 1, 2),\n",
       " (5, 1, 3),\n",
       " (5, 1, 4),\n",
       " (5, 1, 5),\n",
       " (5, 1, 6),\n",
       " (5, 1, 7),\n",
       " (6, 0, 0),\n",
       " (6, 0, 1),\n",
       " (6, 0, 2),\n",
       " (6, 0, 3),\n",
       " (6, 0, 4),\n",
       " (6, 0, 5),\n",
       " (6, 0, 6),\n",
       " (6, 0, 7),\n",
       " (6, 1, 0),\n",
       " (6, 1, 1),\n",
       " (6, 1, 2),\n",
       " (6, 1, 3),\n",
       " (6, 1, 4),\n",
       " (6, 1, 5),\n",
       " (6, 1, 6),\n",
       " (6, 1, 7),\n",
       " (7, 0, 0),\n",
       " (7, 0, 1),\n",
       " (7, 0, 2),\n",
       " (7, 0, 3),\n",
       " (7, 0, 4),\n",
       " (7, 0, 5),\n",
       " (7, 0, 6),\n",
       " (7, 0, 7),\n",
       " (7, 1, 0),\n",
       " (7, 1, 1),\n",
       " (7, 1, 2),\n",
       " (7, 1, 3),\n",
       " (7, 1, 4),\n",
       " (7, 1, 5),\n",
       " (7, 1, 6),\n",
       " (7, 1, 7)]"
      ]
     },
     "execution_count": 77,
     "metadata": {},
     "output_type": "execute_result"
    }
   ],
   "source": [
    "order1"
   ]
  },
  {
   "cell_type": "code",
   "execution_count": null,
   "metadata": {
    "colab": {
     "base_uri": "https://localhost:8080/"
    },
    "executionInfo": {
     "elapsed": 14,
     "status": "ok",
     "timestamp": 1652328679338,
     "user": {
      "displayName": "Son Luc Cam",
      "userId": "01778600856537737107"
     },
     "user_tz": -420
    },
    "id": "qFGPKnuTXLRT",
    "outputId": "097929cb-289a-41e2-c929-154bc1b836f1"
   },
   "outputs": [
    {
     "data": {
      "text/plain": [
       "(39, 1)"
      ]
     },
     "execution_count": 23,
     "metadata": {},
     "output_type": "execute_result"
    }
   ],
   "source": [
    "df_con_price.shape"
   ]
  },
  {
   "cell_type": "markdown",
   "metadata": {
    "id": "asn6iKTdlmNx"
   },
   "source": []
  },
  {
   "cell_type": "code",
   "execution_count": null,
   "metadata": {
    "colab": {
     "base_uri": "https://localhost:8080/"
    },
    "executionInfo": {
     "elapsed": 387,
     "status": "ok",
     "timestamp": 1652347416769,
     "user": {
      "displayName": "Son Luc Cam",
      "userId": "01778600856537737107"
     },
     "user_tz": -420
    },
    "id": "VM2fAjEVPt9o",
    "outputId": "dddb80b6-e328-4b54-88e1-8699c19f07e6"
   },
   "outputs": [
    {
     "data": {
      "text/plain": [
       "ARIMA(order=(0, 1, 0), scoring_args={}, seasonal_order=(0, 0, 0, 12),\n",
       "      suppress_warnings=True, with_intercept=False)"
      ]
     },
     "execution_count": 56,
     "metadata": {},
     "output_type": "execute_result"
    }
   ],
   "source": [
    "stepwise_model.fit(X_train)"
   ]
  },
  {
   "cell_type": "markdown",
   "metadata": {
    "id": "Jzd5L4EfQC5c"
   },
   "source": []
  },
  {
   "cell_type": "code",
   "execution_count": null,
   "metadata": {
    "colab": {
     "base_uri": "https://localhost:8080/"
    },
    "executionInfo": {
     "elapsed": 471,
     "status": "ok",
     "timestamp": 1652410762648,
     "user": {
      "displayName": "Son Luc Cam",
      "userId": "01778600856537737107"
     },
     "user_tz": -420
    },
    "id": "TctJbV5DQDGQ",
    "outputId": "32a73e0b-3a70-4da6-ae48-44cdb4010838"
   },
   "outputs": [
    {
     "data": {
      "text/plain": [
       "2017-07-01    1.715\n",
       "2017-08-01    1.715\n",
       "2017-09-01    1.715\n",
       "2017-10-01    1.715\n",
       "2017-11-01    1.715\n",
       "2017-12-01    1.715\n",
       "2018-01-01    1.715\n",
       "2018-02-01    1.715\n",
       "2018-03-01    1.715\n",
       "2018-04-01    1.715\n",
       "Freq: MS, Name: predicted_mean, dtype: float64"
      ]
     },
     "execution_count": 46,
     "metadata": {},
     "output_type": "execute_result"
    }
   ],
   "source": [
    "model = SARIMAX(X_train, order= (0,1,0), seasonal_order=(0, 0, 0, 12)).fit()\n",
    "pred_te = model.predict(start=len(X_train), end=(len(df_con_price)))\n",
    "pred_te"
   ]
  },
  {
   "cell_type": "code",
   "execution_count": null,
   "metadata": {
    "id": "wLBEsaT-QZiO"
   },
   "outputs": [],
   "source": [
    "np.sqrt(mean_squared_error(X_test, pred))"
   ]
  },
  {
   "cell_type": "code",
   "execution_count": null,
   "metadata": {
    "id": "5D1n9Kx-8fE3"
   },
   "outputs": [],
   "source": []
  },
  {
   "cell_type": "code",
   "execution_count": null,
   "metadata": {
    "colab": {
     "base_uri": "https://localhost:8080/"
    },
    "executionInfo": {
     "elapsed": 7,
     "status": "ok",
     "timestamp": 1652347425104,
     "user": {
      "displayName": "Son Luc Cam",
      "userId": "01778600856537737107"
     },
     "user_tz": -420
    },
    "id": "Hf3QTztUQuC-",
    "outputId": "d3e0187b-199f-4249-dee7-34e3292b10c3"
   },
   "outputs": [
    {
     "data": {
      "text/plain": [
       "array([1.715, 1.715, 1.715, 1.715, 1.715, 1.715, 1.715, 1.715, 1.715,\n",
       "       1.715])"
      ]
     },
     "execution_count": 60,
     "metadata": {},
     "output_type": "execute_result"
    }
   ],
   "source": []
  },
  {
   "cell_type": "code",
   "execution_count": null,
   "metadata": {
    "colab": {
     "base_uri": "https://localhost:8080/",
     "height": 394
    },
    "executionInfo": {
     "elapsed": 27,
     "status": "ok",
     "timestamp": 1652328680034,
     "user": {
      "displayName": "Son Luc Cam",
      "userId": "01778600856537737107"
     },
     "user_tz": -420
    },
    "id": "Dk7CGKL5Tkk4",
    "outputId": "85099afa-2ba2-4721-a2a7-c246d5a75610"
   },
   "outputs": [
    {
     "data": {
      "text/html": [
       "\n",
       "  <div id=\"df-c1088e93-2802-4384-a83d-1ec06c3fc05e\">\n",
       "    <div class=\"colab-df-container\">\n",
       "      <div>\n",
       "<style scoped>\n",
       "    .dataframe tbody tr th:only-of-type {\n",
       "        vertical-align: middle;\n",
       "    }\n",
       "\n",
       "    .dataframe tbody tr th {\n",
       "        vertical-align: top;\n",
       "    }\n",
       "\n",
       "    .dataframe thead th {\n",
       "        text-align: right;\n",
       "    }\n",
       "</style>\n",
       "<table border=\"1\" class=\"dataframe\">\n",
       "  <thead>\n",
       "    <tr style=\"text-align: right;\">\n",
       "      <th></th>\n",
       "      <th>AveragePrice</th>\n",
       "    </tr>\n",
       "    <tr>\n",
       "      <th>Date</th>\n",
       "      <th></th>\n",
       "    </tr>\n",
       "  </thead>\n",
       "  <tbody>\n",
       "    <tr>\n",
       "      <th>2017-06-01</th>\n",
       "      <td>1.7150</td>\n",
       "    </tr>\n",
       "    <tr>\n",
       "      <th>2017-07-01</th>\n",
       "      <td>1.5980</td>\n",
       "    </tr>\n",
       "    <tr>\n",
       "      <th>2017-08-01</th>\n",
       "      <td>1.6750</td>\n",
       "    </tr>\n",
       "    <tr>\n",
       "      <th>2017-09-01</th>\n",
       "      <td>1.6675</td>\n",
       "    </tr>\n",
       "    <tr>\n",
       "      <th>2017-10-01</th>\n",
       "      <td>1.6300</td>\n",
       "    </tr>\n",
       "    <tr>\n",
       "      <th>2017-11-01</th>\n",
       "      <td>1.4300</td>\n",
       "    </tr>\n",
       "    <tr>\n",
       "      <th>2017-12-01</th>\n",
       "      <td>1.3260</td>\n",
       "    </tr>\n",
       "    <tr>\n",
       "      <th>2018-01-01</th>\n",
       "      <td>1.4525</td>\n",
       "    </tr>\n",
       "    <tr>\n",
       "      <th>2018-02-01</th>\n",
       "      <td>1.2725</td>\n",
       "    </tr>\n",
       "    <tr>\n",
       "      <th>2018-03-01</th>\n",
       "      <td>1.3375</td>\n",
       "    </tr>\n",
       "  </tbody>\n",
       "</table>\n",
       "</div>\n",
       "      <button class=\"colab-df-convert\" onclick=\"convertToInteractive('df-c1088e93-2802-4384-a83d-1ec06c3fc05e')\"\n",
       "              title=\"Convert this dataframe to an interactive table.\"\n",
       "              style=\"display:none;\">\n",
       "        \n",
       "  <svg xmlns=\"http://www.w3.org/2000/svg\" height=\"24px\"viewBox=\"0 0 24 24\"\n",
       "       width=\"24px\">\n",
       "    <path d=\"M0 0h24v24H0V0z\" fill=\"none\"/>\n",
       "    <path d=\"M18.56 5.44l.94 2.06.94-2.06 2.06-.94-2.06-.94-.94-2.06-.94 2.06-2.06.94zm-11 1L8.5 8.5l.94-2.06 2.06-.94-2.06-.94L8.5 2.5l-.94 2.06-2.06.94zm10 10l.94 2.06.94-2.06 2.06-.94-2.06-.94-.94-2.06-.94 2.06-2.06.94z\"/><path d=\"M17.41 7.96l-1.37-1.37c-.4-.4-.92-.59-1.43-.59-.52 0-1.04.2-1.43.59L10.3 9.45l-7.72 7.72c-.78.78-.78 2.05 0 2.83L4 21.41c.39.39.9.59 1.41.59.51 0 1.02-.2 1.41-.59l7.78-7.78 2.81-2.81c.8-.78.8-2.07 0-2.86zM5.41 20L4 18.59l7.72-7.72 1.47 1.35L5.41 20z\"/>\n",
       "  </svg>\n",
       "      </button>\n",
       "      \n",
       "  <style>\n",
       "    .colab-df-container {\n",
       "      display:flex;\n",
       "      flex-wrap:wrap;\n",
       "      gap: 12px;\n",
       "    }\n",
       "\n",
       "    .colab-df-convert {\n",
       "      background-color: #E8F0FE;\n",
       "      border: none;\n",
       "      border-radius: 50%;\n",
       "      cursor: pointer;\n",
       "      display: none;\n",
       "      fill: #1967D2;\n",
       "      height: 32px;\n",
       "      padding: 0 0 0 0;\n",
       "      width: 32px;\n",
       "    }\n",
       "\n",
       "    .colab-df-convert:hover {\n",
       "      background-color: #E2EBFA;\n",
       "      box-shadow: 0px 1px 2px rgba(60, 64, 67, 0.3), 0px 1px 3px 1px rgba(60, 64, 67, 0.15);\n",
       "      fill: #174EA6;\n",
       "    }\n",
       "\n",
       "    [theme=dark] .colab-df-convert {\n",
       "      background-color: #3B4455;\n",
       "      fill: #D2E3FC;\n",
       "    }\n",
       "\n",
       "    [theme=dark] .colab-df-convert:hover {\n",
       "      background-color: #434B5C;\n",
       "      box-shadow: 0px 1px 3px 1px rgba(0, 0, 0, 0.15);\n",
       "      filter: drop-shadow(0px 1px 2px rgba(0, 0, 0, 0.3));\n",
       "      fill: #FFFFFF;\n",
       "    }\n",
       "  </style>\n",
       "\n",
       "      <script>\n",
       "        const buttonEl =\n",
       "          document.querySelector('#df-c1088e93-2802-4384-a83d-1ec06c3fc05e button.colab-df-convert');\n",
       "        buttonEl.style.display =\n",
       "          google.colab.kernel.accessAllowed ? 'block' : 'none';\n",
       "\n",
       "        async function convertToInteractive(key) {\n",
       "          const element = document.querySelector('#df-c1088e93-2802-4384-a83d-1ec06c3fc05e');\n",
       "          const dataTable =\n",
       "            await google.colab.kernel.invokeFunction('convertToInteractive',\n",
       "                                                     [key], {});\n",
       "          if (!dataTable) return;\n",
       "\n",
       "          const docLinkHtml = 'Like what you see? Visit the ' +\n",
       "            '<a target=\"_blank\" href=https://colab.research.google.com/notebooks/data_table.ipynb>data table notebook</a>'\n",
       "            + ' to learn more about interactive tables.';\n",
       "          element.innerHTML = '';\n",
       "          dataTable['output_type'] = 'display_data';\n",
       "          await google.colab.output.renderOutput(dataTable, element);\n",
       "          const docLink = document.createElement('div');\n",
       "          docLink.innerHTML = docLinkHtml;\n",
       "          element.appendChild(docLink);\n",
       "        }\n",
       "      </script>\n",
       "    </div>\n",
       "  </div>\n",
       "  "
      ],
      "text/plain": [
       "            AveragePrice\n",
       "Date                    \n",
       "2017-06-01        1.7150\n",
       "2017-07-01        1.5980\n",
       "2017-08-01        1.6750\n",
       "2017-09-01        1.6675\n",
       "2017-10-01        1.6300\n",
       "2017-11-01        1.4300\n",
       "2017-12-01        1.3260\n",
       "2018-01-01        1.4525\n",
       "2018-02-01        1.2725\n",
       "2018-03-01        1.3375"
      ]
     },
     "execution_count": 30,
     "metadata": {},
     "output_type": "execute_result"
    }
   ],
   "source": []
  },
  {
   "cell_type": "markdown",
   "metadata": {
    "id": "6guGynP2Q2og"
   },
   "source": []
  },
  {
   "cell_type": "code",
   "execution_count": null,
   "metadata": {
    "id": "CZKGcdUqQ6-d"
   },
   "outputs": [],
   "source": [
    "#rmse = sqrt(mean_squared_error(X_test, future_forecast))\n",
    "#rmse"
   ]
  },
  {
   "cell_type": "code",
   "execution_count": null,
   "metadata": {
    "id": "EScHa_d5Q6-d"
   },
   "outputs": [],
   "source": [
    "#mae = mean_absolute_error(X_test, future_forecast)\n",
    "#mae"
   ]
  },
  {
   "cell_type": "code",
   "execution_count": null,
   "metadata": {
    "colab": {
     "base_uri": "https://localhost:8080/",
     "height": 183
    },
    "executionInfo": {
     "elapsed": 640,
     "status": "error",
     "timestamp": 1652328680652,
     "user": {
      "displayName": "Son Luc Cam",
      "userId": "01778600856537737107"
     },
     "user_tz": -420
    },
    "id": "d2NRcQYtQ2-i",
    "outputId": "f61e9698-28f4-4d9c-9def-c37e625b9bdb"
   },
   "outputs": [
    {
     "ename": "NameError",
     "evalue": "ignored",
     "output_type": "error",
     "traceback": [
      "\u001b[0;31m---------------------------------------------------------------------------\u001b[0m",
      "\u001b[0;31mNameError\u001b[0m                                 Traceback (most recent call last)",
      "\u001b[0;32m<ipython-input-33-ddd6d3a6ff07>\u001b[0m in \u001b[0;36m<module>\u001b[0;34m()\u001b[0m\n\u001b[0;32m----> 1\u001b[0;31m \u001b[0mmape\u001b[0m \u001b[0;34m=\u001b[0m \u001b[0mmean_absolute_percentage_error\u001b[0m\u001b[0;34m(\u001b[0m\u001b[0mX_test\u001b[0m\u001b[0;34m,\u001b[0m \u001b[0mfuture_forecast\u001b[0m\u001b[0;34m)\u001b[0m\u001b[0;34m\u001b[0m\u001b[0;34m\u001b[0m\u001b[0m\n\u001b[0m\u001b[1;32m      2\u001b[0m \u001b[0mmape\u001b[0m\u001b[0;34m\u001b[0m\u001b[0;34m\u001b[0m\u001b[0m\n",
      "\u001b[0;31mNameError\u001b[0m: name 'future_forecast' is not defined"
     ]
    }
   ],
   "source": [
    "#mape = mean_absolute_percentage_error(X_test, future_forecast)\n",
    "#mape"
   ]
  },
  {
   "cell_type": "code",
   "execution_count": null,
   "metadata": {
    "colab": {
     "base_uri": "https://localhost:8080/"
    },
    "executionInfo": {
     "elapsed": 455,
     "status": "ok",
     "timestamp": 1652350666528,
     "user": {
      "displayName": "Son Luc Cam",
      "userId": "01778600856537737107"
     },
     "user_tz": -420
    },
    "id": "sv4K5JFDQ3Zg",
    "outputId": "87ced9a5-e788-498b-d15e-e5c130051eed"
   },
   "outputs": [
    {
     "data": {
      "text/plain": [
       "0.11275267787067883"
      ]
     },
     "execution_count": 128,
     "metadata": {},
     "output_type": "execute_result"
    }
   ],
   "source": [
    "#rmse_1 = sqrt(mean_squared_error(X_test, future_forecast_1))\n",
    "rmse_1 = sqrt(mean_squared_error(X_test, pred_test))\n",
    "rmse_1"
   ]
  },
  {
   "cell_type": "code",
   "execution_count": null,
   "metadata": {
    "colab": {
     "base_uri": "https://localhost:8080/"
    },
    "executionInfo": {
     "elapsed": 8,
     "status": "ok",
     "timestamp": 1652350668077,
     "user": {
      "displayName": "Son Luc Cam",
      "userId": "01778600856537737107"
     },
     "user_tz": -420
    },
    "id": "FFfcNaMVRnto",
    "outputId": "342933c8-8cea-402d-eda8-7ff9e78fd2d6"
   },
   "outputs": [
    {
     "data": {
      "text/plain": [
       "0.0980902505615163"
      ]
     },
     "execution_count": 129,
     "metadata": {},
     "output_type": "execute_result"
    }
   ],
   "source": [
    "#mae_1 = mean_absolute_error(X_test, future_forecast_1)\n",
    "mae_1 = mean_absolute_error(X_test, pred_test)\n",
    "mae_1"
   ]
  },
  {
   "cell_type": "code",
   "execution_count": null,
   "metadata": {
    "colab": {
     "base_uri": "https://localhost:8080/"
    },
    "executionInfo": {
     "elapsed": 11,
     "status": "ok",
     "timestamp": 1652350669527,
     "user": {
      "displayName": "Son Luc Cam",
      "userId": "01778600856537737107"
     },
     "user_tz": -420
    },
    "id": "kGQ8NMseRnho",
    "outputId": "d9d853c1-3267-48ea-e54c-4a82c78c7901"
   },
   "outputs": [
    {
     "data": {
      "text/plain": [
       "0.0663084560406721"
      ]
     },
     "execution_count": 130,
     "metadata": {},
     "output_type": "execute_result"
    }
   ],
   "source": [
    "#mape_1 = mean_absolute_percentage_error(X_test, future_forecast_1)\n",
    "mape_1 = mean_absolute_percentage_error(X_test, pred_test)\n",
    "mape_1"
   ]
  },
  {
   "cell_type": "code",
   "execution_count": null,
   "metadata": {
    "colab": {
     "base_uri": "https://localhost:8080/",
     "height": 406
    },
    "executionInfo": {
     "elapsed": 1197,
     "status": "ok",
     "timestamp": 1652350019529,
     "user": {
      "displayName": "Son Luc Cam",
      "userId": "01778600856537737107"
     },
     "user_tz": -420
    },
    "id": "H7Kthyy5cPGT",
    "outputId": "1b47ba66-d097-4acd-a82b-16a39de1e036"
   },
   "outputs": [
    {
     "data": {
      "image/png": "[encoded data removed]",
      "text/plain": [
       "<Figure size 864x432 with 1 Axes>"
      ]
     },
     "metadata": {
      "needs_background": "light"
     },
     "output_type": "display_data"
    }
   ],
   "source": [
    "plt.figure(figsize=(12, 6))\n",
    "plt.plot(X_test, label=\"AvgPrice\")\n",
    "plt.plot(pred_test, label=\"predict_AvgPrice\")\n",
    "#plt.plot(future_forecast_1, label=\"predict_AvgPrice\")\n",
    "plt.xticks(rotation='vertical')\n",
    "plt.legend()\n",
    "plt.show()"
   ]
  },
  {
   "cell_type": "markdown",
   "metadata": {
    "id": "RfzmC0dA2hh8"
   },
   "source": [
    "# Predict on NewYork conventional price"
   ]
  },
  {
   "cell_type": "code",
   "execution_count": null,
   "metadata": {
    "id": "ubZRF58le1s1"
   },
   "outputs": [],
   "source": [
    "df_con_price = NY_con.iloc[:, 1:2]"
   ]
  },
  {
   "cell_type": "code",
   "execution_count": null,
   "metadata": {
    "id": "Xwh_HMUKJfle"
   },
   "outputs": [],
   "source": [
    "df_con_price.index = df_con_price.index.to_period('Y')"
   ]
  },
  {
   "cell_type": "code",
   "execution_count": null,
   "metadata": {
    "colab": {
     "base_uri": "https://localhost:8080/",
     "height": 455
    },
    "executionInfo": {
     "elapsed": 837,
     "status": "ok",
     "timestamp": 1652174553123,
     "user": {
      "displayName": "Son Luc Cam",
      "userId": "01778600856537737107"
     },
     "user_tz": -420
    },
    "id": "8bKcpHpbe1vO",
    "outputId": "b9c91dd3-a8e5-4147-e930-d2cc172af34e"
   },
   "outputs": [
    {
     "data": {
      "text/html": [
       "\n",
       "  <div id=\"df-a962080c-f9af-4dcc-9e24-225e7e4d289a\">\n",
       "    <div class=\"colab-df-container\">\n",
       "      <div>\n",
       "<style scoped>\n",
       "    .dataframe tbody tr th:only-of-type {\n",
       "        vertical-align: middle;\n",
       "    }\n",
       "\n",
       "    .dataframe tbody tr th {\n",
       "        vertical-align: top;\n",
       "    }\n",
       "\n",
       "    .dataframe thead th {\n",
       "        text-align: right;\n",
       "    }\n",
       "</style>\n",
       "<table border=\"1\" class=\"dataframe\">\n",
       "  <thead>\n",
       "    <tr style=\"text-align: right;\">\n",
       "      <th></th>\n",
       "      <th>AveragePrice</th>\n",
       "    </tr>\n",
       "    <tr>\n",
       "      <th>Date</th>\n",
       "      <th></th>\n",
       "    </tr>\n",
       "  </thead>\n",
       "  <tbody>\n",
       "    <tr>\n",
       "      <th>2015</th>\n",
       "      <td>1.17</td>\n",
       "    </tr>\n",
       "    <tr>\n",
       "      <th>2015</th>\n",
       "      <td>1.23</td>\n",
       "    </tr>\n",
       "    <tr>\n",
       "      <th>2015</th>\n",
       "      <td>1.12</td>\n",
       "    </tr>\n",
       "    <tr>\n",
       "      <th>2015</th>\n",
       "      <td>1.20</td>\n",
       "    </tr>\n",
       "    <tr>\n",
       "      <th>2015</th>\n",
       "      <td>1.16</td>\n",
       "    </tr>\n",
       "    <tr>\n",
       "      <th>...</th>\n",
       "      <td>...</td>\n",
       "    </tr>\n",
       "    <tr>\n",
       "      <th>2017</th>\n",
       "      <td>1.52</td>\n",
       "    </tr>\n",
       "    <tr>\n",
       "      <th>2017</th>\n",
       "      <td>1.48</td>\n",
       "    </tr>\n",
       "    <tr>\n",
       "      <th>2017</th>\n",
       "      <td>1.38</td>\n",
       "    </tr>\n",
       "    <tr>\n",
       "      <th>2017</th>\n",
       "      <td>1.29</td>\n",
       "    </tr>\n",
       "    <tr>\n",
       "      <th>2017</th>\n",
       "      <td>1.44</td>\n",
       "    </tr>\n",
       "  </tbody>\n",
       "</table>\n",
       "<p>157 rows × 1 columns</p>\n",
       "</div>\n",
       "      <button class=\"colab-df-convert\" onclick=\"convertToInteractive('df-a962080c-f9af-4dcc-9e24-225e7e4d289a')\"\n",
       "              title=\"Convert this dataframe to an interactive table.\"\n",
       "              style=\"display:none;\">\n",
       "        \n",
       "  <svg xmlns=\"http://www.w3.org/2000/svg\" height=\"24px\"viewBox=\"0 0 24 24\"\n",
       "       width=\"24px\">\n",
       "    <path d=\"M0 0h24v24H0V0z\" fill=\"none\"/>\n",
       "    <path d=\"M18.56 5.44l.94 2.06.94-2.06 2.06-.94-2.06-.94-.94-2.06-.94 2.06-2.06.94zm-11 1L8.5 8.5l.94-2.06 2.06-.94-2.06-.94L8.5 2.5l-.94 2.06-2.06.94zm10 10l.94 2.06.94-2.06 2.06-.94-2.06-.94-.94-2.06-.94 2.06-2.06.94z\"/><path d=\"M17.41 7.96l-1.37-1.37c-.4-.4-.92-.59-1.43-.59-.52 0-1.04.2-1.43.59L10.3 9.45l-7.72 7.72c-.78.78-.78 2.05 0 2.83L4 21.41c.39.39.9.59 1.41.59.51 0 1.02-.2 1.41-.59l7.78-7.78 2.81-2.81c.8-.78.8-2.07 0-2.86zM5.41 20L4 18.59l7.72-7.72 1.47 1.35L5.41 20z\"/>\n",
       "  </svg>\n",
       "      </button>\n",
       "      \n",
       "  <style>\n",
       "    .colab-df-container {\n",
       "      display:flex;\n",
       "      flex-wrap:wrap;\n",
       "      gap: 12px;\n",
       "    }\n",
       "\n",
       "    .colab-df-convert {\n",
       "      background-color: #E8F0FE;\n",
       "      border: none;\n",
       "      border-radius: 50%;\n",
       "      cursor: pointer;\n",
       "      display: none;\n",
       "      fill: #1967D2;\n",
       "      height: 32px;\n",
       "      padding: 0 0 0 0;\n",
       "      width: 32px;\n",
       "    }\n",
       "\n",
       "    .colab-df-convert:hover {\n",
       "      background-color: #E2EBFA;\n",
       "      box-shadow: 0px 1px 2px rgba(60, 64, 67, 0.3), 0px 1px 3px 1px rgba(60, 64, 67, 0.15);\n",
       "      fill: #174EA6;\n",
       "    }\n",
       "\n",
       "    [theme=dark] .colab-df-convert {\n",
       "      background-color: #3B4455;\n",
       "      fill: #D2E3FC;\n",
       "    }\n",
       "\n",
       "    [theme=dark] .colab-df-convert:hover {\n",
       "      background-color: #434B5C;\n",
       "      box-shadow: 0px 1px 3px 1px rgba(0, 0, 0, 0.15);\n",
       "      filter: drop-shadow(0px 1px 2px rgba(0, 0, 0, 0.3));\n",
       "      fill: #FFFFFF;\n",
       "    }\n",
       "  </style>\n",
       "\n",
       "      <script>\n",
       "        const buttonEl =\n",
       "          document.querySelector('#df-a962080c-f9af-4dcc-9e24-225e7e4d289a button.colab-df-convert');\n",
       "        buttonEl.style.display =\n",
       "          google.colab.kernel.accessAllowed ? 'block' : 'none';\n",
       "\n",
       "        async function convertToInteractive(key) {\n",
       "          const element = document.querySelector('#df-a962080c-f9af-4dcc-9e24-225e7e4d289a');\n",
       "          const dataTable =\n",
       "            await google.colab.kernel.invokeFunction('convertToInteractive',\n",
       "                                                     [key], {});\n",
       "          if (!dataTable) return;\n",
       "\n",
       "          const docLinkHtml = 'Like what you see? Visit the ' +\n",
       "            '<a target=\"_blank\" href=https://colab.research.google.com/notebooks/data_table.ipynb>data table notebook</a>'\n",
       "            + ' to learn more about interactive tables.';\n",
       "          element.innerHTML = '';\n",
       "          dataTable['output_type'] = 'display_data';\n",
       "          await google.colab.output.renderOutput(dataTable, element);\n",
       "          const docLink = document.createElement('div');\n",
       "          docLink.innerHTML = docLinkHtml;\n",
       "          element.appendChild(docLink);\n",
       "        }\n",
       "      </script>\n",
       "    </div>\n",
       "  </div>\n",
       "  "
      ],
      "text/plain": [
       "      AveragePrice\n",
       "Date              \n",
       "2015          1.17\n",
       "2015          1.23\n",
       "2015          1.12\n",
       "2015          1.20\n",
       "2015          1.16\n",
       "...            ...\n",
       "2017          1.52\n",
       "2017          1.48\n",
       "2017          1.38\n",
       "2017          1.29\n",
       "2017          1.44\n",
       "\n",
       "[157 rows x 1 columns]"
      ]
     },
     "execution_count": 117,
     "metadata": {},
     "output_type": "execute_result"
    }
   ],
   "source": [
    "df_con_price"
   ]
  },
  {
   "cell_type": "code",
   "execution_count": null,
   "metadata": {
    "colab": {
     "base_uri": "https://localhost:8080/"
    },
    "executionInfo": {
     "elapsed": 467,
     "status": "ok",
     "timestamp": 1652174558444,
     "user": {
      "displayName": "Son Luc Cam",
      "userId": "01778600856537737107"
     },
     "user_tz": -420
    },
    "id": "gN53KrtBe1yF",
    "outputId": "b526dc67-dad3-49b8-dfde-1778fdbbb5db"
   },
   "outputs": [
    {
     "data": {
      "text/plain": [
       "(157, 1)"
      ]
     },
     "execution_count": 118,
     "metadata": {},
     "output_type": "execute_result"
    }
   ],
   "source": [
    "X = df_con_price.values\n",
    "X\n",
    "X.shape"
   ]
  },
  {
   "cell_type": "code",
   "execution_count": null,
   "metadata": {
    "colab": {
     "base_uri": "https://localhost:8080/"
    },
    "executionInfo": {
     "elapsed": 7,
     "status": "ok",
     "timestamp": 1652174560291,
     "user": {
      "displayName": "Son Luc Cam",
      "userId": "01778600856537737107"
     },
     "user_tz": -420
    },
    "id": "Q4Ou5SS3vA5X",
    "outputId": "08bc094d-7687-4d74-cc50-7ca4c185e12d"
   },
   "outputs": [
    {
     "data": {
      "text/plain": [
       "117"
      ]
     },
     "execution_count": 119,
     "metadata": {},
     "output_type": "execute_result"
    }
   ],
   "source": [
    "size = int(len(X)*0.75)\n",
    "size"
   ]
  },
  {
   "cell_type": "code",
   "execution_count": null,
   "metadata": {
    "id": "aJCvyiPfvONO"
   },
   "outputs": [],
   "source": [
    "X_train, X_test = X[0:size], X[size:len(X)]"
   ]
  },
  {
   "cell_type": "code",
   "execution_count": null,
   "metadata": {
    "colab": {
     "base_uri": "https://localhost:8080/"
    },
    "executionInfo": {
     "elapsed": 10,
     "status": "ok",
     "timestamp": 1652174564469,
     "user": {
      "displayName": "Son Luc Cam",
      "userId": "01778600856537737107"
     },
     "user_tz": -420
    },
    "id": "MpC1uQIX5Bhh",
    "outputId": "c05e990f-541e-487f-bb3f-d982bf38f568"
   },
   "outputs": [
    {
     "data": {
      "text/plain": [
       "array([[1.17],\n",
       "       [1.23],\n",
       "       [1.12],\n",
       "       [1.2 ],\n",
       "       [1.16],\n",
       "       [1.14],\n",
       "       [1.04],\n",
       "       [1.13],\n",
       "       [1.06],\n",
       "       [1.23],\n",
       "       [0.97],\n",
       "       [1.28],\n",
       "       [1.26],\n",
       "       [1.16],\n",
       "       [1.18],\n",
       "       [1.16],\n",
       "       [1.22],\n",
       "       [1.22],\n",
       "       [1.1 ],\n",
       "       [1.14],\n",
       "       [1.1 ],\n",
       "       [1.14],\n",
       "       [1.28],\n",
       "       [1.37],\n",
       "       [1.27],\n",
       "       [1.18],\n",
       "       [1.36],\n",
       "       [1.28],\n",
       "       [1.32],\n",
       "       [1.32],\n",
       "       [1.43],\n",
       "       [1.37],\n",
       "       [1.43],\n",
       "       [1.22],\n",
       "       [1.32],\n",
       "       [1.44],\n",
       "       [1.42],\n",
       "       [1.43],\n",
       "       [1.41],\n",
       "       [1.36],\n",
       "       [1.33],\n",
       "       [1.45],\n",
       "       [1.36],\n",
       "       [1.18],\n",
       "       [1.33],\n",
       "       [1.36],\n",
       "       [1.11],\n",
       "       [1.36],\n",
       "       [1.36],\n",
       "       [1.37],\n",
       "       [1.34],\n",
       "       [1.09],\n",
       "       [1.36],\n",
       "       [1.26],\n",
       "       [1.32],\n",
       "       [1.52],\n",
       "       [1.56],\n",
       "       [1.59],\n",
       "       [1.9 ],\n",
       "       [1.93],\n",
       "       [1.99],\n",
       "       [1.95],\n",
       "       [1.89],\n",
       "       [1.76],\n",
       "       [1.72],\n",
       "       [1.62],\n",
       "       [1.5 ],\n",
       "       [1.26],\n",
       "       [1.47],\n",
       "       [1.58],\n",
       "       [1.47],\n",
       "       [1.49],\n",
       "       [1.54],\n",
       "       [1.7 ],\n",
       "       [1.68],\n",
       "       [1.64],\n",
       "       [1.51],\n",
       "       [1.53],\n",
       "       [1.2 ],\n",
       "       [1.5 ],\n",
       "       [1.44],\n",
       "       [1.47],\n",
       "       [1.08],\n",
       "       [1.14],\n",
       "       [1.14],\n",
       "       [0.77],\n",
       "       [1.22],\n",
       "       [1.12],\n",
       "       [1.08],\n",
       "       [1.09],\n",
       "       [1.31],\n",
       "       [1.32],\n",
       "       [1.09],\n",
       "       [1.17],\n",
       "       [1.24],\n",
       "       [1.15],\n",
       "       [1.21],\n",
       "       [1.09],\n",
       "       [0.95],\n",
       "       [1.02],\n",
       "       [1.3 ],\n",
       "       [1.01],\n",
       "       [1.15],\n",
       "       [1.07],\n",
       "       [1.33],\n",
       "       [1.34],\n",
       "       [1.41],\n",
       "       [1.14],\n",
       "       [1.41],\n",
       "       [1.42],\n",
       "       [1.37],\n",
       "       [1.52],\n",
       "       [1.41],\n",
       "       [1.57],\n",
       "       [1.54],\n",
       "       [1.68],\n",
       "       [1.69]])"
      ]
     },
     "execution_count": 121,
     "metadata": {},
     "output_type": "execute_result"
    }
   ],
   "source": [
    "X_train"
   ]
  },
  {
   "cell_type": "code",
   "execution_count": null,
   "metadata": {
    "colab": {
     "base_uri": "https://localhost:8080/"
    },
    "executionInfo": {
     "elapsed": 9,
     "status": "ok",
     "timestamp": 1652174566263,
     "user": {
      "displayName": "Son Luc Cam",
      "userId": "01778600856537737107"
     },
     "user_tz": -420
    },
    "id": "HLRLj7La5DAY",
    "outputId": "844d4610-4022-4772-ea27-90d7bec2632c"
   },
   "outputs": [
    {
     "data": {
      "text/plain": [
       "array([[1.67],\n",
       "       [1.65],\n",
       "       [1.61],\n",
       "       [1.61],\n",
       "       [1.8 ],\n",
       "       [1.81],\n",
       "       [1.75],\n",
       "       [1.58],\n",
       "       [1.56],\n",
       "       [1.52],\n",
       "       [1.55],\n",
       "       [1.57],\n",
       "       [1.63],\n",
       "       [1.72],\n",
       "       [1.47],\n",
       "       [1.82],\n",
       "       [1.74],\n",
       "       [1.83],\n",
       "       [1.75],\n",
       "       [1.8 ],\n",
       "       [1.75],\n",
       "       [1.65],\n",
       "       [1.84],\n",
       "       [1.68],\n",
       "       [1.76],\n",
       "       [1.75],\n",
       "       [1.74],\n",
       "       [1.72],\n",
       "       [1.7 ],\n",
       "       [1.76],\n",
       "       [1.39],\n",
       "       [1.55],\n",
       "       [1.28],\n",
       "       [1.19],\n",
       "       [1.24],\n",
       "       [1.52],\n",
       "       [1.48],\n",
       "       [1.38],\n",
       "       [1.29],\n",
       "       [1.44]])"
      ]
     },
     "execution_count": 122,
     "metadata": {},
     "output_type": "execute_result"
    }
   ],
   "source": [
    "X_test"
   ]
  },
  {
   "cell_type": "code",
   "execution_count": null,
   "metadata": {
    "colab": {
     "base_uri": "https://localhost:8080/"
    },
    "executionInfo": {
     "elapsed": 7,
     "status": "ok",
     "timestamp": 1652174568666,
     "user": {
      "displayName": "Son Luc Cam",
      "userId": "01778600856537737107"
     },
     "user_tz": -420
    },
    "id": "BHqKodE1vs2D",
    "outputId": "57afd115-ae00-47a0-849f-2f0e7af95ec0"
   },
   "outputs": [
    {
     "data": {
      "text/plain": [
       "[array([1.17]),\n",
       " array([1.23]),\n",
       " array([1.12]),\n",
       " array([1.2]),\n",
       " array([1.16]),\n",
       " array([1.14]),\n",
       " array([1.04]),\n",
       " array([1.13]),\n",
       " array([1.06]),\n",
       " array([1.23]),\n",
       " array([0.97]),\n",
       " array([1.28]),\n",
       " array([1.26]),\n",
       " array([1.16]),\n",
       " array([1.18]),\n",
       " array([1.16]),\n",
       " array([1.22]),\n",
       " array([1.22]),\n",
       " array([1.1]),\n",
       " array([1.14]),\n",
       " array([1.1]),\n",
       " array([1.14]),\n",
       " array([1.28]),\n",
       " array([1.37]),\n",
       " array([1.27]),\n",
       " array([1.18]),\n",
       " array([1.36]),\n",
       " array([1.28]),\n",
       " array([1.32]),\n",
       " array([1.32]),\n",
       " array([1.43]),\n",
       " array([1.37]),\n",
       " array([1.43]),\n",
       " array([1.22]),\n",
       " array([1.32]),\n",
       " array([1.44]),\n",
       " array([1.42]),\n",
       " array([1.43]),\n",
       " array([1.41]),\n",
       " array([1.36]),\n",
       " array([1.33]),\n",
       " array([1.45]),\n",
       " array([1.36]),\n",
       " array([1.18]),\n",
       " array([1.33]),\n",
       " array([1.36]),\n",
       " array([1.11]),\n",
       " array([1.36]),\n",
       " array([1.36]),\n",
       " array([1.37]),\n",
       " array([1.34]),\n",
       " array([1.09]),\n",
       " array([1.36]),\n",
       " array([1.26]),\n",
       " array([1.32]),\n",
       " array([1.52]),\n",
       " array([1.56]),\n",
       " array([1.59]),\n",
       " array([1.9]),\n",
       " array([1.93]),\n",
       " array([1.99]),\n",
       " array([1.95]),\n",
       " array([1.89]),\n",
       " array([1.76]),\n",
       " array([1.72]),\n",
       " array([1.62]),\n",
       " array([1.5]),\n",
       " array([1.26]),\n",
       " array([1.47]),\n",
       " array([1.58]),\n",
       " array([1.47]),\n",
       " array([1.49]),\n",
       " array([1.54]),\n",
       " array([1.7]),\n",
       " array([1.68]),\n",
       " array([1.64]),\n",
       " array([1.51]),\n",
       " array([1.53]),\n",
       " array([1.2]),\n",
       " array([1.5]),\n",
       " array([1.44]),\n",
       " array([1.47]),\n",
       " array([1.08]),\n",
       " array([1.14]),\n",
       " array([1.14]),\n",
       " array([0.77]),\n",
       " array([1.22]),\n",
       " array([1.12]),\n",
       " array([1.08]),\n",
       " array([1.09]),\n",
       " array([1.31]),\n",
       " array([1.32]),\n",
       " array([1.09]),\n",
       " array([1.17]),\n",
       " array([1.24]),\n",
       " array([1.15]),\n",
       " array([1.21]),\n",
       " array([1.09]),\n",
       " array([0.95]),\n",
       " array([1.02]),\n",
       " array([1.3]),\n",
       " array([1.01]),\n",
       " array([1.15]),\n",
       " array([1.07]),\n",
       " array([1.33]),\n",
       " array([1.34]),\n",
       " array([1.41]),\n",
       " array([1.14]),\n",
       " array([1.41]),\n",
       " array([1.42]),\n",
       " array([1.37]),\n",
       " array([1.52]),\n",
       " array([1.41]),\n",
       " array([1.57]),\n",
       " array([1.54]),\n",
       " array([1.68]),\n",
       " array([1.69])]"
      ]
     },
     "execution_count": 123,
     "metadata": {},
     "output_type": "execute_result"
    }
   ],
   "source": [
    "history = [x for x in X_train]\n",
    "history"
   ]
  },
  {
   "cell_type": "code",
   "execution_count": null,
   "metadata": {
    "colab": {
     "base_uri": "https://localhost:8080/",
     "height": 404
    },
    "executionInfo": {
     "elapsed": 857,
     "status": "ok",
     "timestamp": 1652175022779,
     "user": {
      "displayName": "Son Luc Cam",
      "userId": "01778600856537737107"
     },
     "user_tz": -420
    },
    "id": "jQID1jyH6ER0",
    "outputId": "719ae6e4-e931-4c86-a2cc-816ddde83bd2"
   },
   "outputs": [
    {
     "name": "stdout",
     "output_type": "stream",
     "text": [
      "[1.68178778 1.68987    1.70189824 1.70038687 1.69924397 1.7009488\n",
      " 1.70181687 1.70136736 1.70134768 1.70158998 1.70161341 1.70154898\n",
      " 1.70156734 1.70159342 1.70158704 1.70158096 1.7015854  1.70158732\n",
      " 1.70158579 1.70158553 1.7015862  1.70158622 1.70158601 1.70158605\n",
      " 1.70158613 1.7015861  1.70158608 1.7015861  1.7015861  1.7015861\n",
      " 1.70158609 1.7015861  1.7015861  1.7015861  1.7015861  1.7015861\n",
      " 1.7015861  1.7015861  1.7015861  1.7015861 ]\n"
     ]
    },
    {
     "data": {
      "text/plain": [
       "[<matplotlib.lines.Line2D at 0x7efeabd214d0>]"
      ]
     },
     "execution_count": 135,
     "metadata": {},
     "output_type": "execute_result"
    },
    {
     "data": {
      "image/png": "[encoded data removed]",
      "text/plain": [
       "<Figure size 432x288 with 1 Axes>"
      ]
     },
     "metadata": {
      "needs_background": "light"
     },
     "output_type": "display_data"
    }
   ],
   "source": [
    "start = len(X_train)\n",
    "end = len(X_train) + len(X_test) -1\n",
    "pred = model.predict(start=start, end=end, typ='levels')\n",
    "print(pred)\n",
    "plt.plot(pred)\n",
    "plt.plot(X_test)"
   ]
  },
  {
   "cell_type": "code",
   "execution_count": null,
   "metadata": {
    "colab": {
     "base_uri": "https://localhost:8080/"
    },
    "executionInfo": {
     "elapsed": 465,
     "status": "ok",
     "timestamp": 1652175026851,
     "user": {
      "displayName": "Son Luc Cam",
      "userId": "01778600856537737107"
     },
     "user_tz": -420
    },
    "id": "1vIwWJTmyi1u",
    "outputId": "9c970560-291e-4ada-aa69-11ca5cc9bb55"
   },
   "outputs": [
    {
     "name": "stdout",
     "output_type": "stream",
     "text": [
      "0.19269887173018085\n"
     ]
    }
   ],
   "source": [
    "from numpy import sqrt\n",
    "from sklearn.metrics import mean_squared_error\n",
    "rmse = sqrt(mean_squared_error(pred, X_test))\n",
    "print (rmse)"
   ]
  },
  {
   "cell_type": "code",
   "execution_count": null,
   "metadata": {
    "id": "DkLwLpy4207m"
   },
   "outputs": [],
   "source": [
    "from datetime import datetime"
   ]
  },
  {
   "cell_type": "code",
   "execution_count": null,
   "metadata": {
    "colab": {
     "base_uri": "https://localhost:8080/"
    },
    "executionInfo": {
     "elapsed": 443,
     "status": "ok",
     "timestamp": 1652171110560,
     "user": {
      "displayName": "Son Luc Cam",
      "userId": "01778600856537737107"
     },
     "user_tz": -420
    },
    "id": "n159Jold1qEN",
    "outputId": "641b91c2-e1e1-48d5-c1f8-073351de9f7a"
   },
   "outputs": [
    {
     "data": {
      "text/plain": [
       "117"
      ]
     },
     "execution_count": 59,
     "metadata": {},
     "output_type": "execute_result"
    }
   ],
   "source": [
    "start = len(X_train)\n",
    "end = len(X_train) + len(X_test) -1\n",
    "\n",
    "start"
   ]
  },
  {
   "cell_type": "code",
   "execution_count": null,
   "metadata": {
    "colab": {
     "base_uri": "https://localhost:8080/"
    },
    "executionInfo": {
     "elapsed": 6,
     "status": "ok",
     "timestamp": 1652171110560,
     "user": {
      "displayName": "Son Luc Cam",
      "userId": "01778600856537737107"
     },
     "user_tz": -420
    },
    "id": "XY3Cjnm14uPS",
    "outputId": "3bd3f69e-057c-441a-f4d4-7c0f812b9bd1"
   },
   "outputs": [
    {
     "name": "stdout",
     "output_type": "stream",
     "text": [
      "[1.72593681 1.69109443 1.75101087 1.71630357 1.75493923 1.72726329\n",
      " 1.76501916 1.7394377  1.77092058 1.75131059 1.77842648 1.76237755\n",
      " 1.78573151 1.7734389  1.79341463 1.78407489 1.80135302 1.79452674\n",
      " 1.80949998 1.80475159 1.81784899 1.81480587 1.82635232 1.82471386\n",
      " 1.83499087 1.83450052 1.84373833 1.84418808 1.85257618 1.85379374\n",
      " 1.86148796 1.86333258 1.87046024 1.87281666 1.87948201 1.88225603\n",
      " 1.88854419 1.89165887 1.89763937 1.90103191]\n"
     ]
    }
   ],
   "source": [
    "pred = model.predict(start=start, end=end, typ='levels')\n",
    "print(pred)"
   ]
  },
  {
   "cell_type": "code",
   "execution_count": null,
   "metadata": {
    "colab": {
     "base_uri": "https://localhost:8080/"
    },
    "executionInfo": {
     "elapsed": 4,
     "status": "ok",
     "timestamp": 1652171415777,
     "user": {
      "displayName": "Son Luc Cam",
      "userId": "01778600856537737107"
     },
     "user_tz": -420
    },
    "id": "F8HTcNZNvtAl",
    "outputId": "26095634-5ca4-4cd7-91a2-5c13b91ca1ec"
   },
   "outputs": [
    {
     "name": "stdout",
     "output_type": "stream",
     "text": [
      "0.17807624275045858\n"
     ]
    }
   ],
   "source": []
  },
  {
   "cell_type": "markdown",
   "metadata": {
    "id": "TOSpr82SAax5"
   },
   "source": []
  },
  {
   "cell_type": "code",
   "execution_count": null,
   "metadata": {
    "id": "1irY6VWrAbBM"
   },
   "outputs": [],
   "source": []
  },
  {
   "cell_type": "code",
   "execution_count": null,
   "metadata": {
    "id": "UQt0IzDxAbFB"
   },
   "outputs": [],
   "source": []
  },
  {
   "cell_type": "code",
   "execution_count": null,
   "metadata": {
    "id": "j0LFebARAbH_"
   },
   "outputs": [],
   "source": []
  },
  {
   "cell_type": "code",
   "execution_count": null,
   "metadata": {
    "id": "j60-0ZuMAbKk"
   },
   "outputs": [],
   "source": []
  },
  {
   "cell_type": "code",
   "execution_count": null,
   "metadata": {
    "id": "Tp2YZp_AlG8z"
   },
   "outputs": [],
   "source": [
    "model = ARIMA(history, order=(5,1,0))\n",
    "model_fit = model.fit()\n"
   ]
  },
  {
   "cell_type": "code",
   "execution_count": null,
   "metadata": {
    "colab": {
     "base_uri": "https://localhost:8080/"
    },
    "executionInfo": {
     "elapsed": 461,
     "status": "ok",
     "timestamp": 1652165846502,
     "user": {
      "displayName": "Son Luc Cam",
      "userId": "01778600856537737107"
     },
     "user_tz": -420
    },
    "id": "EnkF2EdUwf_I",
    "outputId": "a52615d5-6f66-41d6-f03e-f2ed88930a5d"
   },
   "outputs": [
    {
     "data": {
      "text/plain": [
       "array([1.38586061])"
      ]
     },
     "execution_count": 36,
     "metadata": {},
     "output_type": "execute_result"
    }
   ],
   "source": [
    "output = model_fit.forecast()\n",
    "output"
   ]
  },
  {
   "cell_type": "code",
   "execution_count": null,
   "metadata": {
    "colab": {
     "base_uri": "https://localhost:8080/"
    },
    "executionInfo": {
     "elapsed": 8,
     "status": "ok",
     "timestamp": 1652165919499,
     "user": {
      "displayName": "Son Luc Cam",
      "userId": "01778600856537737107"
     },
     "user_tz": -420
    },
    "id": "QOUe_IOKwt1d",
    "outputId": "f0be73f3-fff4-41e9-ec3f-eaa90a777485"
   },
   "outputs": [
    {
     "data": {
      "text/plain": [
       "1.3858606058468503"
      ]
     },
     "execution_count": 37,
     "metadata": {},
     "output_type": "execute_result"
    }
   ],
   "source": [
    "yhat = output[0]\n",
    "yhat"
   ]
  },
  {
   "cell_type": "code",
   "execution_count": null,
   "metadata": {
    "colab": {
     "base_uri": "https://localhost:8080/"
    },
    "executionInfo": {
     "elapsed": 600,
     "status": "ok",
     "timestamp": 1652166064981,
     "user": {
      "displayName": "Son Luc Cam",
      "userId": "01778600856537737107"
     },
     "user_tz": -420
    },
    "id": "O9FwJ9WwxNXo",
    "outputId": "e5480109-ee1e-4a7f-fc1a-2b784ff3071b"
   },
   "outputs": [
    {
     "data": {
      "text/plain": [
       "[1.3858606058468503]"
      ]
     },
     "execution_count": 38,
     "metadata": {},
     "output_type": "execute_result"
    }
   ],
   "source": [
    "predictions = [yhat]\n",
    "predictions"
   ]
  },
  {
   "cell_type": "code",
   "execution_count": null,
   "metadata": {
    "id": "d50ljdrUxfcm"
   },
   "outputs": [],
   "source": [
    "obs = X_test[]"
   ]
  },
  {
   "cell_type": "code",
   "execution_count": null,
   "metadata": {
    "colab": {
     "base_uri": "https://localhost:8080/"
    },
    "executionInfo": {
     "elapsed": 517,
     "status": "ok",
     "timestamp": 1652165047126,
     "user": {
      "displayName": "Son Luc Cam",
      "userId": "01778600856537737107"
     },
     "user_tz": -420
    },
    "id": "QQ-qaX1NjySm",
    "outputId": "1422f17e-e238-4345-bad5-d1a03a6dff14"
   },
   "outputs": [
    {
     "name": "stdout",
     "output_type": "stream",
     "text": [
      "                               SARIMAX Results                                \n",
      "==============================================================================\n",
      "Dep. Variable:           AveragePrice   No. Observations:                  157\n",
      "Model:                 ARIMA(5, 1, 0)   Log Likelihood                  94.693\n",
      "Date:                Tue, 10 May 2022   AIC                           -177.385\n",
      "Time:                        06:44:06   BIC                           -159.086\n",
      "Sample:                             0   HQIC                          -169.953\n",
      "                                - 157                                         \n",
      "Covariance Type:                  opg                                         \n",
      "==============================================================================\n",
      "                 coef    std err          z      P>|z|      [0.025      0.975]\n",
      "------------------------------------------------------------------------------\n",
      "ar.L1         -0.4414      0.080     -5.489      0.000      -0.599      -0.284\n",
      "ar.L2         -0.1162      0.101     -1.156      0.248      -0.313       0.081\n",
      "ar.L3         -0.0235      0.072     -0.326      0.744      -0.165       0.118\n",
      "ar.L4          0.0648      0.081      0.801      0.423      -0.094       0.224\n",
      "ar.L5          0.0066      0.085      0.078      0.938      -0.161       0.174\n",
      "sigma2         0.0174      0.002      9.205      0.000       0.014       0.021\n",
      "===================================================================================\n",
      "Ljung-Box (L1) (Q):                   0.00   Jarque-Bera (JB):                 4.36\n",
      "Prob(Q):                              0.98   Prob(JB):                         0.11\n",
      "Heteroskedasticity (H):               1.42   Skew:                            -0.35\n",
      "Prob(H) (two-sided):                  0.21   Kurtosis:                         3.42\n",
      "===================================================================================\n",
      "\n",
      "Warnings:\n",
      "[1] Covariance matrix calculated using the outer product of gradients (complex-step).\n"
     ]
    }
   ],
   "source": [
    "print(model_fit.summary())"
   ]
  },
  {
   "cell_type": "code",
   "execution_count": null,
   "metadata": {
    "colab": {
     "base_uri": "https://localhost:8080/",
     "height": 291
    },
    "executionInfo": {
     "elapsed": 880,
     "status": "ok",
     "timestamp": 1652165180810,
     "user": {
      "displayName": "Son Luc Cam",
      "userId": "01778600856537737107"
     },
     "user_tz": -420
    },
    "id": "X0XspYkek6nr",
    "outputId": "d2269333-72a6-469e-95b9-137aa236d598"
   },
   "outputs": [
    {
     "data": {
      "image/png": "[encoded data removed]",
      "text/plain": [
       "<Figure size 432x288 with 1 Axes>"
      ]
     },
     "metadata": {
      "needs_background": "light"
     },
     "output_type": "display_data"
    }
   ],
   "source": [
    "residuals = pd.DataFrame(model_fit.resid)\n",
    "residuals.plot()\n",
    "plt.show()"
   ]
  },
  {
   "cell_type": "code",
   "execution_count": null,
   "metadata": {
    "colab": {
     "base_uri": "https://localhost:8080/",
     "height": 265
    },
    "executionInfo": {
     "elapsed": 495,
     "status": "ok",
     "timestamp": 1652165222544,
     "user": {
      "displayName": "Son Luc Cam",
      "userId": "01778600856537737107"
     },
     "user_tz": -420
    },
    "id": "hZMvU7FOlEs7",
    "outputId": "ab5bdc49-6960-4900-9535-720951a0fc88"
   },
   "outputs": [
    {
     "data": {
      "image/png": "[encoded data removed]",
      "text/plain": [
       "<Figure size 432x288 with 1 Axes>"
      ]
     },
     "metadata": {
      "needs_background": "light"
     },
     "output_type": "display_data"
    }
   ],
   "source": [
    "residuals.plot(kind='kde')\n",
    "plt.show()"
   ]
  },
  {
   "cell_type": "code",
   "execution_count": null,
   "metadata": {
    "colab": {
     "base_uri": "https://localhost:8080/"
    },
    "executionInfo": {
     "elapsed": 453,
     "status": "ok",
     "timestamp": 1652165235724,
     "user": {
      "displayName": "Son Luc Cam",
      "userId": "01778600856537737107"
     },
     "user_tz": -420
    },
    "id": "TQx-QvublHOr",
    "outputId": "27677422-c00f-4a6e-c501-df81651dcc1f"
   },
   "outputs": [
    {
     "name": "stdout",
     "output_type": "stream",
     "text": [
      "                0\n",
      "count  157.000000\n",
      "mean     0.009551\n",
      "std      0.161411\n",
      "min     -0.373758\n",
      "25%     -0.059795\n",
      "50%      0.005730\n",
      "75%      0.091215\n",
      "max      1.170000\n"
     ]
    }
   ],
   "source": [
    "print(residuals.describe())"
   ]
  },
  {
   "cell_type": "code",
   "execution_count": null,
   "metadata": {
    "colab": {
     "base_uri": "https://localhost:8080/",
     "height": 661
    },
    "executionInfo": {
     "elapsed": 16,
     "status": "ok",
     "timestamp": 1652163320408,
     "user": {
      "displayName": "Son Luc Cam",
      "userId": "01778600856537737107"
     },
     "user_tz": -420
    },
    "id": "llqOiMcXlNCL",
    "outputId": "148272de-e217-42e0-b587-a5f526226576"
   },
   "outputs": [
    {
     "data": {
      "text/html": [
       "\n",
       "  <div id=\"df-0282a093-cb81-4b95-92e3-ad51d3fa758c\">\n",
       "    <div class=\"colab-df-container\">\n",
       "      <div>\n",
       "<style scoped>\n",
       "    .dataframe tbody tr th:only-of-type {\n",
       "        vertical-align: middle;\n",
       "    }\n",
       "\n",
       "    .dataframe tbody tr th {\n",
       "        vertical-align: top;\n",
       "    }\n",
       "\n",
       "    .dataframe thead th {\n",
       "        text-align: right;\n",
       "    }\n",
       "</style>\n",
       "<table border=\"1\" class=\"dataframe\">\n",
       "  <thead>\n",
       "    <tr style=\"text-align: right;\">\n",
       "      <th></th>\n",
       "      <th>ds</th>\n",
       "      <th>trend</th>\n",
       "      <th>cap</th>\n",
       "      <th>yhat_lower</th>\n",
       "      <th>yhat_upper</th>\n",
       "      <th>trend_lower</th>\n",
       "      <th>trend_upper</th>\n",
       "      <th>additive_terms</th>\n",
       "      <th>additive_terms_lower</th>\n",
       "      <th>additive_terms_upper</th>\n",
       "      <th>yearly</th>\n",
       "      <th>yearly_lower</th>\n",
       "      <th>yearly_upper</th>\n",
       "      <th>multiplicative_terms</th>\n",
       "      <th>multiplicative_terms_lower</th>\n",
       "      <th>multiplicative_terms_upper</th>\n",
       "      <th>yhat</th>\n",
       "    </tr>\n",
       "  </thead>\n",
       "  <tbody>\n",
       "    <tr>\n",
       "      <th>0</th>\n",
       "      <td>2015-01-04</td>\n",
       "      <td>1.250760</td>\n",
       "      <td>158.5</td>\n",
       "      <td>0.873143</td>\n",
       "      <td>1.313119</td>\n",
       "      <td>1.250760</td>\n",
       "      <td>1.250760</td>\n",
       "      <td>-0.162908</td>\n",
       "      <td>-0.162908</td>\n",
       "      <td>-0.162908</td>\n",
       "      <td>-0.162908</td>\n",
       "      <td>-0.162908</td>\n",
       "      <td>-0.162908</td>\n",
       "      <td>0.0</td>\n",
       "      <td>0.0</td>\n",
       "      <td>0.0</td>\n",
       "      <td>1.087852</td>\n",
       "    </tr>\n",
       "    <tr>\n",
       "      <th>1</th>\n",
       "      <td>2015-01-11</td>\n",
       "      <td>1.251169</td>\n",
       "      <td>158.5</td>\n",
       "      <td>0.956738</td>\n",
       "      <td>1.390580</td>\n",
       "      <td>1.251169</td>\n",
       "      <td>1.251169</td>\n",
       "      <td>-0.080192</td>\n",
       "      <td>-0.080192</td>\n",
       "      <td>-0.080192</td>\n",
       "      <td>-0.080192</td>\n",
       "      <td>-0.080192</td>\n",
       "      <td>-0.080192</td>\n",
       "      <td>0.0</td>\n",
       "      <td>0.0</td>\n",
       "      <td>0.0</td>\n",
       "      <td>1.170977</td>\n",
       "    </tr>\n",
       "    <tr>\n",
       "      <th>2</th>\n",
       "      <td>2015-01-18</td>\n",
       "      <td>1.251577</td>\n",
       "      <td>158.5</td>\n",
       "      <td>1.010380</td>\n",
       "      <td>1.459244</td>\n",
       "      <td>1.251577</td>\n",
       "      <td>1.251577</td>\n",
       "      <td>-0.020795</td>\n",
       "      <td>-0.020795</td>\n",
       "      <td>-0.020795</td>\n",
       "      <td>-0.020795</td>\n",
       "      <td>-0.020795</td>\n",
       "      <td>-0.020795</td>\n",
       "      <td>0.0</td>\n",
       "      <td>0.0</td>\n",
       "      <td>0.0</td>\n",
       "      <td>1.230782</td>\n",
       "    </tr>\n",
       "    <tr>\n",
       "      <th>3</th>\n",
       "      <td>2015-01-25</td>\n",
       "      <td>1.251986</td>\n",
       "      <td>158.5</td>\n",
       "      <td>1.005085</td>\n",
       "      <td>1.444762</td>\n",
       "      <td>1.251986</td>\n",
       "      <td>1.251986</td>\n",
       "      <td>-0.033595</td>\n",
       "      <td>-0.033595</td>\n",
       "      <td>-0.033595</td>\n",
       "      <td>-0.033595</td>\n",
       "      <td>-0.033595</td>\n",
       "      <td>-0.033595</td>\n",
       "      <td>0.0</td>\n",
       "      <td>0.0</td>\n",
       "      <td>0.0</td>\n",
       "      <td>1.218391</td>\n",
       "    </tr>\n",
       "    <tr>\n",
       "      <th>4</th>\n",
       "      <td>2015-02-01</td>\n",
       "      <td>1.252395</td>\n",
       "      <td>158.5</td>\n",
       "      <td>0.915214</td>\n",
       "      <td>1.362094</td>\n",
       "      <td>1.252395</td>\n",
       "      <td>1.252395</td>\n",
       "      <td>-0.105180</td>\n",
       "      <td>-0.105180</td>\n",
       "      <td>-0.105180</td>\n",
       "      <td>-0.105180</td>\n",
       "      <td>-0.105180</td>\n",
       "      <td>-0.105180</td>\n",
       "      <td>0.0</td>\n",
       "      <td>0.0</td>\n",
       "      <td>0.0</td>\n",
       "      <td>1.147214</td>\n",
       "    </tr>\n",
       "    <tr>\n",
       "      <th>...</th>\n",
       "      <td>...</td>\n",
       "      <td>...</td>\n",
       "      <td>...</td>\n",
       "      <td>...</td>\n",
       "      <td>...</td>\n",
       "      <td>...</td>\n",
       "      <td>...</td>\n",
       "      <td>...</td>\n",
       "      <td>...</td>\n",
       "      <td>...</td>\n",
       "      <td>...</td>\n",
       "      <td>...</td>\n",
       "      <td>...</td>\n",
       "      <td>...</td>\n",
       "      <td>...</td>\n",
       "      <td>...</td>\n",
       "      <td>...</td>\n",
       "    </tr>\n",
       "    <tr>\n",
       "      <th>204</th>\n",
       "      <td>2018-12-02</td>\n",
       "      <td>1.863488</td>\n",
       "      <td>158.5</td>\n",
       "      <td>1.489125</td>\n",
       "      <td>1.940177</td>\n",
       "      <td>1.839033</td>\n",
       "      <td>1.887143</td>\n",
       "      <td>-0.144200</td>\n",
       "      <td>-0.144200</td>\n",
       "      <td>-0.144200</td>\n",
       "      <td>-0.144200</td>\n",
       "      <td>-0.144200</td>\n",
       "      <td>-0.144200</td>\n",
       "      <td>0.0</td>\n",
       "      <td>0.0</td>\n",
       "      <td>0.0</td>\n",
       "      <td>1.719288</td>\n",
       "    </tr>\n",
       "    <tr>\n",
       "      <th>205</th>\n",
       "      <td>2018-12-09</td>\n",
       "      <td>1.867783</td>\n",
       "      <td>158.5</td>\n",
       "      <td>1.476030</td>\n",
       "      <td>1.929154</td>\n",
       "      <td>1.842684</td>\n",
       "      <td>1.892076</td>\n",
       "      <td>-0.169388</td>\n",
       "      <td>-0.169388</td>\n",
       "      <td>-0.169388</td>\n",
       "      <td>-0.169388</td>\n",
       "      <td>-0.169388</td>\n",
       "      <td>-0.169388</td>\n",
       "      <td>0.0</td>\n",
       "      <td>0.0</td>\n",
       "      <td>0.0</td>\n",
       "      <td>1.698395</td>\n",
       "    </tr>\n",
       "    <tr>\n",
       "      <th>206</th>\n",
       "      <td>2018-12-16</td>\n",
       "      <td>1.872087</td>\n",
       "      <td>158.5</td>\n",
       "      <td>1.471977</td>\n",
       "      <td>1.911102</td>\n",
       "      <td>1.846095</td>\n",
       "      <td>1.897165</td>\n",
       "      <td>-0.192684</td>\n",
       "      <td>-0.192684</td>\n",
       "      <td>-0.192684</td>\n",
       "      <td>-0.192684</td>\n",
       "      <td>-0.192684</td>\n",
       "      <td>-0.192684</td>\n",
       "      <td>0.0</td>\n",
       "      <td>0.0</td>\n",
       "      <td>0.0</td>\n",
       "      <td>1.679404</td>\n",
       "    </tr>\n",
       "    <tr>\n",
       "      <th>207</th>\n",
       "      <td>2018-12-23</td>\n",
       "      <td>1.876401</td>\n",
       "      <td>158.5</td>\n",
       "      <td>1.436409</td>\n",
       "      <td>1.896292</td>\n",
       "      <td>1.849357</td>\n",
       "      <td>1.902609</td>\n",
       "      <td>-0.213374</td>\n",
       "      <td>-0.213374</td>\n",
       "      <td>-0.213374</td>\n",
       "      <td>-0.213374</td>\n",
       "      <td>-0.213374</td>\n",
       "      <td>-0.213374</td>\n",
       "      <td>0.0</td>\n",
       "      <td>0.0</td>\n",
       "      <td>0.0</td>\n",
       "      <td>1.663027</td>\n",
       "    </tr>\n",
       "    <tr>\n",
       "      <th>208</th>\n",
       "      <td>2018-12-30</td>\n",
       "      <td>1.880725</td>\n",
       "      <td>158.5</td>\n",
       "      <td>1.436273</td>\n",
       "      <td>1.916154</td>\n",
       "      <td>1.852502</td>\n",
       "      <td>1.908063</td>\n",
       "      <td>-0.202462</td>\n",
       "      <td>-0.202462</td>\n",
       "      <td>-0.202462</td>\n",
       "      <td>-0.202462</td>\n",
       "      <td>-0.202462</td>\n",
       "      <td>-0.202462</td>\n",
       "      <td>0.0</td>\n",
       "      <td>0.0</td>\n",
       "      <td>0.0</td>\n",
       "      <td>1.678263</td>\n",
       "    </tr>\n",
       "  </tbody>\n",
       "</table>\n",
       "<p>209 rows × 17 columns</p>\n",
       "</div>\n",
       "      <button class=\"colab-df-convert\" onclick=\"convertToInteractive('df-0282a093-cb81-4b95-92e3-ad51d3fa758c')\"\n",
       "              title=\"Convert this dataframe to an interactive table.\"\n",
       "              style=\"display:none;\">\n",
       "        \n",
       "  <svg xmlns=\"http://www.w3.org/2000/svg\" height=\"24px\"viewBox=\"0 0 24 24\"\n",
       "       width=\"24px\">\n",
       "    <path d=\"M0 0h24v24H0V0z\" fill=\"none\"/>\n",
       "    <path d=\"M18.56 5.44l.94 2.06.94-2.06 2.06-.94-2.06-.94-.94-2.06-.94 2.06-2.06.94zm-11 1L8.5 8.5l.94-2.06 2.06-.94-2.06-.94L8.5 2.5l-.94 2.06-2.06.94zm10 10l.94 2.06.94-2.06 2.06-.94-2.06-.94-.94-2.06-.94 2.06-2.06.94z\"/><path d=\"M17.41 7.96l-1.37-1.37c-.4-.4-.92-.59-1.43-.59-.52 0-1.04.2-1.43.59L10.3 9.45l-7.72 7.72c-.78.78-.78 2.05 0 2.83L4 21.41c.39.39.9.59 1.41.59.51 0 1.02-.2 1.41-.59l7.78-7.78 2.81-2.81c.8-.78.8-2.07 0-2.86zM5.41 20L4 18.59l7.72-7.72 1.47 1.35L5.41 20z\"/>\n",
       "  </svg>\n",
       "      </button>\n",
       "      \n",
       "  <style>\n",
       "    .colab-df-container {\n",
       "      display:flex;\n",
       "      flex-wrap:wrap;\n",
       "      gap: 12px;\n",
       "    }\n",
       "\n",
       "    .colab-df-convert {\n",
       "      background-color: #E8F0FE;\n",
       "      border: none;\n",
       "      border-radius: 50%;\n",
       "      cursor: pointer;\n",
       "      display: none;\n",
       "      fill: #1967D2;\n",
       "      height: 32px;\n",
       "      padding: 0 0 0 0;\n",
       "      width: 32px;\n",
       "    }\n",
       "\n",
       "    .colab-df-convert:hover {\n",
       "      background-color: #E2EBFA;\n",
       "      box-shadow: 0px 1px 2px rgba(60, 64, 67, 0.3), 0px 1px 3px 1px rgba(60, 64, 67, 0.15);\n",
       "      fill: #174EA6;\n",
       "    }\n",
       "\n",
       "    [theme=dark] .colab-df-convert {\n",
       "      background-color: #3B4455;\n",
       "      fill: #D2E3FC;\n",
       "    }\n",
       "\n",
       "    [theme=dark] .colab-df-convert:hover {\n",
       "      background-color: #434B5C;\n",
       "      box-shadow: 0px 1px 3px 1px rgba(0, 0, 0, 0.15);\n",
       "      filter: drop-shadow(0px 1px 2px rgba(0, 0, 0, 0.3));\n",
       "      fill: #FFFFFF;\n",
       "    }\n",
       "  </style>\n",
       "\n",
       "      <script>\n",
       "        const buttonEl =\n",
       "          document.querySelector('#df-0282a093-cb81-4b95-92e3-ad51d3fa758c button.colab-df-convert');\n",
       "        buttonEl.style.display =\n",
       "          google.colab.kernel.accessAllowed ? 'block' : 'none';\n",
       "\n",
       "        async function convertToInteractive(key) {\n",
       "          const element = document.querySelector('#df-0282a093-cb81-4b95-92e3-ad51d3fa758c');\n",
       "          const dataTable =\n",
       "            await google.colab.kernel.invokeFunction('convertToInteractive',\n",
       "                                                     [key], {});\n",
       "          if (!dataTable) return;\n",
       "\n",
       "          const docLinkHtml = 'Like what you see? Visit the ' +\n",
       "            '<a target=\"_blank\" href=https://colab.research.google.com/notebooks/data_table.ipynb>data table notebook</a>'\n",
       "            + ' to learn more about interactive tables.';\n",
       "          element.innerHTML = '';\n",
       "          dataTable['output_type'] = 'display_data';\n",
       "          await google.colab.output.renderOutput(dataTable, element);\n",
       "          const docLink = document.createElement('div');\n",
       "          docLink.innerHTML = docLinkHtml;\n",
       "          element.appendChild(docLink);\n",
       "        }\n",
       "      </script>\n",
       "    </div>\n",
       "  </div>\n",
       "  "
      ],
      "text/plain": [
       "            ds     trend    cap  yhat_lower  yhat_upper  trend_lower  \\\n",
       "0   2015-01-04  1.250760  158.5    0.873143    1.313119     1.250760   \n",
       "1   2015-01-11  1.251169  158.5    0.956738    1.390580     1.251169   \n",
       "2   2015-01-18  1.251577  158.5    1.010380    1.459244     1.251577   \n",
       "3   2015-01-25  1.251986  158.5    1.005085    1.444762     1.251986   \n",
       "4   2015-02-01  1.252395  158.5    0.915214    1.362094     1.252395   \n",
       "..         ...       ...    ...         ...         ...          ...   \n",
       "204 2018-12-02  1.863488  158.5    1.489125    1.940177     1.839033   \n",
       "205 2018-12-09  1.867783  158.5    1.476030    1.929154     1.842684   \n",
       "206 2018-12-16  1.872087  158.5    1.471977    1.911102     1.846095   \n",
       "207 2018-12-23  1.876401  158.5    1.436409    1.896292     1.849357   \n",
       "208 2018-12-30  1.880725  158.5    1.436273    1.916154     1.852502   \n",
       "\n",
       "     trend_upper  additive_terms  additive_terms_lower  additive_terms_upper  \\\n",
       "0       1.250760       -0.162908             -0.162908             -0.162908   \n",
       "1       1.251169       -0.080192             -0.080192             -0.080192   \n",
       "2       1.251577       -0.020795             -0.020795             -0.020795   \n",
       "3       1.251986       -0.033595             -0.033595             -0.033595   \n",
       "4       1.252395       -0.105180             -0.105180             -0.105180   \n",
       "..           ...             ...                   ...                   ...   \n",
       "204     1.887143       -0.144200             -0.144200             -0.144200   \n",
       "205     1.892076       -0.169388             -0.169388             -0.169388   \n",
       "206     1.897165       -0.192684             -0.192684             -0.192684   \n",
       "207     1.902609       -0.213374             -0.213374             -0.213374   \n",
       "208     1.908063       -0.202462             -0.202462             -0.202462   \n",
       "\n",
       "       yearly  yearly_lower  yearly_upper  multiplicative_terms  \\\n",
       "0   -0.162908     -0.162908     -0.162908                   0.0   \n",
       "1   -0.080192     -0.080192     -0.080192                   0.0   \n",
       "2   -0.020795     -0.020795     -0.020795                   0.0   \n",
       "3   -0.033595     -0.033595     -0.033595                   0.0   \n",
       "4   -0.105180     -0.105180     -0.105180                   0.0   \n",
       "..        ...           ...           ...                   ...   \n",
       "204 -0.144200     -0.144200     -0.144200                   0.0   \n",
       "205 -0.169388     -0.169388     -0.169388                   0.0   \n",
       "206 -0.192684     -0.192684     -0.192684                   0.0   \n",
       "207 -0.213374     -0.213374     -0.213374                   0.0   \n",
       "208 -0.202462     -0.202462     -0.202462                   0.0   \n",
       "\n",
       "     multiplicative_terms_lower  multiplicative_terms_upper      yhat  \n",
       "0                           0.0                         0.0  1.087852  \n",
       "1                           0.0                         0.0  1.170977  \n",
       "2                           0.0                         0.0  1.230782  \n",
       "3                           0.0                         0.0  1.218391  \n",
       "4                           0.0                         0.0  1.147214  \n",
       "..                          ...                         ...       ...  \n",
       "204                         0.0                         0.0  1.719288  \n",
       "205                         0.0                         0.0  1.698395  \n",
       "206                         0.0                         0.0  1.679404  \n",
       "207                         0.0                         0.0  1.663027  \n",
       "208                         0.0                         0.0  1.678263  \n",
       "\n",
       "[209 rows x 17 columns]"
      ]
     },
     "execution_count": 16,
     "metadata": {},
     "output_type": "execute_result"
    }
   ],
   "source": [
    "forecast_con_price"
   ]
  },
  {
   "cell_type": "code",
   "execution_count": null,
   "metadata": {
    "colab": {
     "base_uri": "https://localhost:8080/",
     "height": 206
    },
    "executionInfo": {
     "elapsed": 15,
     "status": "ok",
     "timestamp": 1652163320410,
     "user": {
      "displayName": "Son Luc Cam",
      "userId": "01778600856537737107"
     },
     "user_tz": -420
    },
    "id": "RRInm3ASlP0L",
    "outputId": "70026868-9a55-404d-83ef-5af9ea2be9da"
   },
   "outputs": [
    {
     "data": {
      "text/html": [
       "\n",
       "  <div id=\"df-0041ced7-fc8e-479e-b2bd-3488cef0690f\">\n",
       "    <div class=\"colab-df-container\">\n",
       "      <div>\n",
       "<style scoped>\n",
       "    .dataframe tbody tr th:only-of-type {\n",
       "        vertical-align: middle;\n",
       "    }\n",
       "\n",
       "    .dataframe tbody tr th {\n",
       "        vertical-align: top;\n",
       "    }\n",
       "\n",
       "    .dataframe thead th {\n",
       "        text-align: right;\n",
       "    }\n",
       "</style>\n",
       "<table border=\"1\" class=\"dataframe\">\n",
       "  <thead>\n",
       "    <tr style=\"text-align: right;\">\n",
       "      <th></th>\n",
       "      <th>ds</th>\n",
       "      <th>yhat</th>\n",
       "      <th>yhat_lower</th>\n",
       "      <th>yhat_upper</th>\n",
       "    </tr>\n",
       "  </thead>\n",
       "  <tbody>\n",
       "    <tr>\n",
       "      <th>204</th>\n",
       "      <td>2018-12-02</td>\n",
       "      <td>1.719288</td>\n",
       "      <td>1.489125</td>\n",
       "      <td>1.940177</td>\n",
       "    </tr>\n",
       "    <tr>\n",
       "      <th>205</th>\n",
       "      <td>2018-12-09</td>\n",
       "      <td>1.698395</td>\n",
       "      <td>1.476030</td>\n",
       "      <td>1.929154</td>\n",
       "    </tr>\n",
       "    <tr>\n",
       "      <th>206</th>\n",
       "      <td>2018-12-16</td>\n",
       "      <td>1.679404</td>\n",
       "      <td>1.471977</td>\n",
       "      <td>1.911102</td>\n",
       "    </tr>\n",
       "    <tr>\n",
       "      <th>207</th>\n",
       "      <td>2018-12-23</td>\n",
       "      <td>1.663027</td>\n",
       "      <td>1.436409</td>\n",
       "      <td>1.896292</td>\n",
       "    </tr>\n",
       "    <tr>\n",
       "      <th>208</th>\n",
       "      <td>2018-12-30</td>\n",
       "      <td>1.678263</td>\n",
       "      <td>1.436273</td>\n",
       "      <td>1.916154</td>\n",
       "    </tr>\n",
       "  </tbody>\n",
       "</table>\n",
       "</div>\n",
       "      <button class=\"colab-df-convert\" onclick=\"convertToInteractive('df-0041ced7-fc8e-479e-b2bd-3488cef0690f')\"\n",
       "              title=\"Convert this dataframe to an interactive table.\"\n",
       "              style=\"display:none;\">\n",
       "        \n",
       "  <svg xmlns=\"http://www.w3.org/2000/svg\" height=\"24px\"viewBox=\"0 0 24 24\"\n",
       "       width=\"24px\">\n",
       "    <path d=\"M0 0h24v24H0V0z\" fill=\"none\"/>\n",
       "    <path d=\"M18.56 5.44l.94 2.06.94-2.06 2.06-.94-2.06-.94-.94-2.06-.94 2.06-2.06.94zm-11 1L8.5 8.5l.94-2.06 2.06-.94-2.06-.94L8.5 2.5l-.94 2.06-2.06.94zm10 10l.94 2.06.94-2.06 2.06-.94-2.06-.94-.94-2.06-.94 2.06-2.06.94z\"/><path d=\"M17.41 7.96l-1.37-1.37c-.4-.4-.92-.59-1.43-.59-.52 0-1.04.2-1.43.59L10.3 9.45l-7.72 7.72c-.78.78-.78 2.05 0 2.83L4 21.41c.39.39.9.59 1.41.59.51 0 1.02-.2 1.41-.59l7.78-7.78 2.81-2.81c.8-.78.8-2.07 0-2.86zM5.41 20L4 18.59l7.72-7.72 1.47 1.35L5.41 20z\"/>\n",
       "  </svg>\n",
       "      </button>\n",
       "      \n",
       "  <style>\n",
       "    .colab-df-container {\n",
       "      display:flex;\n",
       "      flex-wrap:wrap;\n",
       "      gap: 12px;\n",
       "    }\n",
       "\n",
       "    .colab-df-convert {\n",
       "      background-color: #E8F0FE;\n",
       "      border: none;\n",
       "      border-radius: 50%;\n",
       "      cursor: pointer;\n",
       "      display: none;\n",
       "      fill: #1967D2;\n",
       "      height: 32px;\n",
       "      padding: 0 0 0 0;\n",
       "      width: 32px;\n",
       "    }\n",
       "\n",
       "    .colab-df-convert:hover {\n",
       "      background-color: #E2EBFA;\n",
       "      box-shadow: 0px 1px 2px rgba(60, 64, 67, 0.3), 0px 1px 3px 1px rgba(60, 64, 67, 0.15);\n",
       "      fill: #174EA6;\n",
       "    }\n",
       "\n",
       "    [theme=dark] .colab-df-convert {\n",
       "      background-color: #3B4455;\n",
       "      fill: #D2E3FC;\n",
       "    }\n",
       "\n",
       "    [theme=dark] .colab-df-convert:hover {\n",
       "      background-color: #434B5C;\n",
       "      box-shadow: 0px 1px 3px 1px rgba(0, 0, 0, 0.15);\n",
       "      filter: drop-shadow(0px 1px 2px rgba(0, 0, 0, 0.3));\n",
       "      fill: #FFFFFF;\n",
       "    }\n",
       "  </style>\n",
       "\n",
       "      <script>\n",
       "        const buttonEl =\n",
       "          document.querySelector('#df-0041ced7-fc8e-479e-b2bd-3488cef0690f button.colab-df-convert');\n",
       "        buttonEl.style.display =\n",
       "          google.colab.kernel.accessAllowed ? 'block' : 'none';\n",
       "\n",
       "        async function convertToInteractive(key) {\n",
       "          const element = document.querySelector('#df-0041ced7-fc8e-479e-b2bd-3488cef0690f');\n",
       "          const dataTable =\n",
       "            await google.colab.kernel.invokeFunction('convertToInteractive',\n",
       "                                                     [key], {});\n",
       "          if (!dataTable) return;\n",
       "\n",
       "          const docLinkHtml = 'Like what you see? Visit the ' +\n",
       "            '<a target=\"_blank\" href=https://colab.research.google.com/notebooks/data_table.ipynb>data table notebook</a>'\n",
       "            + ' to learn more about interactive tables.';\n",
       "          element.innerHTML = '';\n",
       "          dataTable['output_type'] = 'display_data';\n",
       "          await google.colab.output.renderOutput(dataTable, element);\n",
       "          const docLink = document.createElement('div');\n",
       "          docLink.innerHTML = docLinkHtml;\n",
       "          element.appendChild(docLink);\n",
       "        }\n",
       "      </script>\n",
       "    </div>\n",
       "  </div>\n",
       "  "
      ],
      "text/plain": [
       "            ds      yhat  yhat_lower  yhat_upper\n",
       "204 2018-12-02  1.719288    1.489125    1.940177\n",
       "205 2018-12-09  1.698395    1.476030    1.929154\n",
       "206 2018-12-16  1.679404    1.471977    1.911102\n",
       "207 2018-12-23  1.663027    1.436409    1.896292\n",
       "208 2018-12-30  1.678263    1.436273    1.916154"
      ]
     },
     "execution_count": 17,
     "metadata": {},
     "output_type": "execute_result"
    }
   ],
   "source": [
    "forecast_con_price[['ds', 'yhat', 'yhat_lower', 'yhat_upper']].tail()"
   ]
  },
  {
   "cell_type": "code",
   "execution_count": null,
   "metadata": {
    "colab": {
     "base_uri": "https://localhost:8080/",
     "height": 865
    },
    "executionInfo": {
     "elapsed": 665,
     "status": "ok",
     "timestamp": 1652163321061,
     "user": {
      "displayName": "Son Luc Cam",
      "userId": "01778600856537737107"
     },
     "user_tz": -420
    },
    "id": "vjM2Zk8VlWi6",
    "outputId": "fc6818f8-a54e-4ea1-ce2a-04209ccb21d4"
   },
   "outputs": [
    {
     "data": {
      "image/png": "[encoded data removed]",
      "text/plain": [
       "<Figure size 720x432 with 1 Axes>"
      ]
     },
     "execution_count": 18,
     "metadata": {},
     "output_type": "execute_result"
    },
    {
     "data": {
      "image/png": "[encoded data removed]",
      "text/plain": [
       "<Figure size 720x432 with 1 Axes>"
      ]
     },
     "metadata": {},
     "output_type": "display_data"
    }
   ],
   "source": [
    "model_con_price.plot(forecast_con_price)"
   ]
  },
  {
   "cell_type": "code",
   "execution_count": null,
   "metadata": {
    "colab": {
     "base_uri": "https://localhost:8080/",
     "height": 865
    },
    "executionInfo": {
     "elapsed": 908,
     "status": "ok",
     "timestamp": 1652163321962,
     "user": {
      "displayName": "Son Luc Cam",
      "userId": "01778600856537737107"
     },
     "user_tz": -420
    },
    "id": "8I9-aLzBlc2r",
    "outputId": "ac501770-d493-4055-d562-11d3d946d858"
   },
   "outputs": [
    {
     "data": {
      "image/png": "[encoded data removed]",
      "text/plain": [
       "<Figure size 648x432 with 2 Axes>"
      ]
     },
     "execution_count": 19,
     "metadata": {},
     "output_type": "execute_result"
    },
    {
     "data": {
      "image/png": "[encoded data removed]",
      "text/plain": [
       "<Figure size 648x432 with 2 Axes>"
      ]
     },
     "metadata": {},
     "output_type": "display_data"
    }
   ],
   "source": [
    "model_con_price.plot_components(forecast_con_price)"
   ]
  },
  {
   "cell_type": "code",
   "execution_count": null,
   "metadata": {
    "id": "86Zv-TQRlnK7"
   },
   "outputs": [],
   "source": []
  },
  {
   "cell_type": "markdown",
   "metadata": {
    "id": "2t_0fW5WB-uJ"
   },
   "source": [
    "# Evaluate Model"
   ]
  },
  {
   "cell_type": "code",
   "execution_count": null,
   "metadata": {
    "colab": {
     "base_uri": "https://localhost:8080/",
     "height": 802
    },
    "executionInfo": {
     "elapsed": 404,
     "status": "ok",
     "timestamp": 1652163337773,
     "user": {
      "displayName": "Son Luc Cam",
      "userId": "01778600856537737107"
     },
     "user_tz": -420
    },
    "id": "h6bKB6wCsKHJ",
    "outputId": "d1fe5895-90be-4fb0-eb7b-2c6193df4c85"
   },
   "outputs": [
    {
     "data": {
      "text/html": [
       "\n",
       "  <div id=\"df-e4a591f5-ab22-4515-8441-11543c655e1c\">\n",
       "    <div class=\"colab-df-container\">\n",
       "      <div>\n",
       "<style scoped>\n",
       "    .dataframe tbody tr th:only-of-type {\n",
       "        vertical-align: middle;\n",
       "    }\n",
       "\n",
       "    .dataframe tbody tr th {\n",
       "        vertical-align: top;\n",
       "    }\n",
       "\n",
       "    .dataframe thead th {\n",
       "        text-align: right;\n",
       "    }\n",
       "</style>\n",
       "<table border=\"1\" class=\"dataframe\">\n",
       "  <thead>\n",
       "    <tr style=\"text-align: right;\">\n",
       "      <th></th>\n",
       "      <th>Unnamed: 0</th>\n",
       "      <th>Date</th>\n",
       "      <th>AveragePrice</th>\n",
       "      <th>Total Volume</th>\n",
       "      <th>4046</th>\n",
       "      <th>4225</th>\n",
       "      <th>4770</th>\n",
       "      <th>Total Bags</th>\n",
       "      <th>Small Bags</th>\n",
       "      <th>Large Bags</th>\n",
       "      <th>XLarge Bags</th>\n",
       "      <th>type</th>\n",
       "      <th>year</th>\n",
       "      <th>region</th>\n",
       "    </tr>\n",
       "  </thead>\n",
       "  <tbody>\n",
       "    <tr>\n",
       "      <th>8814</th>\n",
       "      <td>0</td>\n",
       "      <td>2018-03-25</td>\n",
       "      <td>1.34</td>\n",
       "      <td>1774776.77</td>\n",
       "      <td>63905.98</td>\n",
       "      <td>908653.71</td>\n",
       "      <td>843.45</td>\n",
       "      <td>801373.63</td>\n",
       "      <td>774634.09</td>\n",
       "      <td>23833.93</td>\n",
       "      <td>2905.61</td>\n",
       "      <td>conventional</td>\n",
       "      <td>2018</td>\n",
       "      <td>NewYork</td>\n",
       "    </tr>\n",
       "    <tr>\n",
       "      <th>8815</th>\n",
       "      <td>1</td>\n",
       "      <td>2018-03-18</td>\n",
       "      <td>1.43</td>\n",
       "      <td>1564859.63</td>\n",
       "      <td>73760.49</td>\n",
       "      <td>911098.28</td>\n",
       "      <td>612.78</td>\n",
       "      <td>579388.08</td>\n",
       "      <td>552433.16</td>\n",
       "      <td>24302.69</td>\n",
       "      <td>2652.23</td>\n",
       "      <td>conventional</td>\n",
       "      <td>2018</td>\n",
       "      <td>NewYork</td>\n",
       "    </tr>\n",
       "    <tr>\n",
       "      <th>8816</th>\n",
       "      <td>2</td>\n",
       "      <td>2018-03-11</td>\n",
       "      <td>1.35</td>\n",
       "      <td>1755052.38</td>\n",
       "      <td>64008.06</td>\n",
       "      <td>883441.96</td>\n",
       "      <td>828.96</td>\n",
       "      <td>806773.40</td>\n",
       "      <td>730150.78</td>\n",
       "      <td>74224.85</td>\n",
       "      <td>2397.77</td>\n",
       "      <td>conventional</td>\n",
       "      <td>2018</td>\n",
       "      <td>NewYork</td>\n",
       "    </tr>\n",
       "    <tr>\n",
       "      <th>8817</th>\n",
       "      <td>3</td>\n",
       "      <td>2018-03-04</td>\n",
       "      <td>1.23</td>\n",
       "      <td>1931495.66</td>\n",
       "      <td>62328.70</td>\n",
       "      <td>1324579.73</td>\n",
       "      <td>754.74</td>\n",
       "      <td>543832.49</td>\n",
       "      <td>511679.31</td>\n",
       "      <td>29854.29</td>\n",
       "      <td>2298.89</td>\n",
       "      <td>conventional</td>\n",
       "      <td>2018</td>\n",
       "      <td>NewYork</td>\n",
       "    </tr>\n",
       "    <tr>\n",
       "      <th>8818</th>\n",
       "      <td>4</td>\n",
       "      <td>2018-02-25</td>\n",
       "      <td>1.30</td>\n",
       "      <td>1615325.14</td>\n",
       "      <td>76602.52</td>\n",
       "      <td>841320.18</td>\n",
       "      <td>852.11</td>\n",
       "      <td>696550.33</td>\n",
       "      <td>632625.27</td>\n",
       "      <td>61658.39</td>\n",
       "      <td>2266.67</td>\n",
       "      <td>conventional</td>\n",
       "      <td>2018</td>\n",
       "      <td>NewYork</td>\n",
       "    </tr>\n",
       "    <tr>\n",
       "      <th>8819</th>\n",
       "      <td>5</td>\n",
       "      <td>2018-02-18</td>\n",
       "      <td>1.24</td>\n",
       "      <td>1413687.38</td>\n",
       "      <td>87283.86</td>\n",
       "      <td>909950.56</td>\n",
       "      <td>885.94</td>\n",
       "      <td>415567.02</td>\n",
       "      <td>392965.43</td>\n",
       "      <td>20809.09</td>\n",
       "      <td>1792.50</td>\n",
       "      <td>conventional</td>\n",
       "      <td>2018</td>\n",
       "      <td>NewYork</td>\n",
       "    </tr>\n",
       "    <tr>\n",
       "      <th>8820</th>\n",
       "      <td>6</td>\n",
       "      <td>2018-02-11</td>\n",
       "      <td>1.27</td>\n",
       "      <td>2051389.99</td>\n",
       "      <td>169218.18</td>\n",
       "      <td>1319012.42</td>\n",
       "      <td>1222.29</td>\n",
       "      <td>561937.10</td>\n",
       "      <td>539237.71</td>\n",
       "      <td>21409.81</td>\n",
       "      <td>1289.58</td>\n",
       "      <td>conventional</td>\n",
       "      <td>2018</td>\n",
       "      <td>NewYork</td>\n",
       "    </tr>\n",
       "    <tr>\n",
       "      <th>8821</th>\n",
       "      <td>7</td>\n",
       "      <td>2018-02-04</td>\n",
       "      <td>1.28</td>\n",
       "      <td>2959541.38</td>\n",
       "      <td>96084.63</td>\n",
       "      <td>2250967.25</td>\n",
       "      <td>3253.28</td>\n",
       "      <td>609236.22</td>\n",
       "      <td>569361.35</td>\n",
       "      <td>38734.78</td>\n",
       "      <td>1140.09</td>\n",
       "      <td>conventional</td>\n",
       "      <td>2018</td>\n",
       "      <td>NewYork</td>\n",
       "    </tr>\n",
       "    <tr>\n",
       "      <th>8822</th>\n",
       "      <td>8</td>\n",
       "      <td>2018-01-28</td>\n",
       "      <td>1.20</td>\n",
       "      <td>2278728.69</td>\n",
       "      <td>82652.82</td>\n",
       "      <td>1501055.47</td>\n",
       "      <td>745.50</td>\n",
       "      <td>694274.90</td>\n",
       "      <td>675215.26</td>\n",
       "      <td>18491.86</td>\n",
       "      <td>567.78</td>\n",
       "      <td>conventional</td>\n",
       "      <td>2018</td>\n",
       "      <td>NewYork</td>\n",
       "    </tr>\n",
       "    <tr>\n",
       "      <th>8823</th>\n",
       "      <td>9</td>\n",
       "      <td>2018-01-21</td>\n",
       "      <td>1.27</td>\n",
       "      <td>2135242.76</td>\n",
       "      <td>46444.43</td>\n",
       "      <td>1642533.16</td>\n",
       "      <td>1165.10</td>\n",
       "      <td>445100.07</td>\n",
       "      <td>423570.05</td>\n",
       "      <td>21523.99</td>\n",
       "      <td>6.03</td>\n",
       "      <td>conventional</td>\n",
       "      <td>2018</td>\n",
       "      <td>NewYork</td>\n",
       "    </tr>\n",
       "    <tr>\n",
       "      <th>8824</th>\n",
       "      <td>10</td>\n",
       "      <td>2018-01-14</td>\n",
       "      <td>1.67</td>\n",
       "      <td>1294149.71</td>\n",
       "      <td>39681.84</td>\n",
       "      <td>818051.50</td>\n",
       "      <td>1338.06</td>\n",
       "      <td>435078.31</td>\n",
       "      <td>415694.04</td>\n",
       "      <td>19384.27</td>\n",
       "      <td>0.00</td>\n",
       "      <td>conventional</td>\n",
       "      <td>2018</td>\n",
       "      <td>NewYork</td>\n",
       "    </tr>\n",
       "    <tr>\n",
       "      <th>8825</th>\n",
       "      <td>11</td>\n",
       "      <td>2018-01-07</td>\n",
       "      <td>1.67</td>\n",
       "      <td>1287480.31</td>\n",
       "      <td>39884.07</td>\n",
       "      <td>866953.05</td>\n",
       "      <td>573.69</td>\n",
       "      <td>380069.50</td>\n",
       "      <td>348249.49</td>\n",
       "      <td>31820.01</td>\n",
       "      <td>0.00</td>\n",
       "      <td>conventional</td>\n",
       "      <td>2018</td>\n",
       "      <td>NewYork</td>\n",
       "    </tr>\n",
       "    <tr>\n",
       "      <th>17937</th>\n",
       "      <td>0</td>\n",
       "      <td>2018-03-25</td>\n",
       "      <td>1.86</td>\n",
       "      <td>118503.55</td>\n",
       "      <td>12695.30</td>\n",
       "      <td>35094.50</td>\n",
       "      <td>205.59</td>\n",
       "      <td>70508.16</td>\n",
       "      <td>70377.52</td>\n",
       "      <td>130.64</td>\n",
       "      <td>0.00</td>\n",
       "      <td>organic</td>\n",
       "      <td>2018</td>\n",
       "      <td>NewYork</td>\n",
       "    </tr>\n",
       "    <tr>\n",
       "      <th>17938</th>\n",
       "      <td>1</td>\n",
       "      <td>2018-03-18</td>\n",
       "      <td>1.70</td>\n",
       "      <td>189434.04</td>\n",
       "      <td>44234.93</td>\n",
       "      <td>80052.02</td>\n",
       "      <td>53.56</td>\n",
       "      <td>65093.53</td>\n",
       "      <td>64851.08</td>\n",
       "      <td>242.45</td>\n",
       "      <td>0.00</td>\n",
       "      <td>organic</td>\n",
       "      <td>2018</td>\n",
       "      <td>NewYork</td>\n",
       "    </tr>\n",
       "    <tr>\n",
       "      <th>17939</th>\n",
       "      <td>2</td>\n",
       "      <td>2018-03-11</td>\n",
       "      <td>1.92</td>\n",
       "      <td>108114.03</td>\n",
       "      <td>10655.17</td>\n",
       "      <td>33419.62</td>\n",
       "      <td>144.52</td>\n",
       "      <td>63894.72</td>\n",
       "      <td>63842.58</td>\n",
       "      <td>52.14</td>\n",
       "      <td>0.00</td>\n",
       "      <td>organic</td>\n",
       "      <td>2018</td>\n",
       "      <td>NewYork</td>\n",
       "    </tr>\n",
       "    <tr>\n",
       "      <th>17940</th>\n",
       "      <td>3</td>\n",
       "      <td>2018-03-04</td>\n",
       "      <td>1.69</td>\n",
       "      <td>133768.12</td>\n",
       "      <td>20987.96</td>\n",
       "      <td>52637.04</td>\n",
       "      <td>92.18</td>\n",
       "      <td>60050.94</td>\n",
       "      <td>59997.60</td>\n",
       "      <td>53.34</td>\n",
       "      <td>0.00</td>\n",
       "      <td>organic</td>\n",
       "      <td>2018</td>\n",
       "      <td>NewYork</td>\n",
       "    </tr>\n",
       "    <tr>\n",
       "      <th>17941</th>\n",
       "      <td>4</td>\n",
       "      <td>2018-02-25</td>\n",
       "      <td>1.72</td>\n",
       "      <td>112128.84</td>\n",
       "      <td>12369.59</td>\n",
       "      <td>43197.79</td>\n",
       "      <td>217.92</td>\n",
       "      <td>56343.54</td>\n",
       "      <td>56343.54</td>\n",
       "      <td>0.00</td>\n",
       "      <td>0.00</td>\n",
       "      <td>organic</td>\n",
       "      <td>2018</td>\n",
       "      <td>NewYork</td>\n",
       "    </tr>\n",
       "    <tr>\n",
       "      <th>17942</th>\n",
       "      <td>5</td>\n",
       "      <td>2018-02-18</td>\n",
       "      <td>1.36</td>\n",
       "      <td>495083.69</td>\n",
       "      <td>107369.04</td>\n",
       "      <td>329956.50</td>\n",
       "      <td>956.38</td>\n",
       "      <td>56801.77</td>\n",
       "      <td>55583.56</td>\n",
       "      <td>1218.21</td>\n",
       "      <td>0.00</td>\n",
       "      <td>organic</td>\n",
       "      <td>2018</td>\n",
       "      <td>NewYork</td>\n",
       "    </tr>\n",
       "    <tr>\n",
       "      <th>17943</th>\n",
       "      <td>6</td>\n",
       "      <td>2018-02-11</td>\n",
       "      <td>1.92</td>\n",
       "      <td>79877.83</td>\n",
       "      <td>6604.28</td>\n",
       "      <td>15647.94</td>\n",
       "      <td>863.92</td>\n",
       "      <td>56761.69</td>\n",
       "      <td>55116.51</td>\n",
       "      <td>1645.18</td>\n",
       "      <td>0.00</td>\n",
       "      <td>organic</td>\n",
       "      <td>2018</td>\n",
       "      <td>NewYork</td>\n",
       "    </tr>\n",
       "    <tr>\n",
       "      <th>17944</th>\n",
       "      <td>7</td>\n",
       "      <td>2018-02-04</td>\n",
       "      <td>1.83</td>\n",
       "      <td>93204.08</td>\n",
       "      <td>9300.64</td>\n",
       "      <td>21428.22</td>\n",
       "      <td>814.47</td>\n",
       "      <td>61660.75</td>\n",
       "      <td>61516.19</td>\n",
       "      <td>144.56</td>\n",
       "      <td>0.00</td>\n",
       "      <td>organic</td>\n",
       "      <td>2018</td>\n",
       "      <td>NewYork</td>\n",
       "    </tr>\n",
       "    <tr>\n",
       "      <th>17945</th>\n",
       "      <td>8</td>\n",
       "      <td>2018-01-28</td>\n",
       "      <td>1.75</td>\n",
       "      <td>96380.28</td>\n",
       "      <td>13196.30</td>\n",
       "      <td>24933.01</td>\n",
       "      <td>128.24</td>\n",
       "      <td>58122.73</td>\n",
       "      <td>56090.23</td>\n",
       "      <td>2032.50</td>\n",
       "      <td>0.00</td>\n",
       "      <td>organic</td>\n",
       "      <td>2018</td>\n",
       "      <td>NewYork</td>\n",
       "    </tr>\n",
       "    <tr>\n",
       "      <th>17946</th>\n",
       "      <td>9</td>\n",
       "      <td>2018-01-21</td>\n",
       "      <td>1.91</td>\n",
       "      <td>71760.69</td>\n",
       "      <td>5732.09</td>\n",
       "      <td>13124.59</td>\n",
       "      <td>157.72</td>\n",
       "      <td>52746.29</td>\n",
       "      <td>52130.98</td>\n",
       "      <td>615.31</td>\n",
       "      <td>0.00</td>\n",
       "      <td>organic</td>\n",
       "      <td>2018</td>\n",
       "      <td>NewYork</td>\n",
       "    </tr>\n",
       "    <tr>\n",
       "      <th>17947</th>\n",
       "      <td>10</td>\n",
       "      <td>2018-01-14</td>\n",
       "      <td>1.91</td>\n",
       "      <td>86632.25</td>\n",
       "      <td>7433.43</td>\n",
       "      <td>17885.26</td>\n",
       "      <td>49.43</td>\n",
       "      <td>61264.13</td>\n",
       "      <td>60763.71</td>\n",
       "      <td>500.42</td>\n",
       "      <td>0.00</td>\n",
       "      <td>organic</td>\n",
       "      <td>2018</td>\n",
       "      <td>NewYork</td>\n",
       "    </tr>\n",
       "    <tr>\n",
       "      <th>17948</th>\n",
       "      <td>11</td>\n",
       "      <td>2018-01-07</td>\n",
       "      <td>1.97</td>\n",
       "      <td>82637.97</td>\n",
       "      <td>6158.73</td>\n",
       "      <td>19251.81</td>\n",
       "      <td>47.04</td>\n",
       "      <td>57180.39</td>\n",
       "      <td>57180.39</td>\n",
       "      <td>0.00</td>\n",
       "      <td>0.00</td>\n",
       "      <td>organic</td>\n",
       "      <td>2018</td>\n",
       "      <td>NewYork</td>\n",
       "    </tr>\n",
       "  </tbody>\n",
       "</table>\n",
       "</div>\n",
       "      <button class=\"colab-df-convert\" onclick=\"convertToInteractive('df-e4a591f5-ab22-4515-8441-11543c655e1c')\"\n",
       "              title=\"Convert this dataframe to an interactive table.\"\n",
       "              style=\"display:none;\">\n",
       "        \n",
       "  <svg xmlns=\"http://www.w3.org/2000/svg\" height=\"24px\"viewBox=\"0 0 24 24\"\n",
       "       width=\"24px\">\n",
       "    <path d=\"M0 0h24v24H0V0z\" fill=\"none\"/>\n",
       "    <path d=\"M18.56 5.44l.94 2.06.94-2.06 2.06-.94-2.06-.94-.94-2.06-.94 2.06-2.06.94zm-11 1L8.5 8.5l.94-2.06 2.06-.94-2.06-.94L8.5 2.5l-.94 2.06-2.06.94zm10 10l.94 2.06.94-2.06 2.06-.94-2.06-.94-.94-2.06-.94 2.06-2.06.94z\"/><path d=\"M17.41 7.96l-1.37-1.37c-.4-.4-.92-.59-1.43-.59-.52 0-1.04.2-1.43.59L10.3 9.45l-7.72 7.72c-.78.78-.78 2.05 0 2.83L4 21.41c.39.39.9.59 1.41.59.51 0 1.02-.2 1.41-.59l7.78-7.78 2.81-2.81c.8-.78.8-2.07 0-2.86zM5.41 20L4 18.59l7.72-7.72 1.47 1.35L5.41 20z\"/>\n",
       "  </svg>\n",
       "      </button>\n",
       "      \n",
       "  <style>\n",
       "    .colab-df-container {\n",
       "      display:flex;\n",
       "      flex-wrap:wrap;\n",
       "      gap: 12px;\n",
       "    }\n",
       "\n",
       "    .colab-df-convert {\n",
       "      background-color: #E8F0FE;\n",
       "      border: none;\n",
       "      border-radius: 50%;\n",
       "      cursor: pointer;\n",
       "      display: none;\n",
       "      fill: #1967D2;\n",
       "      height: 32px;\n",
       "      padding: 0 0 0 0;\n",
       "      width: 32px;\n",
       "    }\n",
       "\n",
       "    .colab-df-convert:hover {\n",
       "      background-color: #E2EBFA;\n",
       "      box-shadow: 0px 1px 2px rgba(60, 64, 67, 0.3), 0px 1px 3px 1px rgba(60, 64, 67, 0.15);\n",
       "      fill: #174EA6;\n",
       "    }\n",
       "\n",
       "    [theme=dark] .colab-df-convert {\n",
       "      background-color: #3B4455;\n",
       "      fill: #D2E3FC;\n",
       "    }\n",
       "\n",
       "    [theme=dark] .colab-df-convert:hover {\n",
       "      background-color: #434B5C;\n",
       "      box-shadow: 0px 1px 3px 1px rgba(0, 0, 0, 0.15);\n",
       "      filter: drop-shadow(0px 1px 2px rgba(0, 0, 0, 0.3));\n",
       "      fill: #FFFFFF;\n",
       "    }\n",
       "  </style>\n",
       "\n",
       "      <script>\n",
       "        const buttonEl =\n",
       "          document.querySelector('#df-e4a591f5-ab22-4515-8441-11543c655e1c button.colab-df-convert');\n",
       "        buttonEl.style.display =\n",
       "          google.colab.kernel.accessAllowed ? 'block' : 'none';\n",
       "\n",
       "        async function convertToInteractive(key) {\n",
       "          const element = document.querySelector('#df-e4a591f5-ab22-4515-8441-11543c655e1c');\n",
       "          const dataTable =\n",
       "            await google.colab.kernel.invokeFunction('convertToInteractive',\n",
       "                                                     [key], {});\n",
       "          if (!dataTable) return;\n",
       "\n",
       "          const docLinkHtml = 'Like what you see? Visit the ' +\n",
       "            '<a target=\"_blank\" href=https://colab.research.google.com/notebooks/data_table.ipynb>data table notebook</a>'\n",
       "            + ' to learn more about interactive tables.';\n",
       "          element.innerHTML = '';\n",
       "          dataTable['output_type'] = 'display_data';\n",
       "          await google.colab.output.renderOutput(dataTable, element);\n",
       "          const docLink = document.createElement('div');\n",
       "          docLink.innerHTML = docLinkHtml;\n",
       "          element.appendChild(docLink);\n",
       "        }\n",
       "      </script>\n",
       "    </div>\n",
       "  </div>\n",
       "  "
      ],
      "text/plain": [
       "       Unnamed: 0        Date  AveragePrice  Total Volume       4046  \\\n",
       "8814            0  2018-03-25          1.34    1774776.77   63905.98   \n",
       "8815            1  2018-03-18          1.43    1564859.63   73760.49   \n",
       "8816            2  2018-03-11          1.35    1755052.38   64008.06   \n",
       "8817            3  2018-03-04          1.23    1931495.66   62328.70   \n",
       "8818            4  2018-02-25          1.30    1615325.14   76602.52   \n",
       "8819            5  2018-02-18          1.24    1413687.38   87283.86   \n",
       "8820            6  2018-02-11          1.27    2051389.99  169218.18   \n",
       "8821            7  2018-02-04          1.28    2959541.38   96084.63   \n",
       "8822            8  2018-01-28          1.20    2278728.69   82652.82   \n",
       "8823            9  2018-01-21          1.27    2135242.76   46444.43   \n",
       "8824           10  2018-01-14          1.67    1294149.71   39681.84   \n",
       "8825           11  2018-01-07          1.67    1287480.31   39884.07   \n",
       "17937           0  2018-03-25          1.86     118503.55   12695.30   \n",
       "17938           1  2018-03-18          1.70     189434.04   44234.93   \n",
       "17939           2  2018-03-11          1.92     108114.03   10655.17   \n",
       "17940           3  2018-03-04          1.69     133768.12   20987.96   \n",
       "17941           4  2018-02-25          1.72     112128.84   12369.59   \n",
       "17942           5  2018-02-18          1.36     495083.69  107369.04   \n",
       "17943           6  2018-02-11          1.92      79877.83    6604.28   \n",
       "17944           7  2018-02-04          1.83      93204.08    9300.64   \n",
       "17945           8  2018-01-28          1.75      96380.28   13196.30   \n",
       "17946           9  2018-01-21          1.91      71760.69    5732.09   \n",
       "17947          10  2018-01-14          1.91      86632.25    7433.43   \n",
       "17948          11  2018-01-07          1.97      82637.97    6158.73   \n",
       "\n",
       "             4225     4770  Total Bags  Small Bags  Large Bags  XLarge Bags  \\\n",
       "8814    908653.71   843.45   801373.63   774634.09    23833.93      2905.61   \n",
       "8815    911098.28   612.78   579388.08   552433.16    24302.69      2652.23   \n",
       "8816    883441.96   828.96   806773.40   730150.78    74224.85      2397.77   \n",
       "8817   1324579.73   754.74   543832.49   511679.31    29854.29      2298.89   \n",
       "8818    841320.18   852.11   696550.33   632625.27    61658.39      2266.67   \n",
       "8819    909950.56   885.94   415567.02   392965.43    20809.09      1792.50   \n",
       "8820   1319012.42  1222.29   561937.10   539237.71    21409.81      1289.58   \n",
       "8821   2250967.25  3253.28   609236.22   569361.35    38734.78      1140.09   \n",
       "8822   1501055.47   745.50   694274.90   675215.26    18491.86       567.78   \n",
       "8823   1642533.16  1165.10   445100.07   423570.05    21523.99         6.03   \n",
       "8824    818051.50  1338.06   435078.31   415694.04    19384.27         0.00   \n",
       "8825    866953.05   573.69   380069.50   348249.49    31820.01         0.00   \n",
       "17937    35094.50   205.59    70508.16    70377.52      130.64         0.00   \n",
       "17938    80052.02    53.56    65093.53    64851.08      242.45         0.00   \n",
       "17939    33419.62   144.52    63894.72    63842.58       52.14         0.00   \n",
       "17940    52637.04    92.18    60050.94    59997.60       53.34         0.00   \n",
       "17941    43197.79   217.92    56343.54    56343.54        0.00         0.00   \n",
       "17942   329956.50   956.38    56801.77    55583.56     1218.21         0.00   \n",
       "17943    15647.94   863.92    56761.69    55116.51     1645.18         0.00   \n",
       "17944    21428.22   814.47    61660.75    61516.19      144.56         0.00   \n",
       "17945    24933.01   128.24    58122.73    56090.23     2032.50         0.00   \n",
       "17946    13124.59   157.72    52746.29    52130.98      615.31         0.00   \n",
       "17947    17885.26    49.43    61264.13    60763.71      500.42         0.00   \n",
       "17948    19251.81    47.04    57180.39    57180.39        0.00         0.00   \n",
       "\n",
       "               type  year   region  \n",
       "8814   conventional  2018  NewYork  \n",
       "8815   conventional  2018  NewYork  \n",
       "8816   conventional  2018  NewYork  \n",
       "8817   conventional  2018  NewYork  \n",
       "8818   conventional  2018  NewYork  \n",
       "8819   conventional  2018  NewYork  \n",
       "8820   conventional  2018  NewYork  \n",
       "8821   conventional  2018  NewYork  \n",
       "8822   conventional  2018  NewYork  \n",
       "8823   conventional  2018  NewYork  \n",
       "8824   conventional  2018  NewYork  \n",
       "8825   conventional  2018  NewYork  \n",
       "17937       organic  2018  NewYork  \n",
       "17938       organic  2018  NewYork  \n",
       "17939       organic  2018  NewYork  \n",
       "17940       organic  2018  NewYork  \n",
       "17941       organic  2018  NewYork  \n",
       "17942       organic  2018  NewYork  \n",
       "17943       organic  2018  NewYork  \n",
       "17944       organic  2018  NewYork  \n",
       "17945       organic  2018  NewYork  \n",
       "17946       organic  2018  NewYork  \n",
       "17947       organic  2018  NewYork  \n",
       "17948       organic  2018  NewYork  "
      ]
     },
     "execution_count": 20,
     "metadata": {},
     "output_type": "execute_result"
    }
   ],
   "source": [
    "NY_test = datas.query('region == \"NewYork\"')\n",
    "NY_test = NY_test.query('year == 2018')\n",
    "NY_test"
   ]
  },
  {
   "cell_type": "code",
   "execution_count": null,
   "metadata": {
    "colab": {
     "base_uri": "https://localhost:8080/",
     "height": 426
    },
    "executionInfo": {
     "elapsed": 7,
     "status": "ok",
     "timestamp": 1652163339536,
     "user": {
      "displayName": "Son Luc Cam",
      "userId": "01778600856537737107"
     },
     "user_tz": -420
    },
    "id": "Q1JQG1FcFvHT",
    "outputId": "8250a81d-a8fa-4fc9-a85f-8d242e69877a"
   },
   "outputs": [
    {
     "data": {
      "text/html": [
       "\n",
       "  <div id=\"df-546c584d-47da-4bbc-9bb0-6c9fd4a43107\">\n",
       "    <div class=\"colab-df-container\">\n",
       "      <div>\n",
       "<style scoped>\n",
       "    .dataframe tbody tr th:only-of-type {\n",
       "        vertical-align: middle;\n",
       "    }\n",
       "\n",
       "    .dataframe tbody tr th {\n",
       "        vertical-align: top;\n",
       "    }\n",
       "\n",
       "    .dataframe thead th {\n",
       "        text-align: right;\n",
       "    }\n",
       "</style>\n",
       "<table border=\"1\" class=\"dataframe\">\n",
       "  <thead>\n",
       "    <tr style=\"text-align: right;\">\n",
       "      <th></th>\n",
       "      <th>ds</th>\n",
       "      <th>yhat</th>\n",
       "    </tr>\n",
       "  </thead>\n",
       "  <tbody>\n",
       "    <tr>\n",
       "      <th>157</th>\n",
       "      <td>2018-01-07</td>\n",
       "      <td>1.55</td>\n",
       "    </tr>\n",
       "    <tr>\n",
       "      <th>158</th>\n",
       "      <td>2018-01-14</td>\n",
       "      <td>1.63</td>\n",
       "    </tr>\n",
       "    <tr>\n",
       "      <th>159</th>\n",
       "      <td>2018-01-21</td>\n",
       "      <td>1.66</td>\n",
       "    </tr>\n",
       "    <tr>\n",
       "      <th>160</th>\n",
       "      <td>2018-01-28</td>\n",
       "      <td>1.62</td>\n",
       "    </tr>\n",
       "    <tr>\n",
       "      <th>161</th>\n",
       "      <td>2018-02-04</td>\n",
       "      <td>1.55</td>\n",
       "    </tr>\n",
       "    <tr>\n",
       "      <th>162</th>\n",
       "      <td>2018-02-11</td>\n",
       "      <td>1.51</td>\n",
       "    </tr>\n",
       "    <tr>\n",
       "      <th>163</th>\n",
       "      <td>2018-02-18</td>\n",
       "      <td>1.55</td>\n",
       "    </tr>\n",
       "    <tr>\n",
       "      <th>164</th>\n",
       "      <td>2018-02-25</td>\n",
       "      <td>1.63</td>\n",
       "    </tr>\n",
       "    <tr>\n",
       "      <th>165</th>\n",
       "      <td>2018-03-04</td>\n",
       "      <td>1.70</td>\n",
       "    </tr>\n",
       "    <tr>\n",
       "      <th>166</th>\n",
       "      <td>2018-03-11</td>\n",
       "      <td>1.74</td>\n",
       "    </tr>\n",
       "    <tr>\n",
       "      <th>167</th>\n",
       "      <td>2018-03-18</td>\n",
       "      <td>1.76</td>\n",
       "    </tr>\n",
       "    <tr>\n",
       "      <th>168</th>\n",
       "      <td>2018-03-25</td>\n",
       "      <td>1.78</td>\n",
       "    </tr>\n",
       "  </tbody>\n",
       "</table>\n",
       "</div>\n",
       "      <button class=\"colab-df-convert\" onclick=\"convertToInteractive('df-546c584d-47da-4bbc-9bb0-6c9fd4a43107')\"\n",
       "              title=\"Convert this dataframe to an interactive table.\"\n",
       "              style=\"display:none;\">\n",
       "        \n",
       "  <svg xmlns=\"http://www.w3.org/2000/svg\" height=\"24px\"viewBox=\"0 0 24 24\"\n",
       "       width=\"24px\">\n",
       "    <path d=\"M0 0h24v24H0V0z\" fill=\"none\"/>\n",
       "    <path d=\"M18.56 5.44l.94 2.06.94-2.06 2.06-.94-2.06-.94-.94-2.06-.94 2.06-2.06.94zm-11 1L8.5 8.5l.94-2.06 2.06-.94-2.06-.94L8.5 2.5l-.94 2.06-2.06.94zm10 10l.94 2.06.94-2.06 2.06-.94-2.06-.94-.94-2.06-.94 2.06-2.06.94z\"/><path d=\"M17.41 7.96l-1.37-1.37c-.4-.4-.92-.59-1.43-.59-.52 0-1.04.2-1.43.59L10.3 9.45l-7.72 7.72c-.78.78-.78 2.05 0 2.83L4 21.41c.39.39.9.59 1.41.59.51 0 1.02-.2 1.41-.59l7.78-7.78 2.81-2.81c.8-.78.8-2.07 0-2.86zM5.41 20L4 18.59l7.72-7.72 1.47 1.35L5.41 20z\"/>\n",
       "  </svg>\n",
       "      </button>\n",
       "      \n",
       "  <style>\n",
       "    .colab-df-container {\n",
       "      display:flex;\n",
       "      flex-wrap:wrap;\n",
       "      gap: 12px;\n",
       "    }\n",
       "\n",
       "    .colab-df-convert {\n",
       "      background-color: #E8F0FE;\n",
       "      border: none;\n",
       "      border-radius: 50%;\n",
       "      cursor: pointer;\n",
       "      display: none;\n",
       "      fill: #1967D2;\n",
       "      height: 32px;\n",
       "      padding: 0 0 0 0;\n",
       "      width: 32px;\n",
       "    }\n",
       "\n",
       "    .colab-df-convert:hover {\n",
       "      background-color: #E2EBFA;\n",
       "      box-shadow: 0px 1px 2px rgba(60, 64, 67, 0.3), 0px 1px 3px 1px rgba(60, 64, 67, 0.15);\n",
       "      fill: #174EA6;\n",
       "    }\n",
       "\n",
       "    [theme=dark] .colab-df-convert {\n",
       "      background-color: #3B4455;\n",
       "      fill: #D2E3FC;\n",
       "    }\n",
       "\n",
       "    [theme=dark] .colab-df-convert:hover {\n",
       "      background-color: #434B5C;\n",
       "      box-shadow: 0px 1px 3px 1px rgba(0, 0, 0, 0.15);\n",
       "      filter: drop-shadow(0px 1px 2px rgba(0, 0, 0, 0.3));\n",
       "      fill: #FFFFFF;\n",
       "    }\n",
       "  </style>\n",
       "\n",
       "      <script>\n",
       "        const buttonEl =\n",
       "          document.querySelector('#df-546c584d-47da-4bbc-9bb0-6c9fd4a43107 button.colab-df-convert');\n",
       "        buttonEl.style.display =\n",
       "          google.colab.kernel.accessAllowed ? 'block' : 'none';\n",
       "\n",
       "        async function convertToInteractive(key) {\n",
       "          const element = document.querySelector('#df-546c584d-47da-4bbc-9bb0-6c9fd4a43107');\n",
       "          const dataTable =\n",
       "            await google.colab.kernel.invokeFunction('convertToInteractive',\n",
       "                                                     [key], {});\n",
       "          if (!dataTable) return;\n",
       "\n",
       "          const docLinkHtml = 'Like what you see? Visit the ' +\n",
       "            '<a target=\"_blank\" href=https://colab.research.google.com/notebooks/data_table.ipynb>data table notebook</a>'\n",
       "            + ' to learn more about interactive tables.';\n",
       "          element.innerHTML = '';\n",
       "          dataTable['output_type'] = 'display_data';\n",
       "          await google.colab.output.renderOutput(dataTable, element);\n",
       "          const docLink = document.createElement('div');\n",
       "          docLink.innerHTML = docLinkHtml;\n",
       "          element.appendChild(docLink);\n",
       "        }\n",
       "      </script>\n",
       "    </div>\n",
       "  </div>\n",
       "  "
      ],
      "text/plain": [
       "            ds  yhat\n",
       "157 2018-01-07  1.55\n",
       "158 2018-01-14  1.63\n",
       "159 2018-01-21  1.66\n",
       "160 2018-01-28  1.62\n",
       "161 2018-02-04  1.55\n",
       "162 2018-02-11  1.51\n",
       "163 2018-02-18  1.55\n",
       "164 2018-02-25  1.63\n",
       "165 2018-03-04  1.70\n",
       "166 2018-03-11  1.74\n",
       "167 2018-03-18  1.76\n",
       "168 2018-03-25  1.78"
      ]
     },
     "execution_count": 21,
     "metadata": {},
     "output_type": "execute_result"
    }
   ],
   "source": [
    "test_yhat_con_price = forecast_con_price[['ds', 'yhat']]\n",
    "test_yhat_con_price = test_yhat_con_price.query('\"2018-01-07\" <= ds <= \"2018-03-25\"')\n",
    "pd.options.display.float_format = \"{:,.2f}\".format\n",
    "test_yhat_con_price"
   ]
  },
  {
   "cell_type": "code",
   "execution_count": null,
   "metadata": {
    "colab": {
     "base_uri": "https://localhost:8080/",
     "height": 426
    },
    "executionInfo": {
     "elapsed": 7,
     "status": "ok",
     "timestamp": 1652163340955,
     "user": {
      "displayName": "Son Luc Cam",
      "userId": "01778600856537737107"
     },
     "user_tz": -420
    },
    "id": "VDo2Coj9ME7p",
    "outputId": "7d0fd23a-ffc6-41d7-8e58-94e4213be780"
   },
   "outputs": [
    {
     "data": {
      "text/html": [
       "\n",
       "  <div id=\"df-dd30250b-a01b-4d1b-a76e-d882ea36011e\">\n",
       "    <div class=\"colab-df-container\">\n",
       "      <div>\n",
       "<style scoped>\n",
       "    .dataframe tbody tr th:only-of-type {\n",
       "        vertical-align: middle;\n",
       "    }\n",
       "\n",
       "    .dataframe tbody tr th {\n",
       "        vertical-align: top;\n",
       "    }\n",
       "\n",
       "    .dataframe thead th {\n",
       "        text-align: right;\n",
       "    }\n",
       "</style>\n",
       "<table border=\"1\" class=\"dataframe\">\n",
       "  <thead>\n",
       "    <tr style=\"text-align: right;\">\n",
       "      <th></th>\n",
       "      <th>yhat</th>\n",
       "    </tr>\n",
       "  </thead>\n",
       "  <tbody>\n",
       "    <tr>\n",
       "      <th>157</th>\n",
       "      <td>1.55</td>\n",
       "    </tr>\n",
       "    <tr>\n",
       "      <th>158</th>\n",
       "      <td>1.63</td>\n",
       "    </tr>\n",
       "    <tr>\n",
       "      <th>159</th>\n",
       "      <td>1.66</td>\n",
       "    </tr>\n",
       "    <tr>\n",
       "      <th>160</th>\n",
       "      <td>1.62</td>\n",
       "    </tr>\n",
       "    <tr>\n",
       "      <th>161</th>\n",
       "      <td>1.55</td>\n",
       "    </tr>\n",
       "    <tr>\n",
       "      <th>162</th>\n",
       "      <td>1.51</td>\n",
       "    </tr>\n",
       "    <tr>\n",
       "      <th>163</th>\n",
       "      <td>1.55</td>\n",
       "    </tr>\n",
       "    <tr>\n",
       "      <th>164</th>\n",
       "      <td>1.63</td>\n",
       "    </tr>\n",
       "    <tr>\n",
       "      <th>165</th>\n",
       "      <td>1.70</td>\n",
       "    </tr>\n",
       "    <tr>\n",
       "      <th>166</th>\n",
       "      <td>1.74</td>\n",
       "    </tr>\n",
       "    <tr>\n",
       "      <th>167</th>\n",
       "      <td>1.76</td>\n",
       "    </tr>\n",
       "    <tr>\n",
       "      <th>168</th>\n",
       "      <td>1.78</td>\n",
       "    </tr>\n",
       "  </tbody>\n",
       "</table>\n",
       "</div>\n",
       "      <button class=\"colab-df-convert\" onclick=\"convertToInteractive('df-dd30250b-a01b-4d1b-a76e-d882ea36011e')\"\n",
       "              title=\"Convert this dataframe to an interactive table.\"\n",
       "              style=\"display:none;\">\n",
       "        \n",
       "  <svg xmlns=\"http://www.w3.org/2000/svg\" height=\"24px\"viewBox=\"0 0 24 24\"\n",
       "       width=\"24px\">\n",
       "    <path d=\"M0 0h24v24H0V0z\" fill=\"none\"/>\n",
       "    <path d=\"M18.56 5.44l.94 2.06.94-2.06 2.06-.94-2.06-.94-.94-2.06-.94 2.06-2.06.94zm-11 1L8.5 8.5l.94-2.06 2.06-.94-2.06-.94L8.5 2.5l-.94 2.06-2.06.94zm10 10l.94 2.06.94-2.06 2.06-.94-2.06-.94-.94-2.06-.94 2.06-2.06.94z\"/><path d=\"M17.41 7.96l-1.37-1.37c-.4-.4-.92-.59-1.43-.59-.52 0-1.04.2-1.43.59L10.3 9.45l-7.72 7.72c-.78.78-.78 2.05 0 2.83L4 21.41c.39.39.9.59 1.41.59.51 0 1.02-.2 1.41-.59l7.78-7.78 2.81-2.81c.8-.78.8-2.07 0-2.86zM5.41 20L4 18.59l7.72-7.72 1.47 1.35L5.41 20z\"/>\n",
       "  </svg>\n",
       "      </button>\n",
       "      \n",
       "  <style>\n",
       "    .colab-df-container {\n",
       "      display:flex;\n",
       "      flex-wrap:wrap;\n",
       "      gap: 12px;\n",
       "    }\n",
       "\n",
       "    .colab-df-convert {\n",
       "      background-color: #E8F0FE;\n",
       "      border: none;\n",
       "      border-radius: 50%;\n",
       "      cursor: pointer;\n",
       "      display: none;\n",
       "      fill: #1967D2;\n",
       "      height: 32px;\n",
       "      padding: 0 0 0 0;\n",
       "      width: 32px;\n",
       "    }\n",
       "\n",
       "    .colab-df-convert:hover {\n",
       "      background-color: #E2EBFA;\n",
       "      box-shadow: 0px 1px 2px rgba(60, 64, 67, 0.3), 0px 1px 3px 1px rgba(60, 64, 67, 0.15);\n",
       "      fill: #174EA6;\n",
       "    }\n",
       "\n",
       "    [theme=dark] .colab-df-convert {\n",
       "      background-color: #3B4455;\n",
       "      fill: #D2E3FC;\n",
       "    }\n",
       "\n",
       "    [theme=dark] .colab-df-convert:hover {\n",
       "      background-color: #434B5C;\n",
       "      box-shadow: 0px 1px 3px 1px rgba(0, 0, 0, 0.15);\n",
       "      filter: drop-shadow(0px 1px 2px rgba(0, 0, 0, 0.3));\n",
       "      fill: #FFFFFF;\n",
       "    }\n",
       "  </style>\n",
       "\n",
       "      <script>\n",
       "        const buttonEl =\n",
       "          document.querySelector('#df-dd30250b-a01b-4d1b-a76e-d882ea36011e button.colab-df-convert');\n",
       "        buttonEl.style.display =\n",
       "          google.colab.kernel.accessAllowed ? 'block' : 'none';\n",
       "\n",
       "        async function convertToInteractive(key) {\n",
       "          const element = document.querySelector('#df-dd30250b-a01b-4d1b-a76e-d882ea36011e');\n",
       "          const dataTable =\n",
       "            await google.colab.kernel.invokeFunction('convertToInteractive',\n",
       "                                                     [key], {});\n",
       "          if (!dataTable) return;\n",
       "\n",
       "          const docLinkHtml = 'Like what you see? Visit the ' +\n",
       "            '<a target=\"_blank\" href=https://colab.research.google.com/notebooks/data_table.ipynb>data table notebook</a>'\n",
       "            + ' to learn more about interactive tables.';\n",
       "          element.innerHTML = '';\n",
       "          dataTable['output_type'] = 'display_data';\n",
       "          await google.colab.output.renderOutput(dataTable, element);\n",
       "          const docLink = document.createElement('div');\n",
       "          docLink.innerHTML = docLinkHtml;\n",
       "          element.appendChild(docLink);\n",
       "        }\n",
       "      </script>\n",
       "    </div>\n",
       "  </div>\n",
       "  "
      ],
      "text/plain": [
       "     yhat\n",
       "157  1.55\n",
       "158  1.63\n",
       "159  1.66\n",
       "160  1.62\n",
       "161  1.55\n",
       "162  1.51\n",
       "163  1.55\n",
       "164  1.63\n",
       "165  1.70\n",
       "166  1.74\n",
       "167  1.76\n",
       "168  1.78"
      ]
     },
     "execution_count": 22,
     "metadata": {},
     "output_type": "execute_result"
    }
   ],
   "source": [
    "test_yhat_con_price = forecast_con_price.query('\"2018-01-07\" <= ds <= \"2018-03-25\"')\n",
    "test_yhat_con_price = test_yhat_con_price[['yhat']]\n",
    "pd.options.display.float_format = \"{:,.2f}\".format\n",
    "test_yhat_con_price"
   ]
  },
  {
   "cell_type": "code",
   "execution_count": null,
   "metadata": {
    "colab": {
     "base_uri": "https://localhost:8080/",
     "height": 426
    },
    "executionInfo": {
     "elapsed": 9,
     "status": "ok",
     "timestamp": 1652163342894,
     "user": {
      "displayName": "Son Luc Cam",
      "userId": "01778600856537737107"
     },
     "user_tz": -420
    },
    "id": "bZtzLNV3G_Wc",
    "outputId": "b55721b8-b1ec-4785-bd2b-c772ca6d662f"
   },
   "outputs": [
    {
     "data": {
      "text/html": [
       "\n",
       "  <div id=\"df-a22d0dff-960c-421b-8791-cd2acf37cfaa\">\n",
       "    <div class=\"colab-df-container\">\n",
       "      <div>\n",
       "<style scoped>\n",
       "    .dataframe tbody tr th:only-of-type {\n",
       "        vertical-align: middle;\n",
       "    }\n",
       "\n",
       "    .dataframe tbody tr th {\n",
       "        vertical-align: top;\n",
       "    }\n",
       "\n",
       "    .dataframe thead th {\n",
       "        text-align: right;\n",
       "    }\n",
       "</style>\n",
       "<table border=\"1\" class=\"dataframe\">\n",
       "  <thead>\n",
       "    <tr style=\"text-align: right;\">\n",
       "      <th></th>\n",
       "      <th>AveragePrice</th>\n",
       "    </tr>\n",
       "  </thead>\n",
       "  <tbody>\n",
       "    <tr>\n",
       "      <th>8814</th>\n",
       "      <td>1.34</td>\n",
       "    </tr>\n",
       "    <tr>\n",
       "      <th>8815</th>\n",
       "      <td>1.43</td>\n",
       "    </tr>\n",
       "    <tr>\n",
       "      <th>8816</th>\n",
       "      <td>1.35</td>\n",
       "    </tr>\n",
       "    <tr>\n",
       "      <th>8817</th>\n",
       "      <td>1.23</td>\n",
       "    </tr>\n",
       "    <tr>\n",
       "      <th>8818</th>\n",
       "      <td>1.30</td>\n",
       "    </tr>\n",
       "    <tr>\n",
       "      <th>8819</th>\n",
       "      <td>1.24</td>\n",
       "    </tr>\n",
       "    <tr>\n",
       "      <th>8820</th>\n",
       "      <td>1.27</td>\n",
       "    </tr>\n",
       "    <tr>\n",
       "      <th>8821</th>\n",
       "      <td>1.28</td>\n",
       "    </tr>\n",
       "    <tr>\n",
       "      <th>8822</th>\n",
       "      <td>1.20</td>\n",
       "    </tr>\n",
       "    <tr>\n",
       "      <th>8823</th>\n",
       "      <td>1.27</td>\n",
       "    </tr>\n",
       "    <tr>\n",
       "      <th>8824</th>\n",
       "      <td>1.67</td>\n",
       "    </tr>\n",
       "    <tr>\n",
       "      <th>8825</th>\n",
       "      <td>1.67</td>\n",
       "    </tr>\n",
       "  </tbody>\n",
       "</table>\n",
       "</div>\n",
       "      <button class=\"colab-df-convert\" onclick=\"convertToInteractive('df-a22d0dff-960c-421b-8791-cd2acf37cfaa')\"\n",
       "              title=\"Convert this dataframe to an interactive table.\"\n",
       "              style=\"display:none;\">\n",
       "        \n",
       "  <svg xmlns=\"http://www.w3.org/2000/svg\" height=\"24px\"viewBox=\"0 0 24 24\"\n",
       "       width=\"24px\">\n",
       "    <path d=\"M0 0h24v24H0V0z\" fill=\"none\"/>\n",
       "    <path d=\"M18.56 5.44l.94 2.06.94-2.06 2.06-.94-2.06-.94-.94-2.06-.94 2.06-2.06.94zm-11 1L8.5 8.5l.94-2.06 2.06-.94-2.06-.94L8.5 2.5l-.94 2.06-2.06.94zm10 10l.94 2.06.94-2.06 2.06-.94-2.06-.94-.94-2.06-.94 2.06-2.06.94z\"/><path d=\"M17.41 7.96l-1.37-1.37c-.4-.4-.92-.59-1.43-.59-.52 0-1.04.2-1.43.59L10.3 9.45l-7.72 7.72c-.78.78-.78 2.05 0 2.83L4 21.41c.39.39.9.59 1.41.59.51 0 1.02-.2 1.41-.59l7.78-7.78 2.81-2.81c.8-.78.8-2.07 0-2.86zM5.41 20L4 18.59l7.72-7.72 1.47 1.35L5.41 20z\"/>\n",
       "  </svg>\n",
       "      </button>\n",
       "      \n",
       "  <style>\n",
       "    .colab-df-container {\n",
       "      display:flex;\n",
       "      flex-wrap:wrap;\n",
       "      gap: 12px;\n",
       "    }\n",
       "\n",
       "    .colab-df-convert {\n",
       "      background-color: #E8F0FE;\n",
       "      border: none;\n",
       "      border-radius: 50%;\n",
       "      cursor: pointer;\n",
       "      display: none;\n",
       "      fill: #1967D2;\n",
       "      height: 32px;\n",
       "      padding: 0 0 0 0;\n",
       "      width: 32px;\n",
       "    }\n",
       "\n",
       "    .colab-df-convert:hover {\n",
       "      background-color: #E2EBFA;\n",
       "      box-shadow: 0px 1px 2px rgba(60, 64, 67, 0.3), 0px 1px 3px 1px rgba(60, 64, 67, 0.15);\n",
       "      fill: #174EA6;\n",
       "    }\n",
       "\n",
       "    [theme=dark] .colab-df-convert {\n",
       "      background-color: #3B4455;\n",
       "      fill: #D2E3FC;\n",
       "    }\n",
       "\n",
       "    [theme=dark] .colab-df-convert:hover {\n",
       "      background-color: #434B5C;\n",
       "      box-shadow: 0px 1px 3px 1px rgba(0, 0, 0, 0.15);\n",
       "      filter: drop-shadow(0px 1px 2px rgba(0, 0, 0, 0.3));\n",
       "      fill: #FFFFFF;\n",
       "    }\n",
       "  </style>\n",
       "\n",
       "      <script>\n",
       "        const buttonEl =\n",
       "          document.querySelector('#df-a22d0dff-960c-421b-8791-cd2acf37cfaa button.colab-df-convert');\n",
       "        buttonEl.style.display =\n",
       "          google.colab.kernel.accessAllowed ? 'block' : 'none';\n",
       "\n",
       "        async function convertToInteractive(key) {\n",
       "          const element = document.querySelector('#df-a22d0dff-960c-421b-8791-cd2acf37cfaa');\n",
       "          const dataTable =\n",
       "            await google.colab.kernel.invokeFunction('convertToInteractive',\n",
       "                                                     [key], {});\n",
       "          if (!dataTable) return;\n",
       "\n",
       "          const docLinkHtml = 'Like what you see? Visit the ' +\n",
       "            '<a target=\"_blank\" href=https://colab.research.google.com/notebooks/data_table.ipynb>data table notebook</a>'\n",
       "            + ' to learn more about interactive tables.';\n",
       "          element.innerHTML = '';\n",
       "          dataTable['output_type'] = 'display_data';\n",
       "          await google.colab.output.renderOutput(dataTable, element);\n",
       "          const docLink = document.createElement('div');\n",
       "          docLink.innerHTML = docLinkHtml;\n",
       "          element.appendChild(docLink);\n",
       "        }\n",
       "      </script>\n",
       "    </div>\n",
       "  </div>\n",
       "  "
      ],
      "text/plain": [
       "      AveragePrice\n",
       "8814          1.34\n",
       "8815          1.43\n",
       "8816          1.35\n",
       "8817          1.23\n",
       "8818          1.30\n",
       "8819          1.24\n",
       "8820          1.27\n",
       "8821          1.28\n",
       "8822          1.20\n",
       "8823          1.27\n",
       "8824          1.67\n",
       "8825          1.67"
      ]
     },
     "execution_count": 23,
     "metadata": {},
     "output_type": "execute_result"
    }
   ],
   "source": [
    "test_con_price = NY_test.query('type == \"conventional\"')\n",
    "test_con_price = test_con_price[[\"AveragePrice\"]]\n",
    "test_con_price"
   ]
  },
  {
   "cell_type": "code",
   "execution_count": null,
   "metadata": {
    "colab": {
     "base_uri": "https://localhost:8080/"
    },
    "executionInfo": {
     "elapsed": 499,
     "status": "ok",
     "timestamp": 1652163344830,
     "user": {
      "displayName": "Son Luc Cam",
      "userId": "01778600856537737107"
     },
     "user_tz": -420
    },
    "id": "hDpctuPoMlNz",
    "outputId": "9d3a2cbc-8ba9-480d-cf83-267d3055c967"
   },
   "outputs": [
    {
     "data": {
      "text/plain": [
       "0.09728052995855513"
      ]
     },
     "execution_count": 24,
     "metadata": {},
     "output_type": "execute_result"
    }
   ],
   "source": [
    "from sklearn.metrics import mean_squared_error\n",
    "mean_squared_error(test_con_price, test_yhat_con_price)"
   ]
  },
  {
   "cell_type": "code",
   "execution_count": null,
   "metadata": {
    "colab": {
     "base_uri": "https://localhost:8080/"
    },
    "executionInfo": {
     "elapsed": 8,
     "status": "ok",
     "timestamp": 1652163345323,
     "user": {
      "displayName": "Son Luc Cam",
      "userId": "01778600856537737107"
     },
     "user_tz": -420
    },
    "id": "P_iEJtFGOrAH",
    "outputId": "48431064-5c9d-4f69-df7d-a660a34c3eff"
   },
   "outputs": [
    {
     "data": {
      "text/plain": [
       "0.31189826860461267"
      ]
     },
     "execution_count": 25,
     "metadata": {},
     "output_type": "execute_result"
    }
   ],
   "source": [
    "from sklearn.metrics import mean_squared_error\n",
    "mean_squared_error(test_con_price, test_yhat_con_price, squared=False)"
   ]
  },
  {
   "cell_type": "code",
   "execution_count": null,
   "metadata": {
    "colab": {
     "base_uri": "https://localhost:8080/"
    },
    "executionInfo": {
     "elapsed": 584,
     "status": "ok",
     "timestamp": 1652163347068,
     "user": {
      "displayName": "Son Luc Cam",
      "userId": "01778600856537737107"
     },
     "user_tz": -420
    },
    "id": "_Bj0oI1nNU-5",
    "outputId": "31945a82-93be-4ca6-e87f-ad6017acd417"
   },
   "outputs": [
    {
     "data": {
      "text/plain": [
       "0.2869915627428208"
      ]
     },
     "execution_count": 26,
     "metadata": {},
     "output_type": "execute_result"
    }
   ],
   "source": [
    "from sklearn.metrics import mean_absolute_error\n",
    "mean_absolute_error(test_con_price, test_yhat_con_price)"
   ]
  },
  {
   "cell_type": "code",
   "execution_count": null,
   "metadata": {
    "id": "kN4utO-zPC-Q"
   },
   "outputs": [],
   "source": []
  }
 ],
 "metadata": {
  "accelerator": "GPU",
  "colab": {
   "authorship_tag": "ABX9TyNZeuzZMXyr4ob+MqGM467h",
   "collapsed_sections": [],
   "mount_file_id": "1dbJJcys02kQNt7AWN2Ujm2pdCyP_7ZyY",
   "name": "Predict on avocado market in NewYork by SARIMA.ipynb",
   "provenance": []
  },
  "kernelspec": {
   "display_name": "Python 3 (ipykernel)",
   "language": "python",
   "name": "python3"
  },
  "language_info": {
   "codemirror_mode": {
    "name": "ipython",
    "version": 3
   },
   "file_extension": ".py",
   "mimetype": "text/x-python",
   "name": "python",
   "nbconvert_exporter": "python",
   "pygments_lexer": "ipython3",
   "version": "3.8.12"
  }
 },
 "nbformat": 4,
 "nbformat_minor": 1
}
